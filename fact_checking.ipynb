{
 "cells": [
  {
   "cell_type": "markdown",
   "metadata": {
    "id": "3GM9DBN-Qz3k"
   },
   "source": [
    "# Fact checking, Neural Languange Inference (**NLI**)"
   ]
  },
  {
   "cell_type": "markdown",
   "metadata": {
    "id": "tO_-4CZeRCO7"
   },
   "source": [
    "# Intro\n",
    "\n",
    "This assignment is centred on a particular and emerging NLP task, formally known as **fact checking** (or fake checking). As AI techniques become more and more powerful, reaching amazing results, such as image and text generation, it is more than ever necessary to build tools able to distinguish what is real from what is fake.\n",
    "\n",
    "Here we focus on a small portion of the whole fact checking problem, which aims to determine whether a given statement (fact) conveys a trustworthy information or not. \n",
    "\n",
    "More precisely, given a set of evidences and a fact to verify, we would like our model to correctly predict whether the fact is true or fake.\n",
    "\n",
    "In particular, we will see:\n",
    "\n",
    "*   Dataset preparation (analysis and pre-processing)\n",
    "*   Problem formulation: multi-input binary classification\n",
    "*   Defining an evaluation method\n",
    "*   Simple sentence embedding\n",
    "*   Neural building blocks\n",
    "*   Neural architecture extension"
   ]
  },
  {
   "cell_type": "markdown",
   "metadata": {
    "id": "w9NJX9RRXQFi"
   },
   "source": [
    "## Environment setup\n",
    "The necessary libraries are imported: in particular, we chose PyTorch as deep learning framework."
   ]
  },
  {
   "cell_type": "code",
   "execution_count": 1,
   "metadata": {
    "colab": {
     "base_uri": "https://localhost:8080/"
    },
    "id": "FIUszAsDXZio",
    "outputId": "ae34943e-b918-4ede-e7ed-cf63c064230b"
   },
   "outputs": [
    {
     "name": "stdout",
     "output_type": "stream",
     "text": [
      "[nltk_data] Downloading package punkt to /root/nltk_data...\n",
      "[nltk_data]   Unzipping tokenizers/punkt.zip.\n",
      "[nltk_data] Downloading package stopwords to /root/nltk_data...\n",
      "[nltk_data]   Unzipping corpora/stopwords.zip.\n",
      "using this device: cuda:0\n"
     ]
    }
   ],
   "source": [
    "# System packages\n",
    "import os\n",
    "import sys\n",
    "import glob\n",
    "import random\n",
    "from time import time\n",
    "import re\n",
    "import gc\n",
    "\n",
    "# Data and numerical management packages\n",
    "import pandas as pd\n",
    "import numpy as np\n",
    "from scipy.sparse import lil_matrix\n",
    "\n",
    "# PyTorch's relevant modules\n",
    "import torch\n",
    "import torch.nn as nn\n",
    "import torch.nn.functional as F\n",
    "import torch.optim as optim\n",
    "\n",
    "# Natural language utilities\n",
    "import nltk\n",
    "from nltk.corpus import stopwords\n",
    "import gensim\n",
    "import gensim.downloader as gloader\n",
    "\n",
    "# Abstract classes\n",
    "from abc import ABC, abstractmethod\n",
    "\n",
    "# Plotting utility\n",
    "%matplotlib inline\n",
    "from matplotlib import pyplot as plt\n",
    "from IPython.display import Image \n",
    "\n",
    "# Metrics\n",
    "from sklearn.metrics import accuracy_score, f1_score, recall_score, precision_score\n",
    "from sklearn.metrics.pairwise import cosine_similarity\n",
    "\n",
    "# Other tools\n",
    "from urllib import request\n",
    "import zipfile\n",
    "from tqdm.notebook import tqdm\n",
    "from itertools import zip_longest\n",
    "from collections import OrderedDict, Counter\n",
    "from scipy.sparse import coo_matrix\n",
    "import string\n",
    "\n",
    "# Type hint\n",
    "from typing import Optional, Callable, Tuple, Dict, List, Union\n",
    "\n",
    "nltk.download('punkt')\n",
    "nltk.download('stopwords')\n",
    "\n",
    "# automatic mixed precision training:\n",
    "from torch.cuda.amp import autocast \n",
    "from torch.cuda.amp import GradScaler\n",
    "\n",
    "# Use GPU acceleration if possible\n",
    "DEVICE = torch.device('cuda:0' if torch.cuda.is_available() else 'cpu')\n",
    "print(\"using this device:\", DEVICE)\n",
    "\n",
    "if not(torch.cuda.is_available()):\n",
    "  raise Exception(\"switch to runtime GPU, otherwise the code won't work properly\")"
   ]
  },
  {
   "cell_type": "markdown",
   "metadata": {
    "id": "nncZzDmDXdq_"
   },
   "source": [
    "We fix a global seed in order to ensure reproducibility."
   ]
  },
  {
   "cell_type": "code",
   "execution_count": 2,
   "metadata": {
    "id": "F5WFD8tCXf8c"
   },
   "outputs": [],
   "source": [
    "# Set seed for reproducibility\n",
    "def fix_random(seed: int):\n",
    "    np.random.seed(seed)\n",
    "    torch.manual_seed(seed)\n",
    "    torch.cuda.manual_seed(seed)\n",
    "    torch.backends.cudnn.benchmark = False\n",
    "    torch.backends.cudnn.deterministic = True\n",
    "\n",
    "fix_random(42)"
   ]
  },
  {
   "cell_type": "markdown",
   "metadata": {
    "id": "N07uvOvKXhR2"
   },
   "source": [
    "Then, we define a token for padding."
   ]
  },
  {
   "cell_type": "code",
   "execution_count": 3,
   "metadata": {
    "id": "Su0LRPpRXjqx"
   },
   "outputs": [],
   "source": [
    "# Define padding tag\n",
    "PAD = '<PAD>'"
   ]
  },
  {
   "cell_type": "markdown",
   "metadata": {
    "id": "O2AX9A29XlED"
   },
   "source": [
    "Finally, we define some utility lambda functions."
   ]
  },
  {
   "cell_type": "code",
   "execution_count": 4,
   "metadata": {
    "id": "1qlmyp5xXlZe"
   },
   "outputs": [],
   "source": [
    "# Lambda for computing the mean of a list\n",
    "mean: Callable[[List[float]], float] = lambda l: sum(l) / len(l)\n",
    "\n",
    "# Lambda for transforming a list of tuples into a tuple of lists\n",
    "to_tuple_of_lists: Callable[[List[Tuple]], Tuple[List]] = lambda list_of_tuples: tuple(map(list, zip(*list_of_tuples)))\n",
    "\n",
    "# Lambda for transforming a tuple of lists into a list of tuples\n",
    "to_list_of_tuples: Callable[[Tuple[List]], List[Tuple]] = lambda tuple_of_lists: list(zip(*tuple_of_lists))\n",
    "\n",
    "# Lambda for iterating with batches (if the length of the sequences does not match with the batch size, tuples of empty lists are appended)\n",
    "batch_iteration: Callable[[List[Tuple]], zip] = lambda data, batch_size: zip_longest(*[iter(data)] * batch_size, fillvalue=([], [], ''))"
   ]
  },
  {
   "cell_type": "markdown",
   "metadata": {
    "id": "hGDwg78PS_uy"
   },
   "source": [
    "# The FEVER dataset\n",
    "\n",
    "First of all, we need to choose a dataset. In this assignment we will rely on the [FEVER dataset](https://fever.ai).\n",
    "\n",
    "The dataset is about facts taken from Wikipedia documents that have to be verified. In particular, facts could face manual modifications in order to define fake information or to give different formulations of the same concept.\n",
    "\n",
    "The dataset consists of 185,445 claims manually verified against the introductory sections of Wikipedia pages and classified as ```Supported```, ```Refuted``` or ```NotEnoughInfo```. For the first two classes, systems and annotators need to also return the combination of sentences forming the necessary evidence supporting or refuting the claim."
   ]
  },
  {
   "cell_type": "markdown",
   "metadata": {
    "id": "4Oa5FpVpT7p4"
   },
   "source": [
    "## Dataset structure\n",
    "\n",
    "Relevant data is divided into two file types. Information concerning the fact to verify, its verdict and associated supporting/opposing statements are stored in **.jsonl** format. In particular, each JSON element is a python dictionary with the following relevant fields:\n",
    "\n",
    "*    **ID**: ID associated to the fact to verify.\n",
    "\n",
    "*    **Verifiable**: whether the fact has been verified or not: ```VERIFIABLE``` or ```NOT VERIFIABLE```.\n",
    "    \n",
    "*    **Label**: the final verdict on the fact to verify: ```SUPPORTS```, ```REFUTES``` or ```NOT ENOUGH INFO```.\n",
    "    \n",
    "*    **Claim**: the fact to verify.\n",
    "    \n",
    "*    **Evidence**: a nested list of document IDs along with the sentence ID that is associated to the fact to verify. In particular, each list element is a tuple of four elements: the first two are internal annotator IDs that can be safely ignored; the third term is the document ID (called URL) and the last one is the sentence number (ID) in the pointed document to consider.\n",
    "\n",
    "**Some Examples**\n",
    "\n",
    "---\n",
    "\n",
    "**Verifiable**\n",
    "\n",
    "{\"id\": 202314, \"verifiable\": \"VERIFIABLE\", \"label\": \"REFUTES\", \"claim\": \"The New Jersey Turnpike has zero shoulders.\", \"evidence\": [[[238335, 240393, \"New_Jersey_Turnpike\", 15]]]}\n",
    "\n",
    "---\n",
    "\n",
    "**Not Verifiable**\n",
    "\n",
    "{\"id\": 113501, \"verifiable\": \"NOT VERIFIABLE\", \"label\": \"NOT ENOUGH INFO\", \"claim\": \"Grease had bad reviews.\", \"evidence\": [[[133128, null, null, null]]]}\n",
    "\n",
    "---"
   ]
  },
  {
   "cell_type": "markdown",
   "metadata": {
    "id": "nex_8UM4VWuY"
   },
   "source": [
    "## Some simplifications and pre-processing\n",
    "\n",
    "We are only interested in verifiable facts. Thus, we can filter out all non-verifiable claims.\n",
    "\n",
    "Additionally, the current dataset format does not contain all necessary information for our classification purposes. In particular, we need to download Wikipedia documents and replace reported evidence IDs with the corresponding text.\n",
    "\n",
    "Don't worry about that! We are providing you the already pre-processed dataset so that you can concentrate on the classification pipeline (pre-processing, model definition, evaluation and training).\n",
    "\n",
    "You can download the zip file containing all set splits (train, validation and test) of the FEVER dataset by clicking on this [link](https://drive.google.com/file/d/1wArZhF9_SHW17WKNGeLmX-QTYw9Zscl1/view?usp=sharing). Alternatively, run the below code cell to automatically download it on this notebook.\n",
    "\n",
    "**Note**: each dataset split is in .csv format. Feel free to inspect the whole dataset!"
   ]
  },
  {
   "cell_type": "code",
   "execution_count": 5,
   "metadata": {
    "colab": {
     "base_uri": "https://localhost:8080/"
    },
    "id": "BspxZcRjW0NG",
    "outputId": "c3bebcf5-b4a5-497c-a449-bbb78cdcfcaa"
   },
   "outputs": [
    {
     "name": "stdout",
     "output_type": "stream",
     "text": [
      "Downloading FEVER data splits...\n",
      "Download completed!\n",
      "Extracting dataset...\n",
      "Extraction completed!\n"
     ]
    }
   ],
   "source": [
    "import os\n",
    "import requests\n",
    "import zipfile\n",
    "\n",
    "def save_response_content(response, destination):\n",
    "    CHUNK_SIZE = 32768\n",
    "\n",
    "    with open(destination, \"wb\") as f:\n",
    "        for chunk in response.iter_content(CHUNK_SIZE):\n",
    "            if chunk: # filter out keep-alive new chunks\n",
    "                f.write(chunk)\n",
    "\n",
    "def download_data(data_path):\n",
    "    toy_data_path = os.path.join(data_path, 'fever_data.zip')\n",
    "    toy_data_url_id = \"1wArZhF9_SHW17WKNGeLmX-QTYw9Zscl1\"\n",
    "    toy_url = \"https://docs.google.com/uc?export=download\"\n",
    "\n",
    "    if not os.path.exists(data_path):\n",
    "        os.makedirs(data_path)\n",
    "\n",
    "    if not os.path.exists(toy_data_path):\n",
    "        print(\"Downloading FEVER data splits...\")\n",
    "        with requests.Session() as current_session:\n",
    "            response = current_session.get(toy_url,\n",
    "                                   params={'id': toy_data_url_id},\n",
    "                                   stream=True)\n",
    "        save_response_content(response, toy_data_path)\n",
    "        print(\"Download completed!\")\n",
    "\n",
    "        print(\"Extracting dataset...\")\n",
    "        with zipfile.ZipFile(toy_data_path) as loaded_zip:\n",
    "            loaded_zip.extractall(data_path)\n",
    "        print(\"Extraction completed!\")\n",
    "\n",
    "download_data('dataset')"
   ]
  },
  {
   "cell_type": "markdown",
   "metadata": {
    "id": "ftJQBTQAlsmE"
   },
   "source": [
    "## Data analysis\n",
    "Then, we load the dataset in a `pandas`'s `Dataframe` object."
   ]
  },
  {
   "cell_type": "code",
   "execution_count": 6,
   "metadata": {
    "colab": {
     "base_uri": "https://localhost:8080/",
     "height": 609
    },
    "id": "jZEr6TFgybmD",
    "outputId": "a92e99ce-b111-4946-bfd6-357eb50f3cac"
   },
   "outputs": [
    {
     "name": "stdout",
     "output_type": "stream",
     "text": [
      "Training set:\n"
     ]
    },
    {
     "data": {
      "text/html": [
       "<div>\n",
       "<style scoped>\n",
       "    .dataframe tbody tr th:only-of-type {\n",
       "        vertical-align: middle;\n",
       "    }\n",
       "\n",
       "    .dataframe tbody tr th {\n",
       "        vertical-align: top;\n",
       "    }\n",
       "\n",
       "    .dataframe thead th {\n",
       "        text-align: right;\n",
       "    }\n",
       "</style>\n",
       "<table border=\"1\" class=\"dataframe\">\n",
       "  <thead>\n",
       "    <tr style=\"text-align: right;\">\n",
       "      <th></th>\n",
       "      <th>Claim</th>\n",
       "      <th>Evidence</th>\n",
       "      <th>ID</th>\n",
       "      <th>Label</th>\n",
       "    </tr>\n",
       "  </thead>\n",
       "  <tbody>\n",
       "    <tr>\n",
       "      <th>0</th>\n",
       "      <td>Chris Hemsworth appeared in A Perfect Getaway.</td>\n",
       "      <td>2\\tHemsworth has also appeared in the science ...</td>\n",
       "      <td>3</td>\n",
       "      <td>SUPPORTS</td>\n",
       "    </tr>\n",
       "    <tr>\n",
       "      <th>1</th>\n",
       "      <td>Roald Dahl is a writer.</td>\n",
       "      <td>0\\tRoald Dahl -LRB- -LSB- langpronˈroʊ.əld _ ˈ...</td>\n",
       "      <td>7</td>\n",
       "      <td>SUPPORTS</td>\n",
       "    </tr>\n",
       "    <tr>\n",
       "      <th>2</th>\n",
       "      <td>Roald Dahl is a governor.</td>\n",
       "      <td>0\\tRoald Dahl -LRB- -LSB- langpronˈroʊ.əld _ ˈ...</td>\n",
       "      <td>8</td>\n",
       "      <td>REFUTES</td>\n",
       "    </tr>\n",
       "    <tr>\n",
       "      <th>3</th>\n",
       "      <td>Ireland has relatively low-lying mountains.</td>\n",
       "      <td>10\\tThe island 's geography comprises relative...</td>\n",
       "      <td>9</td>\n",
       "      <td>SUPPORTS</td>\n",
       "    </tr>\n",
       "    <tr>\n",
       "      <th>4</th>\n",
       "      <td>Ireland does not have relatively low-lying mou...</td>\n",
       "      <td>10\\tThe island 's geography comprises relative...</td>\n",
       "      <td>10</td>\n",
       "      <td>REFUTES</td>\n",
       "    </tr>\n",
       "  </tbody>\n",
       "</table>\n",
       "</div>"
      ],
      "text/plain": [
       "                                               Claim  ...     Label\n",
       "0     Chris Hemsworth appeared in A Perfect Getaway.  ...  SUPPORTS\n",
       "1                            Roald Dahl is a writer.  ...  SUPPORTS\n",
       "2                          Roald Dahl is a governor.  ...   REFUTES\n",
       "3        Ireland has relatively low-lying mountains.  ...  SUPPORTS\n",
       "4  Ireland does not have relatively low-lying mou...  ...   REFUTES\n",
       "\n",
       "[5 rows x 4 columns]"
      ]
     },
     "metadata": {
      "tags": []
     },
     "output_type": "display_data"
    },
    {
     "name": "stdout",
     "output_type": "stream",
     "text": [
      "Validation set:\n"
     ]
    },
    {
     "data": {
      "text/html": [
       "<div>\n",
       "<style scoped>\n",
       "    .dataframe tbody tr th:only-of-type {\n",
       "        vertical-align: middle;\n",
       "    }\n",
       "\n",
       "    .dataframe tbody tr th {\n",
       "        vertical-align: top;\n",
       "    }\n",
       "\n",
       "    .dataframe thead th {\n",
       "        text-align: right;\n",
       "    }\n",
       "</style>\n",
       "<table border=\"1\" class=\"dataframe\">\n",
       "  <thead>\n",
       "    <tr style=\"text-align: right;\">\n",
       "      <th></th>\n",
       "      <th>Claim</th>\n",
       "      <th>Evidence</th>\n",
       "      <th>ID</th>\n",
       "      <th>Label</th>\n",
       "    </tr>\n",
       "  </thead>\n",
       "  <tbody>\n",
       "    <tr>\n",
       "      <th>0</th>\n",
       "      <td>The Indian Army comprises part of the country'...</td>\n",
       "      <td>16\\tIt is an all-volunteer force and comprises...</td>\n",
       "      <td>98304</td>\n",
       "      <td>SUPPORTS</td>\n",
       "    </tr>\n",
       "    <tr>\n",
       "      <th>1</th>\n",
       "      <td>Recovery features Rihanna.</td>\n",
       "      <td>6\\tEminem also collaborated with artists such ...</td>\n",
       "      <td>98305</td>\n",
       "      <td>SUPPORTS</td>\n",
       "    </tr>\n",
       "    <tr>\n",
       "      <th>2</th>\n",
       "      <td>Rihanna is on Recovery.</td>\n",
       "      <td>6\\tEminem also collaborated with artists such ...</td>\n",
       "      <td>98306</td>\n",
       "      <td>SUPPORTS</td>\n",
       "    </tr>\n",
       "    <tr>\n",
       "      <th>3</th>\n",
       "      <td>Philomena was nominated.</td>\n",
       "      <td>8\\tThe film was nominated in four categories a...</td>\n",
       "      <td>27307</td>\n",
       "      <td>SUPPORTS</td>\n",
       "    </tr>\n",
       "    <tr>\n",
       "      <th>4</th>\n",
       "      <td>Vietnam is a mascot.</td>\n",
       "      <td>0\\tVietnam -LRB- ˌ ; -LSB- vîət nāːm -RSB- -RR...</td>\n",
       "      <td>98312</td>\n",
       "      <td>REFUTES</td>\n",
       "    </tr>\n",
       "  </tbody>\n",
       "</table>\n",
       "</div>"
      ],
      "text/plain": [
       "                                               Claim  ...     Label\n",
       "0  The Indian Army comprises part of the country'...  ...  SUPPORTS\n",
       "1                         Recovery features Rihanna.  ...  SUPPORTS\n",
       "2                            Rihanna is on Recovery.  ...  SUPPORTS\n",
       "3                           Philomena was nominated.  ...  SUPPORTS\n",
       "4                               Vietnam is a mascot.  ...   REFUTES\n",
       "\n",
       "[5 rows x 4 columns]"
      ]
     },
     "metadata": {
      "tags": []
     },
     "output_type": "display_data"
    },
    {
     "name": "stdout",
     "output_type": "stream",
     "text": [
      "Test set:\n"
     ]
    },
    {
     "data": {
      "text/html": [
       "<div>\n",
       "<style scoped>\n",
       "    .dataframe tbody tr th:only-of-type {\n",
       "        vertical-align: middle;\n",
       "    }\n",
       "\n",
       "    .dataframe tbody tr th {\n",
       "        vertical-align: top;\n",
       "    }\n",
       "\n",
       "    .dataframe thead th {\n",
       "        text-align: right;\n",
       "    }\n",
       "</style>\n",
       "<table border=\"1\" class=\"dataframe\">\n",
       "  <thead>\n",
       "    <tr style=\"text-align: right;\">\n",
       "      <th></th>\n",
       "      <th>Claim</th>\n",
       "      <th>Evidence</th>\n",
       "      <th>ID</th>\n",
       "      <th>Label</th>\n",
       "    </tr>\n",
       "  </thead>\n",
       "  <tbody>\n",
       "    <tr>\n",
       "      <th>0</th>\n",
       "      <td>Anxiety has been linked with physical symptoms.</td>\n",
       "      <td>13\\tFurthermore , anxiety has been linked with...</td>\n",
       "      <td>16387</td>\n",
       "      <td>SUPPORTS</td>\n",
       "    </tr>\n",
       "    <tr>\n",
       "      <th>1</th>\n",
       "      <td>Firefox is an application.</td>\n",
       "      <td>0\\tMozilla Firefox -LRB- or simply Firefox -RR...</td>\n",
       "      <td>6</td>\n",
       "      <td>SUPPORTS</td>\n",
       "    </tr>\n",
       "    <tr>\n",
       "      <th>2</th>\n",
       "      <td>Keegan-Michael Key played President Barack Oba...</td>\n",
       "      <td>6\\tIn 2015 , Key appeared at the White House C...</td>\n",
       "      <td>16392</td>\n",
       "      <td>SUPPORTS</td>\n",
       "    </tr>\n",
       "    <tr>\n",
       "      <th>3</th>\n",
       "      <td>Google Search can find stock quotes.</td>\n",
       "      <td>13\\tThese include synonyms , weather forecasts...</td>\n",
       "      <td>16394</td>\n",
       "      <td>SUPPORTS</td>\n",
       "    </tr>\n",
       "    <tr>\n",
       "      <th>4</th>\n",
       "      <td>A Good Day to Die Hard was directed solely by ...</td>\n",
       "      <td>1\\tThe film was directed by John Moore and wri...</td>\n",
       "      <td>98315</td>\n",
       "      <td>REFUTES</td>\n",
       "    </tr>\n",
       "  </tbody>\n",
       "</table>\n",
       "</div>"
      ],
      "text/plain": [
       "                                               Claim  ...     Label\n",
       "0    Anxiety has been linked with physical symptoms.  ...  SUPPORTS\n",
       "1                         Firefox is an application.  ...  SUPPORTS\n",
       "2  Keegan-Michael Key played President Barack Oba...  ...  SUPPORTS\n",
       "3               Google Search can find stock quotes.  ...  SUPPORTS\n",
       "4  A Good Day to Die Hard was directed solely by ...  ...   REFUTES\n",
       "\n",
       "[5 rows x 4 columns]"
      ]
     },
     "metadata": {
      "tags": []
     },
     "output_type": "display_data"
    }
   ],
   "source": [
    "df_train_toclean = pd.read_csv(os.path.join('dataset', 'train_pairs.csv'), index_col=0)\n",
    "df_val_toclean = pd.read_csv(os.path.join('dataset', 'val_pairs.csv'), index_col=0)\n",
    "df_test_toclean = pd.read_csv(os.path.join('dataset', 'test_pairs.csv'), index_col=0)\n",
    "\n",
    "# Show first rows\n",
    "print('Training set:')\n",
    "display(df_train_toclean.head())\n",
    "print('Validation set:')\n",
    "display(df_val_toclean.head())\n",
    "print('Test set:')\n",
    "display(df_test_toclean.head())"
   ]
  },
  {
   "cell_type": "code",
   "execution_count": 7,
   "metadata": {
    "colab": {
     "base_uri": "https://localhost:8080/"
    },
    "id": "L7ZLm5AJl_sI",
    "outputId": "b56c3fa3-9d60-4939-bf31-b1d6ec50b203"
   },
   "outputs": [
    {
     "name": "stdout",
     "output_type": "stream",
     "text": [
      "\n",
      "Claim: Chris Hemsworth appeared in A Perfect Getaway.\n",
      "Evidence: 2\tHemsworth has also appeared in the science fiction action film Star Trek -LRB- 2009 -RRB- , the thriller adventure A Perfect Getaway -LRB- 2009 -RRB- , the horror comedy The Cabin in the Woods -LRB- 2012 -RRB- , the dark-fantasy action film Snow White and the Huntsman -LRB- 2012 -RRB- , the war film Red Dawn -LRB- 2012 -RRB- , and the biographical sports drama film Rush -LRB- 2013 -RRB- .\tStar Trek\tStar Trek (film)\tA Perfect Getaway\tA Perfect Getaway\tThe Cabin in the Woods\tThe Cabin in the Woods\tSnow White and the Huntsman\tSnow White and the Huntsman\tRed Dawn\tRed Dawn (2012 film)\tRush\tRush (2013 film)\n",
      "Label: SUPPORTS\n",
      "\n",
      "Claim: Thirteen Reasons Why was published in 2007.\n",
      "Evidence: 0\tThirteen Reasons Why is a 2007 young adult novel written by Jay Asher .\tJay Asher\tJay Asher\tyoung adult novel\tyoung adult fiction\n",
      "Label: SUPPORTS\n",
      "\n",
      "Claim: The Belko Experiment was directed by Greg Mclean.\n",
      "Evidence: 0\tThe Belko Experiment is a 2016 American horror film directed by Greg McLean and written by James Gunn .\tGreg McLean\tGreg McLean\tJames Gunn\tJames Gunn\thorror film\thorror film\n",
      "Label: SUPPORTS\n",
      "\n",
      "Claim: Theodore Roosevelt attended Harvard College.\n",
      "Evidence: 8\tHome-schooled , he began a lifelong naturalist avocation before attending Harvard College .\tHarvard College\tHarvard College\n",
      "Label: SUPPORTS\n",
      "\n",
      "Claim: Queen Victoria was the daughter of Prince Edward the Duke of Kent and Strathearn.\n",
      "Evidence: 4\tVictoria was the daughter of Prince Edward , Duke of Kent and Strathearn , the fourth son of King George III .\tKing George III\tGeorge III of the United Kingdom\n",
      "Label: SUPPORTS\n",
      "\n",
      "Claim: Billy Ray Cyrus co-starred on a musical series with Miley Cyrus.\n",
      "Evidence: 20\tFrom 2006 to 2011 , he co-starred in the Disney Channel series Hannah Montana with his daughter Miley Cyrus .\tHannah Montana\tHannah Montana\tMiley Cyrus\tMiley Cyrus\tMontana\tMontana\tDisney Channel\tDisney Channel\n",
      "Label: SUPPORTS\n",
      "\n",
      "Claim: The 2016 Summer Olympics began in August.\n",
      "Evidence: 0\tThe 2016 Summer Olympics -LRB- Jogos Olímpicos de Verão de 2016 -RRB- , officially known as the Games of the XXXI Olympiad and commonly known as Rio 2016 , was a major international multi-sport event held in Rio de Janeiro , Brazil , from 5 August to 21 August 2016 .\tinternational\tinternational\tmulti-sport event\tmulti-sport event\tRio de Janeiro\tRio de Janeiro\tBrazil\tBrazil at the 2016 Summer Olympics\n",
      "Label: SUPPORTS\n",
      "\n",
      "Claim: Mike Pence is a Republican.\n",
      "Evidence: 7\tHe served as the chairman of the House Republican Conference from 2009 to 2011 .\tRepublican\tRepublican Party (United States)\tchairman\tRepublican Conference Chairman of the United States House of Representatives\tHouse Republican Conference\tHouse Republican Conference\n",
      "Label: SUPPORTS\n",
      "\n",
      "Claim: Dylan O'Brien is in a television show being released in 2018.\n",
      "Evidence: 2\tHe is set to reprise his role in the final installment , Maze Runner : The Death Cure , which , after some re-scheduling due to a serious on-set accident concerning O'Brien , is scheduled for a February 9 , 2018 release .\n",
      "Label: REFUTES\n",
      "\n",
      "Claim: Richard III of England was King of Paris.\n",
      "Evidence: 0\tRichard III -LRB- 2 October 1452 -- 22 August 1485 -RRB- was King of England from 1483 until his death in 1485 , at the age of 32 , in the Battle of Bosworth Field .\tKing of England\tKing of England\tBosworth Field\tBattle of Bosworth Field\tKing\tList of English monarchs\tEngland\tKingdom of England\tBattle of Bosworth Field\tBattle of Bosworth Field\tRichard III\tRichard III (play)\n",
      "Label: REFUTES\n"
     ]
    }
   ],
   "source": [
    "# Some examples of claim-evidence pairs:\n",
    "for i in range(0, 1000, 100):\n",
    "    print('\\nClaim:', df_train_toclean['Claim'][i])\n",
    "    print('Evidence:', df_train_toclean['Evidence'][i])\n",
    "    print('Label:', df_train_toclean['Label'][i])"
   ]
  },
  {
   "cell_type": "code",
   "execution_count": 8,
   "metadata": {
    "colab": {
     "base_uri": "https://localhost:8080/"
    },
    "id": "eGShuKfGlrIS",
    "outputId": "4a9149af-fe70-4b92-faf8-128151178f71"
   },
   "outputs": [
    {
     "name": "stdout",
     "output_type": "stream",
     "text": [
      "SUPPORTS    89389\n",
      "REFUTES     32351\n",
      "Name: Label, dtype: int64\n"
     ]
    }
   ],
   "source": [
    "# The data is imbalanced: dealt with it by using a weighted loss\n",
    "print(df_train_toclean['Label'].value_counts())"
   ]
  },
  {
   "cell_type": "markdown",
   "metadata": {
    "id": "y8pXihxQVDbQ"
   },
   "source": [
    "## Text cleaning\n",
    "\n",
    "There's still a problem: sometimes between round brackets there are useful information, like a date, or something useless like the word introducing how to write another word in a foreign language. In order to not miss information we must keep also the useless brackets and their content."
   ]
  },
  {
   "cell_type": "code",
   "execution_count": 9,
   "metadata": {
    "colab": {
     "base_uri": "https://localhost:8080/"
    },
    "id": "4cqBYUKfy5dp",
    "outputId": "6f99acba-d52a-414b-f29a-3cd2525e0b11"
   },
   "outputs": [
    {
     "name": "stdout",
     "output_type": "stream",
     "text": [
      "- document before cleaning:\n",
      "2\tHemsworth has also appeared in the science fiction action film Star Trek -LRB- 2009 -RRB- , the thriller adventure A Perfect Getaway -LRB- 2009 -RRB- , the horror comedy The Cabin in the Woods -LRB- 2012 -RRB- , the dark-fantasy action film Snow White and the Huntsman -LRB- 2012 -RRB- , the war film Red Dawn -LRB- 2012 -RRB- , and the biographical sports drama film Rush -LRB- 2013 -RRB- .\tStar Trek\tStar Trek (film)\tA Perfect Getaway\tA Perfect Getaway\tThe Cabin in the Woods\tThe Cabin in the Woods\tSnow White and the Huntsman\tSnow White and the Huntsman\tRed Dawn\tRed Dawn (2012 film)\tRush\tRush (2013 film)\n",
      "- same document after cleaning:\n",
      "Hemsworth has also appeared in the science fiction action film Star Trek  2009   the thriller adventure A Perfect Getaway  2009   the horror comedy The Cabin in the Woods  2012   the darkfantasy action film Snow White and the Huntsman  2012   the war film Red Dawn  2012   and the biographical sports drama film Rush  2013   \n",
      "\n",
      "- document before cleaning:\n",
      "10\tThe island 's geography comprises relatively low-lying mountains surrounding a central plain , with several navigable rivers extending inland .\tisland\tisland\tgeography\tgeography\tseveral navigable rivers\tRivers of Ireland\n",
      "- same document after cleaning:\n",
      "The island 's geography comprises relatively lowlying mountains surrounding a central plain  with several navigable rivers extending inland  \n",
      "\n",
      "- document before cleaning:\n",
      "16\tAfter suppressing a minor rebellion in Wales in 1276 -- 77 , Edward responded to a second rebellion in 1282 -- 83 with a full-scale war of conquest .\tfull-scale war of conquest\tConquest of Wales by Edward I\n",
      "- same document after cleaning:\n",
      "After suppressing a minor rebellion in Wales in 1276  77  Edward responded to a second rebellion in 1282  83 with a fullscale war of conquest  \n",
      "\n",
      "- document before cleaning:\n",
      "12\tIn 2009 , they released digitally remastered deluxe editions of their albums Paul 's Boutique , Check Your Head , Ill Communication and Hello Nasty .\tCheck Your Head\tCheck Your Head\tIll Communication\tIll Communication\tHello Nasty\tHello Nasty\n",
      "- same document after cleaning:\n",
      "In 2009  they released digitally remastered deluxe editions of their albums Paul 's Boutique  Check Your Head  Ill Communication and Hello Nasty  \n",
      "\n",
      "- document before cleaning:\n",
      "0\tGreece -LRB- Ελλάδα , -LSB- eˈlaða -RSB- -RRB- , officially the Hellenic Republic -LRB- Greek : Ελληνική Δημοκρατία , -LSB- eliniˈci ðimokraˈti.a -RSB- -RRB- , historically also known as Hellas -LRB- Ἑλλάς , -LSB- heˈlas -RSB- , modern pronunciation Ellás -RRB- , is a country in southeastern Europe , with a population of approximately 11 million as of 2015 .\tGreek\tGreek people\tsoutheastern Europe\tsoutheastern Europe\n",
      "- same document after cleaning:\n",
      "Greece    officially the Hellenic Republic  Greek    historically also known as Hellas   modern pronunciation   is a country in southeastern Europe  with a population of approximately 11 million as of 2015  \n",
      "\n",
      "- document before cleaning:\n",
      "18\tGreece 's rich historical legacy is reflected by its 18 UNESCO World Heritage Sites , among the most in Europe and the world .\tUNESCO World Heritage Sites\tList of World Heritage Sites in Southern Europe\tmost in Europe and the world\tTable of World Heritage Sites by country\n",
      "- same document after cleaning:\n",
      "Greece 's rich historical legacy is reflected by its 18 UNESCO World Heritage Sites  among the most in Europe and the world  \n",
      "\n",
      "- document before cleaning:\n",
      "22\tA founding member of the United Nations , Greece was the tenth member to join the European Communities -LRB- precursor to the European Union -RRB- and has been part of the Eurozone since 2001 .\tEuropean Union\tEuropean Union\tUnited Nations\tUnited Nations\tEuropean Communities\tEuropean Communities\tEurozone\tEurozone\n",
      "- same document after cleaning:\n",
      "A founding member of the United Nations  Greece was the tenth member to join the European Communities  precursor to the European Union  and has been part of the Eurozone since 2001  \n",
      "\n",
      "- document before cleaning:\n",
      "11\tLiverpool was the ninth highest-earning football club in the world for 2014 -- 15 , with an annual revenue of $ 391 million , and the world 's eighth most valuable football club in 2016 , valued at $ 1.55 billion .\tLiverpool\tLiverpool\tninth highest-earning\tDeloitte Football Money League\teighth most valuable\tForbes' list of the most valuable football clubs\n",
      "- same document after cleaning:\n",
      "Liverpool was the ninth highestearning football club in the world for 2014  15  with an annual revenue of  391 million  and the world 's eighth most valuable football club in 2016  valued at  155 billion  \n",
      "\n",
      "- document before cleaning:\n",
      "5\tStarr was twice afflicted by life-threatening illnesses during childhood , and as a result of prolonged hospitalisations fell behind in school .\n",
      "- same document after cleaning:\n",
      "Starr was twice afflicted by lifethreatening illnesses during childhood  and as a result of prolonged hospitalisations fell behind in school  \n",
      "\n",
      "- document before cleaning:\n",
      "16\tAmong Olivier 's films are Wuthering Heights -LRB- 1939 -RRB- , Rebecca -LRB- 1940 -RRB- , and a trilogy of Shakespeare films as actor-director : Henry V -LRB- 1944 -RRB- , Hamlet -LRB- 1948 -RRB- , and Richard III -LRB- 1955 -RRB- .\tRichard III\tRichard III (1955 film)\tWuthering Heights\tWuthering Heights (1939 film)\tRebecca\tRebecca (1940 film)\tHenry V\tHenry V (1944 film)\tHamlet\tHamlet (1948 film)\n",
      "- same document after cleaning:\n",
      "Among Olivier 's films are Wuthering Heights  1939   Rebecca  1940   and a trilogy of Shakespeare films as actordirector  Henry V  1944   Hamlet  1948   and Richard III  1955   \n",
      "\n",
      "- document before cleaning:\n",
      "6\tHe pitched the film to Pixar after the box office disappointment of his first feature , The Iron Giant -LRB- 1999 -RRB- , and carried over much of its staff to develop The Incredibles .\tThe Iron Giant\tThe Iron Giant\n",
      "- same document after cleaning:\n",
      "He pitched the film to Pixar after the box office disappointment of his first feature  The Iron Giant  1999   and carried over much of its staff to develop The Incredibles  \n",
      "\n",
      "- document before cleaning:\n",
      "0\tColombia -LRB- k -RRB- , is a sovereign state largely situated in the northwest of South America , with territories in Central America .\tsovereign state\tsovereign state\tSouth America\tSouth America\tterritories\tInsular region of Colombia\n",
      "- same document after cleaning:\n",
      "Colombia  k   is a sovereign state largely situated in the northwest of South America  with territories in Central America  \n",
      "\n",
      "- document before cleaning:\n",
      "7\tWhile working in a factory in 1944 as part of the war effort , she was introduced to a photographer from the First Motion Picture Unit and began a successful pin-up modeling career .\twar effort\tUnited States home front during World War II\tFirst Motion Picture Unit\tFirst Motion Picture Unit\n",
      "- same document after cleaning:\n",
      "While working in a factory in 1944 as part of the war effort  she was introduced to a photographer from the First Motion Picture Unit and began a successful pinup modeling career  \n",
      "\n",
      "- document before cleaning:\n",
      "6\tSons of Anarchy premiered on September 3 , 2008 , on cable network FX .\tFX\tFX (TV channel)\tcable network\tcable network\n",
      "- same document after cleaning:\n",
      "Sons of Anarchy premiered on September 3  2008  on cable network FX  \n",
      "\n",
      "- document before cleaning:\n",
      "8\tThe Empire of Japan aimed to dominate Asia and the Pacific and was already at war with the Republic of China in 1937 , but the world war is generally said to have begun on 1 September 1939 with the invasion of Poland by Nazi Germany and subsequent declarations of war on Germany by France and the United Kingdom .\tPacific\tPacific Ocean\tChina\tSecond Sino-Japanese War\tNazi Germany\tNazi Germany\tEmpire of Japan\tEmpire of Japan\tAsia\tAsia\tat war\tSecond Sino-Japanese War\tRepublic of China\tRepublic of China (1912–49)\tinvasion\tinvasion of Poland\tPoland\tSoviet invasion of Poland\tFrance\tFrench Third Republic\tUnited Kingdom\tUnited Kingdom\tJapan\tEmpire of Japan\n",
      "- same document after cleaning:\n",
      "The Empire of Japan aimed to dominate Asia and the Pacific and was already at war with the Republic of China in 1937  but the world war is generally said to have begun on 1 September 1939 with the invasion of Poland by Nazi Germany and subsequent declarations of war on Germany by France and the United Kingdom  \n",
      "\n",
      "- document before cleaning:\n",
      "15\tRadiohead self-released their seventh album , In Rainbows -LRB- 2007 -RRB- , as a download for which customers could set their own price , to critical and chart success .\tIn Rainbows\tIn Rainbows\tdownload\tmusic download\n",
      "- same document after cleaning:\n",
      "Radiohead selfreleased their seventh album  In Rainbows  2007   as a download for which customers could set their own price  to critical and chart success  \n",
      "\n",
      "- document before cleaning:\n",
      "0\tGlee is an American musical comedy-drama television series that aired on the Fox network in the United States from May 19 , 2009 , to March 20 , 2015 .\tFox\tFox Broadcasting Company\tcomedy-drama\tcomedy-drama\n",
      "- same document after cleaning:\n",
      "Glee is an American musical comedydrama television series that aired on the Fox network in the United States from May 19  2009  to March 20  2015  \n",
      "\n",
      "- document before cleaning:\n",
      "0\tCurly Top -LRB- 1935 -RRB- is an American musical film directed by Irving Cummings .\tIrving Cummings\tIrving Cummings\tmusical film\tmusical film\n",
      "- same document after cleaning:\n",
      "Curly Top  1935  is an American musical film directed by Irving Cummings  \n",
      "\n",
      "- document before cleaning:\n",
      "5\tThe series has received positive reviews since its premiere , receiving nominations for Best Television Series -- Drama at the 74th Golden Globe Awards and Best Drama Series at the 7th Critics ' Choice Awards , as well as being chosen as a Top Television Program by the American Film Institute .\t74th Golden Globe Awards\t74th Golden Globe Awards\tBest Drama Series\tCritics' Choice Television Award for Best Drama Series\tTop Television Program\tAmerican Film Institute Awards 2016#Top 10 Television Programs\tAmerican Film Institute\tAmerican Film Institute\tGolden Globe\tGolden Globe Awards\n",
      "- same document after cleaning:\n",
      "The series has received positive reviews since its premiere  receiving nominations for Best Television Series  Drama at the 74th Golden Globe Awards and Best Drama Series at the 7th Critics ' Choice Awards  as well as being chosen as a Top Television Program by the American Film Institute  \n",
      "\n",
      "- document before cleaning:\n",
      "17\tThe island 's government is closely modelled on the Westminster parliamentary system , and Mauritius is highly ranked for democracy and for economic and political freedom .\tMauritius\tMauritius Island\tWestminster parliamentary system\tWestminster parliamentary system\tdemocracy\tDemocracy Index\teconomic\tList of countries by economic freedom\tpolitical freedom\tFreedom in the World\n",
      "- same document after cleaning:\n",
      "The island 's government is closely modelled on the Westminster parliamentary system  and Mauritius is highly ranked for democracy and for economic and political freedom  \n",
      "\n",
      "- document before cleaning:\n",
      "0\tDoctor Who is a British science-fiction television programme produced by the BBC since 1963 .\tBritish\tBritish television science fiction\tscience-fiction television\tscience fiction on television\tBBC\tBBC\tDoctor Who\tDoctor Who (film)\n",
      "- same document after cleaning:\n",
      "Doctor Who is a British sciencefiction television programme produced by the BBC since 1963  \n",
      "\n",
      "- document before cleaning:\n",
      "1\tShe is known for her work in television comedy , including Saturday Night Live -LRB- 1982 -- 85 -RRB- , Seinfeld -LRB- 1989 -- 98 -RRB- , The New Adventures of Old Christine -LRB- 2006 -- 10 -RRB- , and Veep -LRB- 2012 -- present -RRB- .\tSaturday Night Live\tSaturday Night Live\tSeinfeld\tSeinfeld\tThe New Adventures of Old Christine\tThe New Adventures of Old Christine\tVeep\tVeep (TV series)\n",
      "- same document after cleaning:\n",
      "She is known for her work in television comedy  including Saturday Night Live  1982  85   Seinfeld  1989  98   The New Adventures of Old Christine  2006  10   and Veep  2012  present   \n",
      "\n",
      "- document before cleaning:\n",
      "1\tThe film stars Ben Affleck , Rosamund Pike , Neil Patrick Harris and Tyler Perry .\tBen Affleck\tBen Affleck\tRosamund Pike\tRosamund Pike\tNeil Patrick Harris\tNeil Patrick Harris\tTyler Perry\tTyler Perry\n",
      "- same document after cleaning:\n",
      "The film stars Ben Affleck  Rosamund Pike  Neil Patrick Harris and Tyler Perry  \n",
      "\n",
      "- document before cleaning:\n",
      "3\tIntroduced in 1996 's A Game of Thrones , Drogo is a khal , a leader of the Dothraki , a tribe of warriors who roam the continent of Essos .\tGame of Thrones\tGame of Thrones\tA Game of Thrones\tA Game of Thrones\tDothraki\tDothraki\tEssos\tEssos\n",
      "- same document after cleaning:\n",
      "Introduced in 1996 's A Game of Thrones  Drogo is a khal  a leader of the Dothraki  a tribe of warriors who roam the continent of Essos  \n",
      "\n",
      "- document before cleaning:\n",
      "0\tJesus -LRB- -LSB- ˈdʒiːzəs -RSB- ; c. 4 BC -- c. AD 30/33 -RRB- , also referred to as Jesus of Nazareth or Jesus Christ , was a Jewish preacher and religious leader who became the central figure of Christianity .\tNazareth\tNazareth\tJewish\tJews\tChristianity\tChristianity\tChrist\tChrist (title)\tAD\tAnno Domini\n",
      "- same document after cleaning:\n",
      "Jesus  c 4 BC  c AD 3033   also referred to as Jesus of Nazareth or Jesus Christ  was a Jewish preacher and religious leader who became the central figure of Christianity  \n",
      "\n",
      "- document before cleaning:\n",
      "15\tAmong the most noteworthy elements of the text are its non-linear plot , and the influence on events of choices made by women and slaves , besides the actions of fighting men .\tnon-linear\tNonlinear narrative\n",
      "- same document after cleaning:\n",
      "Among the most noteworthy elements of the text are its nonlinear plot  and the influence on events of choices made by women and slaves  besides the actions of fighting men  \n",
      "\n",
      "- document before cleaning:\n",
      "0\tLeBron Raymone James -LRB- -LSB- ləˈbrɒn -RSB- born December 30 , 1984 -RRB- is an American professional basketball player for the Cleveland Cavaliers of the National Basketball Association -LRB- NBA -RRB- .\tNBA\tNational Basketball Association\tCleveland Cavaliers\tCleveland Cavaliers\tbasketball\tbasketball\tNational Basketball Association\tNational Basketball Association\tCleveland\t2006–07 Cleveland Cavaliers season\n",
      "- same document after cleaning:\n",
      "LeBron Raymone James born December 30  1984  is an American professional basketball player for the Cleveland Cavaliers of the National Basketball Association  NBA   \n",
      "\n",
      "- document before cleaning:\n",
      "5\tHe is a World War II veteran .\tWorld War II\tWorld War II\n",
      "- same document after cleaning:\n",
      "He is a World War II veteran  \n",
      "\n",
      "- document before cleaning:\n",
      "2\tStephanie Daley was developed at the Sundance Writers ' and Filmmakers ' Lab , and premiered at the 2006 Sundance Film Festival , where it won the Waldo Salt Screenwriting Award .\t2006 Sundance Film Festival\t2006 Sundance Film Festival\n",
      "- same document after cleaning:\n",
      "Stephanie Daley was developed at the Sundance Writers ' and Filmmakers ' Lab  and premiered at the 2006 Sundance Film Festival  where it won the Waldo Salt Screenwriting Award  \n",
      "\n",
      "- document before cleaning:\n",
      "0\tThe Devil Wears Prada is a 2006 American comedy-drama film based on Lauren Weisberger 's 2003 novel of the same name .\tThe Devil Wears Prada\tThe Devil Wears Prada (novel)\tLauren Weisberger\tLauren Weisberger\tcomedy-drama film\tcomedy-drama\tnovel of the same name\tThe Devil Wears Prada (novel)\n",
      "- same document after cleaning:\n",
      "The Devil Wears Prada is a 2006 American comedydrama film based on Lauren Weisberger 's 2003 novel of the same name  \n",
      "\n",
      "- document before cleaning:\n",
      "7\tBefore becoming an actress , she started modeling and entered several beauty contests , finishing as the 1st runner-up in the Miss USA Pageant and coming in 6th place in the Miss World Pageant in 1986 .\tMiss USA\tMiss USA\tMiss World\tMiss World 1986\n",
      "- same document after cleaning:\n",
      "Before becoming an actress  she started modeling and entered several beauty contests  finishing as the 1st runnerup in the Miss USA Pageant and coming in 6th place in the Miss World Pageant in 1986  \n",
      "\n",
      "- document before cleaning:\n",
      "0\tCindy Lou Hensley McCain -LRB- born May 20 , 1954 -RRB- is an American businesswoman , philanthropist , and humanitarian , and the wife of long-time United States Senator and 2008 Republican presidential nominee John McCain of Arizona .\tJohn McCain\tJohn McCain\tRepublican\tRepublican Party (United States)\tbusinesswoman\tbusinessperson\tphilanthropist\tphilanthropist\thumanitarian\thumanitarian\tUnited States Senator\tUnited States Senator\tArizona\tArizona\n",
      "- same document after cleaning:\n",
      "Cindy Lou Hensley McCain  born May 20  1954  is an American businesswoman  philanthropist  and humanitarian  and the wife of longtime United States Senator and 2008 Republican presidential nominee John McCain of Arizona  \n",
      "\n",
      "- document before cleaning:\n",
      "18\tHer other notable performances include : Mauvais Sang -LRB- 1986 -RRB- , Les Amants du Pont-Neuf -LRB- 1991 -RRB- , Damage -LRB- 1992 -RRB- , The Horseman on the Roof -LRB- 1995 -RRB- , Code Unknown -LRB- 2000 -RRB- , Caché -LRB- 2005 -RRB- , Breaking and Entering -LRB- 2006 -RRB- , Flight of the Red Balloon -LRB- 2007 -RRB- , Camille Claudel 1915 -LRB- 2013 -RRB- and Clouds of Sils Maria -LRB- 2014 -RRB- .\tMauvais Sang\tMauvais Sang\tLes Amants du Pont-Neuf\tLes Amants du Pont-Neuf\tDamage\tDamage (1992 film)\tThe Horseman on the Roof\tThe Horseman on the Roof\tCode Unknown\tCode Unknown\tCaché\tCaché (2005 film)\tBreaking and Entering\tBreaking and Entering (film)\tFlight of the Red Balloon\tFlight of the Red Balloon\tCamille Claudel 1915\tCamille Claudel 1915\tClouds of Sils Maria\tClouds of Sils Maria\n",
      "- same document after cleaning:\n",
      "Her other notable performances include  Mauvais Sang  1986   Les Amants du PontNeuf  1991   Damage  1992   The Horseman on the Roof  1995   Code Unknown  2000    2005   Breaking and Entering  2006   Flight of the Red Balloon  2007   Camille Claudel 1915  2013  and Clouds of Sils Maria  2014   \n",
      "\n",
      "- document before cleaning:\n",
      "11\tThe branch participates in conflicts worldwide and is the major ground-based offensive and defensive force of the United States .\tUnited States\tUnited States\n",
      "- same document after cleaning:\n",
      "The branch participates in conflicts worldwide and is the major groundbased offensive and defensive force of the United States  \n",
      "\n"
     ]
    },
    {
     "data": {
      "text/plain": [
       "15"
      ]
     },
     "execution_count": 9,
     "metadata": {
      "tags": []
     },
     "output_type": "execute_result"
    }
   ],
   "source": [
    "########## used in the function \"process\" to remove words containing non-ASCII characters:\n",
    "def remove_non_ascii(sentence):\n",
    "    words = sentence.split()\n",
    "    cleaned_words = [word for word in words if not containsNonAscii(word)]\n",
    "    return ' '.join(cleaned_words)\n",
    "\n",
    "def containsNonAscii(s):\n",
    "    return any(ord(i) > 127 for i in s)\n",
    "########\n",
    "\n",
    "def process(document):\n",
    "    # Removing the \"Evidence ID\". It can have a variable number of digits. So:\n",
    "    document = re.sub('^\\d+\\s', '', document)\n",
    "\n",
    "    # Removing phonetic info between square brackets:\n",
    "    document = re.sub(' -LSB-[^-RSB-]*-RSB- ', '', document)\n",
    "\n",
    "    # Replace \"-LRB-\" and \"-RRB-\" respectively with \"(\" and \")\"\n",
    "    document = re.sub('-LRB-', '(', document)\n",
    "    document = re.sub('-RRB-', ')', document)\n",
    "\n",
    "    # Remove words containing non-ascii characters:\n",
    "    document = remove_non_ascii(document)\n",
    "\n",
    "    # Remove everything after the final point:\n",
    "    document = re.sub(' \\.\\s.*', ' .', document) \n",
    "    document = re.sub(' \\!\\s.*', ' .', document) \n",
    "    document = re.sub(' \\?\\s.*', ' .', document)\n",
    "\n",
    "    \n",
    "    # Remove punctuation marks:\n",
    "    document = re.sub('[\".,\\/#!$%\\^&\\*;:{}=\\-_`~()]', '', document)\n",
    "    \n",
    "    return document\n",
    "\n",
    "## apply processing to each evidence document, of each data set:\n",
    "df_train = df_train_toclean.copy(deep=True)\n",
    "df_val = df_val_toclean.copy(deep=True)\n",
    "df_test = df_test_toclean.copy(deep=True)\n",
    "df_train['Evidence'] = df_train_toclean['Evidence'].apply(process)\n",
    "df_val['Evidence'] = df_val_toclean['Evidence'].apply(process)\n",
    "df_test['Evidence'] = df_test_toclean['Evidence'].apply(process)\n",
    "\n",
    "#### viasualize result:\n",
    "for i in range(0, 100, 3):\n",
    "    print('- document before cleaning:')\n",
    "    print(df_train_toclean['Evidence'][i])\n",
    "    print('- same document after cleaning:')\n",
    "    print(df_train['Evidence'][i], '\\n')\n",
    "\n",
    "del df_train_toclean\n",
    "del df_val_toclean\n",
    "del df_test_toclean\n",
    "gc.collect()"
   ]
  },
  {
   "cell_type": "markdown",
   "metadata": {
    "id": "RbH_8errW5MH"
   },
   "source": [
    "# Classification dataset\n",
    "\n",
    "At this point, you should have a ready-to-go dataset! Note that the dataset format changed as well! In particular, we split the evidence set associated to each claim, in order to build (claim, evidence) pairs. The classification label is propagated as well.\n",
    "\n",
    "We'll motivate this decision in the next section!\n",
    "\n",
    "Just for clarity, here's an example of the pre-processed dataset:\n",
    "\n",
    "---\n",
    "\n",
    "**Claim**: \"Wentworth Miller is yet to make his screenwriting debut.\"\n",
    "\n",
    "**Evidence**: \"2\tHe made his screenwriting debut with the 2013 thriller film Stoker .\tStoker\tStoker (film)\"\n",
    "\n",
    "**Label**: Refutes\n",
    "\n",
    "---\n",
    "\n",
    "**Note**: The dataset requires some text cleaning as you may notice!\n"
   ]
  },
  {
   "cell_type": "markdown",
   "metadata": {
    "id": "gH8hIK21Xrl0"
   },
   "source": [
    "# Problem formulation\n",
    "\n",
    "As mentioned at the beginning of the assignment, we are going to formulate the fact checking problem as a binary classification task.\n",
    "\n",
    "In particular, each dataset sample is comprised of:\n",
    "\n",
    "*     A claim to verify\n",
    "*     A set of semantically related statements (evidence set)\n",
    "*     Fact checking label: either evidences _support_ or _refute_ the claim.\n",
    "\n",
    "Handling the evidence set from the point of view of neural models may imply some additional complexity: if the evidence set is comprised of several sentences we might incur in memory problems.\n",
    "\n",
    "To this end, we further simplify the problem by building (claim, evidence) pairs. The fact checking label is propagated as well.\n",
    "\n",
    "Example:\n",
    "\n",
    "     Claim: c1 \n",
    "     Evidence set: [e1, e2, e3]\n",
    "     Label: S (support)\n",
    "\n",
    "--->\n",
    "\n",
    "    (c1, e1, S),\n",
    "    (c1, e2, S),\n",
    "    (c1, e3, S)"
   ]
  },
  {
   "cell_type": "markdown",
   "metadata": {
    "id": "E46flIz_zQy-"
   },
   "source": [
    "## Schema\n",
    "\n",
    "The overall binary classification problem is summed up by the following (simplified) schema\n",
    "\n",
    "![](https://drive.google.com/uc?export=view&id=1Wm_YBnFwgJtxcWEBpPbTBEVkpKaL08Jp)\n",
    "\n",
    "Don't worry too much about the **Encoding** block for now. We'll give you some simple guidelines about its definition. For the moment, stick to the binary classification task definition where, in this case, we have 2 inputs: the claim to verify and one of its associated evidences."
   ]
  },
  {
   "cell_type": "markdown",
   "metadata": {
    "id": "LsiTV-NVdgsF"
   },
   "source": [
    "# Architecture Guidelines\n",
    "\n",
    "There are many neural architectures that follow the above schema. To avoid phenomena like the writer's block, in this section we are going to give you some implementation guidelines.\n",
    "\n",
    "In particular, we would like you to test some implementations so that you explore basic approaches (neural baselines) and use them as building blocks for possible extensions."
   ]
  },
  {
   "cell_type": "markdown",
   "metadata": {
    "id": "ZJBQm47fe7iE"
   },
   "source": [
    "## Handling multiple inputs\n",
    "\n",
    "The first thing to notice is that we are in a multi-input scenario. In particular, each sample is comprised of a fact and its associated evidence statement.\n",
    "\n",
    "Each of these input is encoded as a sequence of tokens. In particular, we will have the following input matrices:\n",
    "\n",
    "*    Claim: [batch_size, max_tokens]\n",
    "*    Evidence: [batch_size, max_tokens]\n",
    "\n",
    "Moreover, after the embedding layer, we'll have:\n",
    "\n",
    "*    Claim: [batch_size, max_tokens, embedding_dim]\n",
    "*    Evidence: [batch_size, max_tokens, embedding_dim]\n",
    "\n",
    "But, we would like to have a 2D input to our classifier, since we have to give an answer at pair level. Therefore, for each sample, we would expect the following input shape to our classification block:\n",
    "\n",
    "*   Classification input shape: [batch_size, dim]\n",
    "\n",
    "**How to do that?**\n",
    "\n",
    "We inherently need to reduce the token sequence to a single representation. This operation is formally known as **sentence embedding**. Indeed, we are trying to compress the information of a whole sequence into a single embedding vector.\n",
    "\n",
    "Here are some simple solutions that we ask you to try out:\n",
    "\n",
    "*   Encode token sequences via a RNN and take the last state as the sentence embedding. \n",
    "\n",
    "*   Encode token sequences via a RNN and average all the output states.\n",
    "\n",
    "*   Encode token sequences via a simple MLP layer. In particular, if your input is a [batch_size, max_tokens, embedding_dim] tensor, the matrix multiplication works on the **max_tokens** dimension, resulting in a [batch_size, embedding_dim] 2D matrix. \n",
    "\n",
    "*   Compute the sentence embedding as the mean of its token embeddings (**bag of vectors**)."
   ]
  },
  {
   "cell_type": "markdown",
   "metadata": {
    "id": "Gypl5z5ElJo1"
   },
   "source": [
    "## Merging multi-inputs\n",
    "\n",
    "At this point, we have to think about **how** we should merge evidence and claim sentence embeddings.\n",
    "\n",
    "For simplicity, we stick to simple merging strategies:\n",
    "\n",
    "*     **Concatenation**: define the classification input as the concatenation of evidence and claim sentence embeddings\n",
    "\n",
    "*     **Sum**: define the classification input as the sum of evidence and claim sentence embeddings\n",
    "\n",
    "*     **Mean**: define the classification input as the mean of evidence and claim sentence embeddings\n",
    "\n",
    "For clarity, if we the sentence embedding of a single input has shape [batch_size, embedding_dim], then the classification input has shape:\n",
    "\n",
    "*     **Concatenation**: [batch_size, 2 * embedding_dim]\n",
    "\n",
    "*     **Sum**: [batch_size, embedding_dim]\n",
    "\n",
    "*     **Mean**: [batch_size, embedding_dim]"
   ]
  },
  {
   "cell_type": "markdown",
   "metadata": {
    "id": "IhVg9ZLymOUc"
   },
   "source": [
    "## A simple extension\n",
    "\n",
    "Lastly, we ask you to modify previously defined neural architectures by adding an additional feature to the classification input.\n",
    "\n",
    "We would like to see if some similarity information between the claim to verify and one of its associated evidence might be useful to the classification.\n",
    "\n",
    "Compute the cosine similarity metric between the two sentence embeddings and concatenate the result to the classification input.\n",
    "\n",
    "For clarity, since the cosine similarity of two vectors outputs a scalar value, the classification input shape is modified as follows:\n",
    "\n",
    "*     **Concatenation**: [batch_size, 2 * embedding_dim + 1]\n",
    "\n",
    "*     **Sum**: [batch_size, embedding_dim + 1]\n",
    "\n",
    "*     **Mean**: [batch_size, embedding_dim + 1]\n",
    "\n"
   ]
  },
  {
   "cell_type": "markdown",
   "metadata": {
    "id": "BL8b1qmwW36w"
   },
   "source": [
    "# Word embeddings\n",
    "GloVe embedding is employed to represent the words in the corpus as vectors. In particular, 300 dimensions are chosen, since it's a good trade off between performance and memory footprint."
   ]
  },
  {
   "cell_type": "code",
   "execution_count": 10,
   "metadata": {
    "colab": {
     "base_uri": "https://localhost:8080/"
    },
    "id": "BT_yZuO6X2IY",
    "outputId": "130b8d68-556a-4549-bdf9-71647bfccfb5"
   },
   "outputs": [
    {
     "name": "stdout",
     "output_type": "stream",
     "text": [
      "Downloading GloVe model...\n",
      "[==================================================] 100.0% 376.1/376.1MB downloaded\n",
      "\n",
      "Download completed.\n"
     ]
    }
   ],
   "source": [
    "print('Downloading GloVe model...')\n",
    "emb_dim = 300\n",
    "glove_model = gloader.load('glove-wiki-gigaword-'+str(emb_dim))\n",
    "print('\\nDownload completed.')"
   ]
  },
  {
   "cell_type": "markdown",
   "metadata": {
    "id": "rxUUf7M2X3de"
   },
   "source": [
    "Word mappings and co-occurrence matrices (with window size = 3) are preventively produced in order to better handle OOV words in the following sections:\n",
    "- one vocabulary contains only the words from the training set, and it will be used to train the model;\n",
    "- one vocabulary contains the words from training and validation set, and it will be used to validate the model;\n",
    "- one vocabulary contains the words from the whole dataset (train + val + test), and it will be used to evaluate the final model."
   ]
  },
  {
   "cell_type": "code",
   "execution_count": 11,
   "metadata": {
    "colab": {
     "base_uri": "https://localhost:8080/",
     "height": 68,
     "referenced_widgets": [
      "906a21f461c244b29ad8a4a515b1c557",
      "774ca644d0974e168a8a95d89f7668dc",
      "2f880eb3ba4145c0ac9e82fcf648c541",
      "5e0a52fc390f4f7aaa6fa9c6d559531a",
      "8467efb5c54f42c688a76b512dbe0910",
      "d2789de6a3984888bcedb82dfb3542f8",
      "8058300f99f3439ebc66f162c8511d8f",
      "c19ce687e1c845c3b688e67170099f01",
      "6f513c0e46784f97ba0bd5f4d3889fb2",
      "24784d03a76941978c219b807cf300f4",
      "62be894079594d67b967dc185f3d01f6",
      "936e080bb2284db3829d29268fdc9861",
      "032dffaf97934642a72a7856a1478ff5",
      "8ee881bcaddc447e867116e908dc92ca",
      "1a8e3caef54140efbf0ce14a7a11d69b",
      "92d3f1c263d344ee9afcec806aa0a2bc",
      "52a5eab1acd44aceb59e9e4003a81178",
      "deb6fac824f04bef8a245cfa223cf523",
      "f42c5b9f84fa43ef981d1da8d49df09b",
      "21fc0936269244e1bdaa5ded8bcad783",
      "f28a8e61f5d74464ae61198aba7f84fa",
      "451c9229dcf54e4bacc629faf1f9e17b",
      "67d2978709e94daba91a0159d614d9c0",
      "e62bccdbb09947c9aa7fc0a51c38fd41"
     ]
    },
    "id": "RpCnGWa1X6rA",
    "outputId": "9579f46c-ee14-493e-81f5-5e13b08e2493"
   },
   "outputs": [
    {
     "data": {
      "application/vnd.jupyter.widget-view+json": {
       "model_id": "906a21f461c244b29ad8a4a515b1c557",
       "version_major": 2,
       "version_minor": 0
      },
      "text/plain": [
       "HBox(children=(FloatProgress(value=0.0, max=121740.0), HTML(value='')))"
      ]
     },
     "metadata": {
      "tags": []
     },
     "output_type": "display_data"
    },
    {
     "name": "stdout",
     "output_type": "stream",
     "text": [
      "\r",
      "Shape of co-occurrence matrix (training set): (38780, 38780)\n"
     ]
    },
    {
     "data": {
      "application/vnd.jupyter.widget-view+json": {
       "model_id": "6f513c0e46784f97ba0bd5f4d3889fb2",
       "version_major": 2,
       "version_minor": 0
      },
      "text/plain": [
       "HBox(children=(FloatProgress(value=0.0, max=7165.0), HTML(value='')))"
      ]
     },
     "metadata": {
      "tags": []
     },
     "output_type": "display_data"
    },
    {
     "name": "stdout",
     "output_type": "stream",
     "text": [
      "\r",
      "Shape of co-occurrence matrix (validation set): (40685, 40685)\n"
     ]
    },
    {
     "data": {
      "application/vnd.jupyter.widget-view+json": {
       "model_id": "52a5eab1acd44aceb59e9e4003a81178",
       "version_major": 2,
       "version_minor": 0
      },
      "text/plain": [
       "HBox(children=(FloatProgress(value=0.0, max=7189.0), HTML(value='')))"
      ]
     },
     "metadata": {
      "tags": []
     },
     "output_type": "display_data"
    },
    {
     "name": "stdout",
     "output_type": "stream",
     "text": [
      "\r",
      "Shape of co-occurrence matrix (test set): (42892, 42892)\n"
     ]
    }
   ],
   "source": [
    "def build_vocabulary(corpus: List[List[str]],\n",
    "                     old_word_listing: Optional[List[str]] = None) -> (Dict[int, str], Dict[int, str], List[str]):\n",
    "    \n",
    "    flat_tokens = [x for sub in corpus for x in sub]\n",
    "    \n",
    "    if old_word_listing is None:  # standard case\n",
    "        word_listing = [PAD] + list(OrderedDict.fromkeys(flat_tokens))\n",
    "    else:  # case in which we extend an already existing vocabulary\n",
    "        word_listing = list(OrderedDict.fromkeys(old_word_listing + flat_tokens))\n",
    "        \n",
    "    idx_to_word = {i: w for i, w in enumerate(word_listing)}\n",
    "    word_to_idx = {w: i for i, w in enumerate(word_listing)}\n",
    "\n",
    "    return idx_to_word, word_to_idx, word_listing\n",
    "\n",
    "def build_co_occurrence_matrix(corpus: List[str],\n",
    "                               word_to_idx: Dict[str, int],\n",
    "                               window_size: Optional[int] = 3) -> np.ndarray:\n",
    "    \n",
    "    # Initialize sparse matrix\n",
    "    co_occurrence_matrix = lil_matrix((len(word_to_idx), len(word_to_idx)))\n",
    "\n",
    "    for doc in tqdm(corpus, leave=False):\n",
    "        for cur_idx in range(len(doc)):\n",
    "            # Sliding window to extract context words\n",
    "            win_start = max(0, cur_idx - window_size)\n",
    "            win_stop = min(len(doc), cur_idx + window_size + 1)\n",
    "            context_words = doc[win_start:win_stop]\n",
    "            # Extract central word\n",
    "            central_word = context_words.pop(min(cur_idx, window_size))\n",
    "            # Compute co-occurrence matrix for given central word\n",
    "            for context_word in context_words:\n",
    "                key_central = word_to_idx[central_word]\n",
    "                key_context = word_to_idx[context_word]\n",
    "                co_occurrence_matrix[key_central, key_context] += 1\n",
    "    \n",
    "    return co_occurrence_matrix\n",
    "\n",
    "# Tokenize corpus\n",
    "X_trainC = df_train['Claim'].apply(lambda x: nltk.word_tokenize(x))\n",
    "X_trainE = df_train['Evidence'].apply(lambda x: nltk.word_tokenize(x))\n",
    "Y_train = df_train['Label'].tolist()\n",
    "\n",
    "train_corpus = X_trainC + X_trainE\n",
    "\n",
    "X_valC = df_val['Claim'].apply(lambda x: nltk.word_tokenize(x))\n",
    "X_valE = df_val['Evidence'].apply(lambda x: nltk.word_tokenize(x))\n",
    "Y_val = df_val['Label'].tolist()\n",
    "\n",
    "val_corpus = X_valC + X_valE\n",
    "\n",
    "X_testC = df_test['Claim'].apply(lambda x: nltk.word_tokenize(x))\n",
    "X_testE = df_test['Evidence'].apply(lambda x: nltk.word_tokenize(x))\n",
    "Y_test = df_test['Label'].tolist()\n",
    "\n",
    "test_corpus = X_testC + X_testE\n",
    "\n",
    "# Get word mappings for each set\n",
    "train_idx_to_word, train_word_to_idx, train_word_listing = build_vocabulary(train_corpus)\n",
    "val_idx_to_word, val_word_to_idx, val_word_listing = build_vocabulary(val_corpus, old_word_listing=train_word_listing)\n",
    "test_idx_to_word, test_word_to_idx, test_word_listing = build_vocabulary(test_corpus, old_word_listing=val_word_listing)\n",
    "\n",
    "# Mapping of labels\n",
    "label_to_idx = {'REFUTES': 0, 'SUPPORTS': 1}\n",
    "idx_to_label = {0: 'REFUTES', 1: 'SUPPORTS'}\n",
    "\n",
    "# Build co-occurrence matrix with window size = 1 for each set\n",
    "train_co_occurrence_matrix = build_co_occurrence_matrix(train_corpus, train_word_to_idx)\n",
    "print('Shape of co-occurrence matrix (training set):', train_co_occurrence_matrix.shape)\n",
    "val_co_occurrence_matrix = build_co_occurrence_matrix(val_corpus, val_word_to_idx)\n",
    "print('Shape of co-occurrence matrix (validation set):', val_co_occurrence_matrix.shape)\n",
    "test_co_occurrence_matrix = build_co_occurrence_matrix(test_corpus, test_word_to_idx)\n",
    "print('Shape of co-occurrence matrix (test set):', test_co_occurrence_matrix.shape)"
   ]
  },
  {
   "cell_type": "markdown",
   "metadata": {
    "id": "CvpZ0EIPYI1T"
   },
   "source": [
    "OOV words are then checked."
   ]
  },
  {
   "cell_type": "code",
   "execution_count": 12,
   "metadata": {
    "colab": {
     "base_uri": "https://localhost:8080/"
    },
    "id": "YG0fOBMiYK6v",
    "outputId": "96a6ee30-49b9-4c1a-dfff-593daf87436b"
   },
   "outputs": [
    {
     "name": "stdout",
     "output_type": "stream",
     "text": [
      "Total OOV terms in training set: 22709 (58.56%)\n",
      "Total OOV terms in validation set: 23998 (58.98%)\n",
      "Total OOV terms in test set: 25432 (59.29%)\n"
     ]
    }
   ],
   "source": [
    "train_oov_words = [word for word in train_word_listing if word not in glove_model.vocab and word != PAD]\n",
    "val_oov_words = [word for word in val_word_listing if word not in glove_model.vocab and word != PAD]\n",
    "test_oov_words = [word for word in test_word_listing if word not in glove_model.vocab and word != PAD]\n",
    "\n",
    "print(f'Total OOV terms in training set: {len(train_oov_words)} ({float(len(train_oov_words)) / len(train_word_listing) * 100:.2f}%)')\n",
    "print(f'Total OOV terms in validation set: {len(val_oov_words)} ({float(len(val_oov_words)) / len(val_word_listing) * 100:.2f}%)')\n",
    "print(f'Total OOV terms in test set: {len(test_oov_words)} ({float(len(test_oov_words)) / len(test_word_listing) * 100:.2f}%)')"
   ]
  },
  {
   "cell_type": "markdown",
   "metadata": {
    "id": "1-Fug3ZKYLvR"
   },
   "source": [
    "Thus, an embedding matrix in which such words are handled with the **neighbours** strategy is built; in particular, OOV words are handled in cascade:\n",
    "- first we compute an embedding for OOV words from training set (OOV1);\n",
    "- then we do the same thing for the validation set (OOV2) w.r.t. the original vocabulary + OOV1;\n",
    "- finally, we compute the embedding of OOV words from test set w.r.t. the original vocabulary + OOV1 + OOV2.\n",
    "\n",
    "In fact, if we had used three separate embeddings we could have obtained different embeddings for the same OOV word, if such word appeared in all the three subsets."
   ]
  },
  {
   "cell_type": "code",
   "execution_count": 13,
   "metadata": {
    "colab": {
     "base_uri": "https://localhost:8080/",
     "height": 68,
     "referenced_widgets": [
      "c8222ae4cb9a4574a829349d4c296a95",
      "5b1ebbd953504f038f4a46b51732edcc",
      "a40056e9e88b4379b98ae86c5bb20fc2",
      "9d01098771fc4fc49c18b198bc9a265c",
      "8c403d07795443d4a10cd21d06ea36bd",
      "77016f4c612746c4b1b05d9fb9fecc40",
      "7f6a0d6a384d47d7ab2c5973eac14b61",
      "42a4d4bddac8456b96959016ba03fbc1",
      "0523a349e433449b9e0ee37c844cfd00",
      "37b7cba5c8414de484648324d8c2e2fd",
      "63f50ed8a0794428848bd933214c4038",
      "a83b1dae86c146cbb371891156be9a19",
      "4544c81e89e04ad5bab47c44f7343cd9",
      "7a501b5b63f8497d8eea08025f1b3706",
      "c43f7574fcbf4ef5a8007f7531504842",
      "fc6340bcbb9b4bfe838b569bbe59e920",
      "11d84fbab76247ec853b7cbcaa0378ed",
      "8aea8e9425ce4f1c8b7f9fba11697fe7",
      "63f5fc4917594e9d8eda663c3b60e695",
      "553da129e6cb4497871cc5c6699172af",
      "33545ff01b6e49b79cde526538f648f9",
      "c1731dbb6ab745c7be8716743d80da63",
      "7731a122d31344fe94d058695107278c",
      "d97e10b9592042a681e162f44ea1013c"
     ]
    },
    "id": "MrZ5ntf7YOGm",
    "outputId": "75cf5ffa-89b4-4283-e884-cd438b035c29"
   },
   "outputs": [
    {
     "data": {
      "application/vnd.jupyter.widget-view+json": {
       "model_id": "c8222ae4cb9a4574a829349d4c296a95",
       "version_major": 2,
       "version_minor": 0
      },
      "text/plain": [
       "HBox(children=(FloatProgress(value=0.0, max=38780.0), HTML(value='')))"
      ]
     },
     "metadata": {
      "tags": []
     },
     "output_type": "display_data"
    },
    {
     "name": "stdout",
     "output_type": "stream",
     "text": [
      "\r",
      "Shape of embedding matrix (training set): (38780, 300)\n"
     ]
    },
    {
     "data": {
      "application/vnd.jupyter.widget-view+json": {
       "model_id": "0523a349e433449b9e0ee37c844cfd00",
       "version_major": 2,
       "version_minor": 0
      },
      "text/plain": [
       "HBox(children=(FloatProgress(value=0.0, max=40685.0), HTML(value='')))"
      ]
     },
     "metadata": {
      "tags": []
     },
     "output_type": "display_data"
    },
    {
     "name": "stdout",
     "output_type": "stream",
     "text": [
      "\r",
      "Shape of embedding matrix (validation set): (40685, 300)\n"
     ]
    },
    {
     "data": {
      "application/vnd.jupyter.widget-view+json": {
       "model_id": "11d84fbab76247ec853b7cbcaa0378ed",
       "version_major": 2,
       "version_minor": 0
      },
      "text/plain": [
       "HBox(children=(FloatProgress(value=0.0, max=42892.0), HTML(value='')))"
      ]
     },
     "metadata": {
      "tags": []
     },
     "output_type": "display_data"
    },
    {
     "name": "stdout",
     "output_type": "stream",
     "text": [
      "\r",
      "Shape of embedding matrix (test set): (42892, 300)\n"
     ]
    }
   ],
   "source": [
    "stop_words = stopwords.words('english')\n",
    "punctuation_marks = string.punctuation + \"``\" + \"''\" + \"...\"\n",
    "\n",
    "def build_embedding_matrix(embedding_model: gensim.models.keyedvectors.Word2VecKeyedVectors,\n",
    "                           word_to_idx: Dict[str, int],\n",
    "                           idx_to_word: Dict[int, str],\n",
    "                           oov_words: List[str],\n",
    "                           co_occurrence_matrix: np.ndarray,\n",
    "                           old_embedding_matrix: Optional[np.ndarray] = None):\n",
    "    # Initialize embedding matrix with all zeros\n",
    "    embedding_matrix = np.zeros((len(word_to_idx), embedding_model.vector_size))\n",
    "    \n",
    "    # Helper function to analyze embeddings\n",
    "    def analyze_embedding() -> (float, float):\n",
    "        mean_list, std_list = [], []\n",
    "        for word in word_to_idx.keys():\n",
    "            if word not in oov_words and word != PAD:\n",
    "                embed = embedding_model[word]\n",
    "                # Compute mean and std\n",
    "                mean_list.append(np.mean(embed))\n",
    "                std_list.append(np.std(embed))\n",
    "\n",
    "        embedding_mean = mean(mean_list)\n",
    "        embedding_std = mean(std_list)\n",
    "\n",
    "        return embedding_mean, embedding_std\n",
    "    \n",
    "    # Get mean and std for the embeddings\n",
    "    embedding_mean, embedding_std = analyze_embedding()\n",
    "    \n",
    "    # Helper function to find the embedding of an OOV word\n",
    "    def get_oov_embedding(oov):\n",
    "        oov_idx = word_to_idx[oov]\n",
    "        if old_embedding_matrix is None or oov_idx >= len(old_embedding_matrix):\n",
    "            # Strategy based on co-occurrence\n",
    "            # Retrieve indexes of word's neighbours (i.e. the indexes of nonzero elements)\n",
    "            neighbors_idx = co_occurrence_matrix[oov_idx].nonzero()[-1]  # take the last element (for lil_matrix case)\n",
    "            # Filter non-oov neighbours\n",
    "            non_oov_neighbors = [idx_to_word[idx] for idx in neighbors_idx if idx_to_word[idx] not in oov_words]\n",
    "\n",
    "            if len(non_oov_neighbors) > 0:  # neighbours are not OOV\n",
    "\n",
    "                ############ weighted mean wrt the occurences of each neihbour: \n",
    "                co_occ_oov = coo_matrix(co_occurrence_matrix[oov_idx]) # co_occurence vector of the oov word converted in coo_matrix to use later the method \".data\"\n",
    "                tot_weights = 0\n",
    "                oov_embedding = np.zeros(embedding_model.vector_size) \n",
    "                for idx,w in enumerate(non_oov_neighbors):\n",
    "                  occurrence = co_occ_oov.data[idx]  # number of occurences of the neighbour \n",
    "                  if w not in punctuation_marks and w not in stop_words:  # to avoid considering non-informative words\n",
    "                      oov_embedding += embedding_model[w]*occurrence\n",
    "                      tot_weights += occurrence\n",
    "\n",
    "                if tot_weights == 0:\n",
    "                  oov_embedding = np.random.normal(loc=embedding_mean, scale=embedding_std, size=embedding_model.vector_size)\n",
    "                else:\n",
    "                  oov_embedding = oov_embedding/tot_weights\n",
    "                ############\n",
    "\n",
    "            else:  # neighbours are OOV\n",
    "                oov_embedding = np.random.normal(loc=embedding_mean, scale=embedding_std, size=embedding_model.vector_size)\n",
    "                \n",
    "        else:\n",
    "            oov_embedding = old_embedding_matrix[oov_idx]\n",
    "            \n",
    "        return oov_embedding\n",
    "\n",
    "    for word, idx in tqdm(word_to_idx.items(), leave=False):\n",
    "        # If word is PAD no action is performed (it will be assigned the zero vector)\n",
    "        if word not in oov_words and word != PAD:\n",
    "            embedding_matrix[idx] = embedding_model[word]\n",
    "        elif word in oov_words:\n",
    "            embedding_matrix[idx] = get_oov_embedding(word)\n",
    "            \n",
    "    return embedding_matrix\n",
    "\n",
    "# Build embedding matrix based only on the training set (for training)\n",
    "train_embedding_matrix = build_embedding_matrix(glove_model, train_word_to_idx, train_idx_to_word, train_oov_words, train_co_occurrence_matrix)\n",
    "print('Shape of embedding matrix (training set):', train_embedding_matrix.shape)\n",
    "\n",
    "# Build embedding matrix based on training + validation set (for validation)\n",
    "val_embedding_matrix = build_embedding_matrix(glove_model, val_word_to_idx, val_idx_to_word, val_oov_words, val_co_occurrence_matrix, train_embedding_matrix)\n",
    "print('Shape of embedding matrix (validation set):', val_embedding_matrix.shape)\n",
    "\n",
    "# Build embedding matrix based on training + validation + test set (for test)\n",
    "test_embedding_matrix = build_embedding_matrix(glove_model, test_word_to_idx, test_idx_to_word, test_oov_words, test_co_occurrence_matrix, val_embedding_matrix)\n",
    "print('Shape of embedding matrix (test set):', test_embedding_matrix.shape)\n",
    "\n",
    "# Delete co-occurrence matrices to free space in RAM\n",
    "del train_co_occurrence_matrix\n",
    "del val_co_occurrence_matrix\n",
    "del test_co_occurrence_matrix\n",
    "gc.collect();"
   ]
  },
  {
   "cell_type": "markdown",
   "metadata": {
    "id": "9U2uU0wSYPp8"
   },
   "source": [
    "Finally, a utility class is defined: it encapsulates the embedding matrix and, given a batch of sequences, returns a tensor containing the corresponding (padded) embeddings."
   ]
  },
  {
   "cell_type": "code",
   "execution_count": null,
   "metadata": {
    "id": "wyQnBe20YVeI"
   },
   "outputs": [],
   "source": [
    "class Embedder:\n",
    "    def __init__(self,\n",
    "                 embedding_matrix: np.ndarray,\n",
    "                 word_to_idx: Dict[str, int]):\n",
    "        self.embedding_matrix = embedding_matrix\n",
    "        self.word_to_idx = word_to_idx\n",
    "    \n",
    "    def get_word_embedding(self,\n",
    "                           batch_word_seq: Tuple[List[str]],\n",
    "                           max_len: Optional[int] = None) -> (torch.FloatTensor, torch.IntTensor):\n",
    "        if max_len is None:\n",
    "          # Find maximum length of batch\n",
    "          max_len = max(map(len, batch_word_seq))\n",
    "\n",
    "        batch_embedding = []\n",
    "        lengths = []\n",
    "        for word_seq in batch_word_seq:\n",
    "            if word_seq:  # Handle partial batches\n",
    "                orig_len = len(word_seq)\n",
    "                pad_len = max_len - orig_len\n",
    "                # Keep track of original length\n",
    "                lengths.append(orig_len)\n",
    "\n",
    "                # Pad sequence\n",
    "                padded_seq = word_seq + [PAD] * pad_len\n",
    "                # Embed padded sequence\n",
    "                embedded_seq = [self.embedding_matrix[self.word_to_idx[w]] for w in padded_seq]\n",
    "                batch_embedding.append(embedded_seq)\n",
    "        \n",
    "        return torch.cuda.FloatTensor(batch_embedding, device = DEVICE), torch.cuda.IntTensor(lengths, device = DEVICE)\n",
    "\n",
    "# Create embedding helpers\n",
    "train_embedder = Embedder(train_embedding_matrix, train_word_to_idx)\n",
    "val_embedder = Embedder(val_embedding_matrix, val_word_to_idx)\n",
    "test_embedder = Embedder(test_embedding_matrix, test_word_to_idx)"
   ]
  },
  {
   "cell_type": "markdown",
   "metadata": {
    "id": "XIPVMzfjMHr-"
   },
   "source": [
    "# Encoders\n",
    "Here we define the 4 encoders:\n",
    "- a RNN in which the last state is the embedding (`RNNLastState`);\n",
    "- a RNN in which the average of the output states is the embedding (`RNNAverage`);\n",
    "- a MLP;\n",
    "- a model computing the mean of each token embedding to produce an sentence embedding (bag of vectors).\n",
    "\n",
    "For clarity, we also define an abstract class `SentenceEncoder`, from which our models will inherit."
   ]
  },
  {
   "cell_type": "code",
   "execution_count": null,
   "metadata": {
    "id": "a_FxfQ4GDf0V"
   },
   "outputs": [],
   "source": [
    "class SentenceEncoder(ABC, nn.Module):\n",
    "    @abstractmethod\n",
    "    def get_output_dim(self):\n",
    "        pass\n",
    "    @abstractmethod\n",
    "    def forward(self, x: torch.Tensor, x_lengths: Optional[torch.IntTensor] = None) -> torch.Tensor:\n",
    "        pass"
   ]
  },
  {
   "cell_type": "markdown",
   "metadata": {
    "id": "vNYrDBvGMJDd"
   },
   "source": [
    "## 1. RNNLastState\n",
    "The embedding of the sequence is the last state."
   ]
  },
  {
   "cell_type": "code",
   "execution_count": null,
   "metadata": {
    "id": "D6hy9CVzMLDr"
   },
   "outputs": [],
   "source": [
    "class RNNLastState(SentenceEncoder):\n",
    "    def __init__(self,\n",
    "                 input_size: int,\n",
    "                 hidden_size: int,\n",
    "                 bidirectional: Optional[bool] = True,\n",
    "                 num_layers: Optional[int] = 1):\n",
    "        super(RNNLastState, self).__init__()\n",
    "        \n",
    "        self.lstm = nn.LSTM(input_size=input_size,\n",
    "                            hidden_size=hidden_size,\n",
    "                            bidirectional=bidirectional,\n",
    "                            batch_first=True,\n",
    "                            num_layers = num_layers)\n",
    "\n",
    "        self.bidirectional = bidirectional\n",
    "        self.num_directions = 2 if self.bidirectional else 1\n",
    "        self.num_layers = num_layers\n",
    "    \n",
    "    def get_output_dim(self):\n",
    "        return self.lstm.hidden_size * self.num_directions * self.num_layers\n",
    "\n",
    "    def _get_lstm_features(self, x: torch.Tensor, x_lengths: torch.IntTensor) -> torch.Tensor:\n",
    "        # Ignore padding in LSTM\n",
    "        x = nn.utils.rnn.pack_padded_sequence(x, x_lengths.cpu(), batch_first=True, enforce_sorted=False)  # lengths.cpu() needed because of pytorch bug\n",
    "        # Feed into LSTM\n",
    "        x, (last_hidden, _) = self.lstm(x)\n",
    "        # Undo packaging\n",
    "        x, _ = nn.utils.rnn.pad_packed_sequence(x, batch_first=True)\n",
    "        # Return last hidden state\n",
    "        return x, last_hidden\n",
    "    \n",
    "    def forward(self, x: torch.Tensor, x_lengths: Optional[torch.IntTensor] = None) -> torch.Tensor:\n",
    "        batch_size, seq_len, _ = x.size()\n",
    "        \n",
    "        # Feed into LSTM\n",
    "        x, last_hidden = self._get_lstm_features(x, x_lengths)\n",
    "\n",
    "        # Return only the last hidden state\n",
    "        return torch.cat([last_hidden[0, :, :], last_hidden[1, :, :]], dim=1)"
   ]
  },
  {
   "cell_type": "markdown",
   "metadata": {
    "id": "IIxeiB4JMM5Z"
   },
   "source": [
    "## 2. RNNAverage\n",
    "The embedding of the sequence is the average of the hidden states."
   ]
  },
  {
   "cell_type": "code",
   "execution_count": null,
   "metadata": {
    "id": "sOpkX7McMNT_"
   },
   "outputs": [],
   "source": [
    "class RNNAverage(SentenceEncoder):\n",
    "    def __init__(self,\n",
    "                 input_size: int,\n",
    "                 hidden_size: int,\n",
    "                 bidirectional: Optional[bool] = True,\n",
    "                 num_layers: Optional[int] = 1):\n",
    "        super(RNNAverage, self).__init__()\n",
    "        \n",
    "        self.lstm = nn.LSTM(input_size=input_size,\n",
    "                            hidden_size=hidden_size,\n",
    "                            bidirectional=bidirectional,\n",
    "                            batch_first=True,\n",
    "                            num_layers = num_layers)\n",
    "        \n",
    "        self.bidirectional = bidirectional\n",
    "        self.num_directions = 2 if self.bidirectional else 1\n",
    "        self.num_layers = num_layers\n",
    " \n",
    "    def get_output_dim(self):\n",
    "        return self.lstm.hidden_size * self.num_directions\n",
    "\n",
    "    def _get_lstm_features(self, x: torch.Tensor, x_lengths: torch.IntTensor) -> torch.Tensor:\n",
    "        # Ignore padding in LSTM\n",
    "        x = nn.utils.rnn.pack_padded_sequence(x, x_lengths.cpu(), batch_first=True, enforce_sorted=False) # lengths.cpu() needed because of pytorch bug\n",
    "        # Feed into LSTM\n",
    "        x, _ = self.lstm(x)\n",
    "        # Undo packaging\n",
    "        x, _ = nn.utils.rnn.pad_packed_sequence(x, batch_first=True)\n",
    "\n",
    "        return x\n",
    "    \n",
    "    def forward(self, x: torch.Tensor, x_lengths: Optional[torch.IntTensor] = None) -> torch.Tensor:\n",
    "        batch_size, seq_len, _ = x.size()\n",
    "        # Re-initialize hidden layer before each batch, otherwise the LSTM will treat\n",
    "        # a new batch as a continuation of a sequence\n",
    "        \n",
    "        # Feed into LSTM\n",
    "        x = self._get_lstm_features(x, x_lengths)\n",
    "        \n",
    "        # Return the mean along second dim (taking into account padding)\n",
    "        return torch.sum(x, dim=1) / x_lengths.unsqueeze(dim=1)"
   ]
  },
  {
   "cell_type": "markdown",
   "metadata": {
    "id": "cZzVQujiFUZ7"
   },
   "source": [
    "## 3. MLP\n",
    "The embedding of the sentence is computed using a MLP."
   ]
  },
  {
   "cell_type": "code",
   "execution_count": null,
   "metadata": {
    "id": "MPKLLl_WFTR2"
   },
   "outputs": [],
   "source": [
    "class MLP(SentenceEncoder):\n",
    "    def __init__(self, dimensions: List[int]):\n",
    "        super(MLP, self).__init__()\n",
    "\n",
    "        assert len(dimensions) >= 2, 'You need to specify at least an input and output dimension.'\n",
    "\n",
    "        self.fc = nn.ModuleList()\n",
    "\n",
    "        for i in range(len(dimensions)-1):\n",
    "            layer = nn.Linear(in_features=dimensions[i], out_features=dimensions[i+1])\n",
    "            self.fc.append(layer)\n",
    "\n",
    "        self.relu = nn.ReLU()\n",
    "    \n",
    "    def get_output_dim(self):\n",
    "        return self.fc[-1].out_features\n",
    "\n",
    "    def forward(self, x: torch.Tensor, x_lengths: Optional[torch.IntTensor] = None) -> torch.Tensor:\n",
    "\n",
    "        # x shape: (batch, max_token, embedding)\n",
    "        x = x.flatten(start_dim=1)\n",
    "        # x shape: (batch, max_token*embedding)\n",
    "\n",
    "        for i in range(len(self.fc)):\n",
    "\n",
    "            x = self.fc[i](x)\n",
    "            x = self.relu(x)\n",
    "\n",
    "        return x"
   ]
  },
  {
   "cell_type": "markdown",
   "metadata": {
    "id": "uh-3_jCM39nn"
   },
   "source": [
    "## 4. MeanEmbedder\n",
    "In the last model, the embedding of the sentence is not learnt, as it is simply computed as the mean of the embeddings of its tokens."
   ]
  },
  {
   "cell_type": "code",
   "execution_count": null,
   "metadata": {
    "id": "euchgj-94kIU"
   },
   "outputs": [],
   "source": [
    "class MeanEmbedder(SentenceEncoder):\n",
    "    def __init__(self, emb_dim: int):\n",
    "        super(MeanEmbedder, self).__init__()\n",
    "        self.emb_dim = emb_dim\n",
    "    \n",
    "    def get_output_dim(self):\n",
    "        return self.emb_dim\n",
    "\n",
    "    def forward(self, x: torch.Tensor, x_lengths: Optional[torch.IntTensor] = None) -> torch.Tensor:\n",
    "        # Return the mean along second dim (taking into account padding)\n",
    "        return torch.sum(x, dim=1) / x_lengths.unsqueeze(dim=1)"
   ]
  },
  {
   "cell_type": "markdown",
   "metadata": {
    "id": "jt5sTvNhMPPH"
   },
   "source": [
    "# Final model\n",
    "The final model is composed of two sub-models:\n",
    "- a `SentenceEncoder`, which takes in input one sentence and outputs its embedding;\n",
    "- a classifier, which given the merged embedding of claim and evidence, outputs a label.\n",
    "\n",
    "The `forward` method takes in input two tensors: one containing the embeddings of the claim, and one containing the embeddings of the evidence. They are fed into the encoder, which outputs the sentence embedding of the claim and of the evidence; these are merged together according to the given strategy, and optionally concatenated with an additional feature, the cosine similarity between them. Finally, the merged sentence embedding is processed by the classifier."
   ]
  },
  {
   "cell_type": "code",
   "execution_count": null,
   "metadata": {
    "id": "50zjBTpmMRvr"
   },
   "outputs": [],
   "source": [
    "class ClaimProver(nn.Module):\n",
    "    def __init__(self,\n",
    "                 encoder: SentenceEncoder,\n",
    "                 classifier: nn.Module,\n",
    "                 merge_strategy: Optional[str] = 'concat',\n",
    "                 use_cos_sim: Optional[bool] = False):\n",
    "        super(ClaimProver, self).__init__()\n",
    "\n",
    "        self.encoder = encoder\n",
    "        self.classifier = classifier\n",
    "        self.merge_strategy = merge_strategy\n",
    "        self.use_cos_sim = use_cos_sim\n",
    "    \n",
    "    def forward(self,\n",
    "                x1: torch.Tensor,\n",
    "                x2: torch.Tensor,\n",
    "                x1_lengths: Optional[torch.IntTensor] = None,\n",
    "                x2_lengths: Optional[torch.IntTensor] = None):\n",
    "        # Encode both inputs\n",
    "        \n",
    "        \n",
    "        x1 = self.encoder(x1, x1_lengths)\n",
    "        x2 = self.encoder(x2, x2_lengths)\n",
    "        # Merge according to strategy\n",
    "        if self.merge_strategy == 'sum':\n",
    "            encoding = x1 + x2  # SUM\n",
    "        elif self.merge_strategy == 'avg':\n",
    "            encoding = (x1 + x2) / 2  # AVERAGE\n",
    "        elif self.merge_strategy == 'concat':\n",
    "            encoding = torch.cat((x1, x2), dim=1)  # CONCATENATION\n",
    "        # Optionally add cosine similarity feature\n",
    "        if self.use_cos_sim:\n",
    "            # Compute cosine similarity between corresponding embeddings inside the batch:\n",
    "            # the slices are reshaped to (1, batch) to match cosine_similarity API specifications for \"single sample\" case\n",
    "            cos_sim = [cosine_similarity(slice_x1.view(1, -1),\n",
    "                                         slice_x2.view(1, -1)) for slice_x1, slice_x2 in zip(x1.detach().cpu(), x2.detach().cpu())]\n",
    "            # Convert the list into torch tensor\n",
    "            cos_sim = torch.from_numpy(np.concatenate(cos_sim, axis=0)).to(DEVICE)\n",
    "            # Concatenate cosine similarity to original tensor:\n",
    "            # encoding has shape (batch, emb_size), cos_sim has shape (batch, 1)\n",
    "            # torch.cat requires shapes (emb_size, batch) and (1, batch), so both are transposed\n",
    "            encoding = torch.cat((encoding.transpose(0, 1), cos_sim.transpose(0, 1)), dim=0).transpose(0, 1)  # transpose to restore original shape (batch, emb_size + 1)\n",
    "        \n",
    "        out = self.classifier(encoding)\n",
    "        \n",
    "        return out"
   ]
  },
  {
   "cell_type": "markdown",
   "metadata": {
    "id": "Dq4zkABpMVjv"
   },
   "source": [
    "# Training"
   ]
  },
  {
   "cell_type": "markdown",
   "metadata": {
    "id": "OOLi687ZscJP"
   },
   "source": [
    "## All models + standard merging\n",
    "In this section, each model is trained using standard \"concat\" merging strategy. In particular, the training proceeds as follows:\n",
    "- binary cross entropy loss function (with integrated sigmoid);\n",
    "- Adam optimizer with learning rate set to $10^{-3}$;\n",
    "- early stopping on validation loss with patience = $5$ and tolerance = $10^{-4}$;\n",
    "- mini-batch of size $64$;\n",
    "- sentence embedding of size $64$ (except for `MeanEmbedder` with is forced to use the same dimension as the input's).\n",
    "\n",
    "#### Please notice that the _loss is weighted_ in order to contrast class imbalance."
   ]
  },
  {
   "cell_type": "code",
   "execution_count": null,
   "metadata": {
    "id": "L9tK3jwhojyq"
   },
   "outputs": [],
   "source": [
    "# Prepare data\n",
    "train_data = to_list_of_tuples((X_trainC, X_trainE, Y_train))\n",
    "val_data = to_list_of_tuples((X_valC, X_valE, Y_val))\n",
    "test_data = to_list_of_tuples((X_testC, X_testE, Y_test))\n",
    "\n",
    "# Get class counts and compute weight\n",
    "(supports, refutes) = df_train['Label'].value_counts()\n",
    "weight_positive_class = torch.cuda.FloatTensor([refutes/supports], device=DEVICE)\n",
    "\n",
    "# Define criterion\n",
    "criterion = nn.BCEWithLogitsLoss(pos_weight=weight_positive_class)  # it applies the sigmoid internally.\n",
    "\n",
    "# Epochs and batch size\n",
    "EP = 25\n",
    "BS = 64\n",
    "merge_strategy = 'concat'"
   ]
  },
  {
   "cell_type": "markdown",
   "metadata": {
    "id": "K0r7UAyyMWuB"
   },
   "source": [
    "Utility functions for training and evaluation are defined."
   ]
  },
  {
   "cell_type": "code",
   "execution_count": null,
   "metadata": {
    "id": "7_np-FtKYh8X"
   },
   "outputs": [],
   "source": [
    "def train(model: ClaimProver,\n",
    "          data: List[Tuple[List[str], List[str], str]],\n",
    "          batch_size: int,\n",
    "          criterion: Callable[[torch.Tensor, torch.Tensor], float],\n",
    "          optimizer: torch.optim,\n",
    "          embedder: Embedder,\n",
    "          label_to_idx: Dict[str, int],\n",
    "          max_len: Optional[int] = None,\n",
    "          verbose: Optional[bool] = False,\n",
    "          scaler: Optional[torch.cuda.amp.grad_scaler.GradScaler] = False) -> (float, float, float):\n",
    "    loss_data = []\n",
    "    correct = 0\n",
    "    total = 0\n",
    "    \n",
    "    # Create batch iterator\n",
    "    batch_iter = batch_iteration(data, batch_size)\n",
    "    steps = len(data) // batch_size if len(data) % batch_size == 0 else len(data) // batch_size + 1\n",
    "    if verbose:\n",
    "        batch_iter = tqdm(batch_iter, total=steps, leave=False)\n",
    "    for batch in batch_iter:\n",
    "        \n",
    "        # Extract samples\n",
    "        (claims, evidences, labels) = to_tuple_of_lists(batch)\n",
    "        \n",
    "        # Get encoding of claims, evidences and labels, and move them to GPU if available\n",
    "        claims_tensor, claims_lengths = embedder.get_word_embedding(claims, max_len)\n",
    "        evidences_tensor, evidences_lengths = embedder.get_word_embedding(evidences, max_len)\n",
    "        labels_tensor = torch.cuda.FloatTensor([label_to_idx[l] for l in labels if len(l) > 0], device = DEVICE)\n",
    "        \n",
    "        if scaler:\n",
    "           \n",
    "            # Make prediction\n",
    "            optimizer.zero_grad()\n",
    "            with autocast():   #https://pytorch.org/docs/stable/notes/amp_examples.html\n",
    "                scores = model(claims_tensor, evidences_tensor, claims_lengths, evidences_lengths)\n",
    "                loss = criterion(scores, labels_tensor.unsqueeze(dim=1))\n",
    "            # Backpropagation\n",
    "        \n",
    "            scaler.scale(loss).backward()  #https://pytorch.org/docs/stable/notes/amp_examples.html\n",
    "            scaler.step(optimizer) #https://pytorch.org/docs/stable/notes/amp_examples.html\n",
    "            scaler.update() #https://pytorch.org/docs/stable/notes/amp_examples.html\n",
    "            \n",
    "        else:\n",
    "            # Make prediction\n",
    "            optimizer.zero_grad()\n",
    "            scores = model(claims_tensor, evidences_tensor, claims_lengths, evidences_lengths)\n",
    "            loss = criterion(scores, labels_tensor.unsqueeze(dim=1))\n",
    "            \n",
    "            # Backpropagation\n",
    "            loss.backward()  \n",
    "            optimizer.step() \n",
    "\n",
    "        # Compute accuracy\n",
    "        scores = torch.sigmoid(scores)\n",
    "        total_batch = scores.shape[0]\n",
    "        predictions = scores.squeeze() > 0.5\n",
    "        correct_batch = (predictions == labels_tensor).sum().item()\n",
    "\n",
    "        # Update history\n",
    "        loss_data.append(loss.item())\n",
    "        correct += correct_batch\n",
    "        total += total_batch\n",
    "        \n",
    "\n",
    "        \n",
    "    return mean(loss_data), correct / total * 100\n",
    "\n",
    "def evaluate(model: nn.Module,\n",
    "             data: List[Tuple[List[str], List[str], str]],\n",
    "             batch_size: int,\n",
    "             criterion: Callable[[torch.Tensor, torch.Tensor], float],\n",
    "             embedder: Embedder,\n",
    "             label_to_idx: Dict[str, int],\n",
    "             max_len: Optional[int] = None,\n",
    "             verbose: Optional[bool] = False) -> (float, float, float):\n",
    "    loss_data = []\n",
    "    correct = 0\n",
    "    total = 0\n",
    "    \n",
    "    with torch.no_grad():\n",
    "        # Create batch iterator\n",
    "        batch_iter = batch_iteration(data, batch_size)\n",
    "        steps = len(data) // batch_size if len(data) % batch_size == 0 else len(data) // batch_size + 1\n",
    "        if verbose:\n",
    "            batch_iter = tqdm(batch_iter, total=steps, leave=False)\n",
    "        for batch in batch_iter:\n",
    "            # Extract samples\n",
    "            (claims, evidences, labels) = to_tuple_of_lists(batch)\n",
    "            \n",
    "            # Get encoding of claims, evidences and labels, and move them to GPU if available\n",
    "            claims_tensor, claims_lengths = embedder.get_word_embedding(claims, max_len)\n",
    "            evidences_tensor, evidences_lengths = embedder.get_word_embedding(evidences, max_len)\n",
    "            labels_tensor = torch.cuda.FloatTensor([label_to_idx[l] for l in labels if len(l) > 0], device = DEVICE)\n",
    "            \n",
    "            # Make prediction\n",
    "            scores = model(claims_tensor, evidences_tensor, claims_lengths, evidences_lengths)\n",
    "\n",
    "            # Compute loss\n",
    "            loss = criterion(scores, labels_tensor.unsqueeze(dim=1))\n",
    "            \n",
    "            # Compute accuracy\n",
    "            total_batch = scores.shape[0]\n",
    "            scores = torch.sigmoid(scores)\n",
    "            predictions = scores.squeeze() > 0.5\n",
    "            correct_batch = (predictions == labels_tensor).sum().item()\n",
    "        \n",
    "            # Update history\n",
    "            loss_data.append(loss.item())\n",
    "            correct += correct_batch\n",
    "            total += total_batch\n",
    "              \n",
    "    return mean(loss_data), correct / total * 100\n",
    "    \n",
    "\n",
    "def training_loop(model: nn.Module,\n",
    "                  train_data: List[Tuple[List[str], List[str]]],\n",
    "                  optimizer: torch.optim,\n",
    "                  epochs: int,\n",
    "                  batch_size: int,\n",
    "                  criterion: Callable[[torch.Tensor, torch.Tensor], float],\n",
    "                  train_embedder: Embedder,\n",
    "                  label_to_idx: Dict[str, int],\n",
    "                  val_embedder: Optional[Embedder] = None,\n",
    "                  max_len: Optional[int] = None,\n",
    "                  lr_scheduler: torch.optim.lr_scheduler = None,\n",
    "                  val_data: Optional[List[Tuple[List[str], List[str]]]] = None,\n",
    "                  early_stopping: Optional[bool] = False,\n",
    "                  patience: Optional[int] = 5,\n",
    "                  tolerance: Optional[float] = 1e-4,\n",
    "                  checkpoint_path: Optional[str] = None,\n",
    "                  verbose: Optional[bool] = True,\n",
    "                  seed: Optional[int] = 42,\n",
    "                  mix_scale: Optional[bool] = True) -> (Dict[str, List[float]]):\n",
    "    # Set seed for reproducibility\n",
    "    if seed:\n",
    "        random.seed(seed)\n",
    "\n",
    "    history = {'loss': [],\n",
    "               'accuracy': [],\n",
    "               'val_loss': [],\n",
    "               'val_accuracy': []}\n",
    "    \n",
    "    # Initialize variables for early stopping (if required)\n",
    "    if val_data and val_embedder and early_stopping:\n",
    "        min_val_loss = np.inf\n",
    "        no_improve_counter = 0\n",
    "    \n",
    "    scaler = GradScaler() if mix_scale else False   # https://pytorch.org/docs/stable/notes/amp_examples.html\n",
    "    \n",
    "    for ep in range(epochs):\n",
    "        if verbose:\n",
    "            print('-' * 100)\n",
    "            print(f'Epoch {ep + 1}/{epochs}')\n",
    "        \n",
    "        # Shuffle training set at each epoch\n",
    "        random.shuffle(train_data)\n",
    "        \n",
    "        start = time()\n",
    "        train_loss, train_accuracy = train(model, train_data, batch_size, criterion, optimizer, train_embedder,label_to_idx, max_len, verbose, scaler)\n",
    "        end = time()\n",
    "        \n",
    "        history['loss'].append(train_loss)\n",
    "        history['accuracy'].append(train_accuracy)\n",
    "        if verbose:\n",
    "            print(f'\\tLoss: {train_loss:.5f} - Accuracy: {train_accuracy:.2f}% [Time elapsed: {end - start:.2f} s]')\n",
    "        \n",
    "        # Do validation if required\n",
    "        if val_data and val_embedder:\n",
    "            \n",
    "            # Shuffle validation set at each epoch\n",
    "            random.shuffle(val_data)\n",
    "            \n",
    "            start = time()\n",
    "            val_loss, val_accuracy = evaluate(model, val_data, batch_size, criterion, val_embedder, label_to_idx, max_len, verbose)\n",
    "            end = time()\n",
    "            \n",
    "            history['val_loss'].append(val_loss)\n",
    "            history['val_accuracy'].append(val_accuracy)\n",
    "            if verbose:\n",
    "                print(f'\\tValidation loss: {val_loss:.5f} - Validation accuracy: {val_accuracy:.2f}% [Time elapsed: {end - start:.2f} s]')\n",
    "            \n",
    "            if early_stopping and checkpoint_path:\n",
    "                # If validation loss is lower than minimum, update minimum\n",
    "                if val_loss < min_val_loss - tolerance:\n",
    "                    min_val_loss = val_loss\n",
    "                    no_improve_counter = 0\n",
    "                    \n",
    "                    # Save model\n",
    "                    torch.save(model.state_dict(), checkpoint_path)\n",
    "                # otherwise increment counter\n",
    "                else:\n",
    "                    no_improve_counter += 1\n",
    "                # If loss did not improve for 'patience' epochs, break\n",
    "                if no_improve_counter == patience:\n",
    "                    if verbose:\n",
    "                        print(f'Early stopping: no improvement in validation loss for {patience} epochs from {min_val_loss:.5f}')\n",
    "                    # Restore model to best\n",
    "                    model.load_state_dict(torch.load(checkpoint_path))\n",
    "                    model.eval()\n",
    "                    break\n",
    "        \n",
    "        # If lr scheduling is used, invoke next step\n",
    "        if lr_scheduler:\n",
    "            lr_scheduler.step()\n",
    "    \n",
    "    return history"
   ]
  },
  {
   "cell_type": "code",
   "execution_count": null,
   "metadata": {
    "id": "4yVWjNuBvWYp"
   },
   "outputs": [],
   "source": [
    "def plot_history(history, title, save = True):    \n",
    "    # this function is simply used to plot and save the image (and the dictionary) about the train and val loss and accuracy during the training\n",
    "    fig = plt.figure()\n",
    "    fig.figsize=(40, 40)\n",
    "    plt.suptitle(title, size='xx-large')\n",
    "    plt.tight_layout(rect=[0, 0.03, 1, 0.95])\n",
    "    \n",
    "    ax1 = fig.add_subplot(1,2,1)\n",
    "    ax1.plot(history['loss'], label='train_loss')\n",
    "    ax1.plot(history['val_loss'], label='val_loss')\n",
    "    ax1.set_title('BCE loss')\n",
    "    ax1.set(xlabel='# Epochs')\n",
    "    ax1.grid()\n",
    "    ax1.legend();\n",
    "\n",
    "    ax2 = fig.add_subplot(1,2,2)\n",
    "    ax2.plot(history['accuracy'], label='train_accuracy')\n",
    "    ax2.plot(history['val_accuracy'], label='val_accuracy')\n",
    "    ax2.set_title('Accuracy')\n",
    "    ax2.set(xlabel='# Epochs')\n",
    "    ax2.grid()\n",
    "    ax2.legend();\n",
    "    plt.show()\n",
    "\n",
    "    if save:\n",
    "        fig_title = \"_\".join( title.split() )\n",
    "        fig.savefig(\"figure_\"+fig_title+'.png')\n",
    "        \n",
    "        # save dictionary:  \n",
    "        f = open(\"dict_\"+ fig_title +\".txt\",\"w\")\n",
    "        f.write(str(history))\n",
    "        f.close()"
   ]
  },
  {
   "cell_type": "markdown",
   "metadata": {
    "id": "W56YUatSpLcl"
   },
   "source": [
    "### 1. RNNLastState + 'concat'\n",
    "Here we train the `RNNLastState` model with default 'concat' strategy."
   ]
  },
  {
   "cell_type": "code",
   "execution_count": null,
   "metadata": {
    "id": "P0HHEirtY6W5"
   },
   "outputs": [],
   "source": [
    "# clear gpu memory before another training:\n",
    "import torch, gc\n",
    "gc.collect()\n",
    "torch.cuda.empty_cache()"
   ]
  },
  {
   "cell_type": "code",
   "execution_count": null,
   "metadata": {
    "id": "2xxU2tMopW16"
   },
   "outputs": [],
   "source": [
    "# Build model\n",
    "encoder = RNNLastState(input_size=emb_dim , hidden_size=32, bidirectional = True, num_layers =1).to(DEVICE)  # 32 * 2 = 64 due to bidirectionality\n",
    "classifier_in_features = encoder.get_output_dim() * 2 if merge_strategy == 'concat' else encoder.get_output_dim()\n",
    "classifier = nn.Linear(in_features=classifier_in_features, out_features=1)\n",
    "prover = ClaimProver(encoder, classifier).to(DEVICE)"
   ]
  },
  {
   "cell_type": "code",
   "execution_count": null,
   "metadata": {
    "id": "VIrs_f4sUO5O"
   },
   "outputs": [],
   "source": [
    "# Define Adam optimizer\n",
    "optimizer = torch.optim.Adam(prover.parameters(), lr=1e-3)\n",
    "\n",
    "history = training_loop(model=prover,\n",
    "                        train_data=train_data,\n",
    "                        optimizer=optimizer,\n",
    "                        epochs=EP,\n",
    "                        batch_size=BS,\n",
    "                        criterion=criterion,\n",
    "                        train_embedder=train_embedder,\n",
    "                        label_to_idx=label_to_idx,\n",
    "                        val_embedder=val_embedder,\n",
    "                        val_data=val_data,\n",
    "                        early_stopping=True,\n",
    "                        checkpoint_path='rnn_last.pt')\n",
    "\n",
    "plot_history(history, title='RNNLastState training review')"
   ]
  },
  {
   "cell_type": "code",
   "execution_count": null,
   "metadata": {
    "colab": {
     "base_uri": "https://localhost:8080/",
     "height": 328
    },
    "id": "pJ4HHPzvWFAM",
    "outputId": "81fb831c-c10f-4a5d-d587-85342b2ca33b"
   },
   "outputs": [
    {
     "data": {
      "image/png": "[encoded data removed]",
      "text/plain": [
       "<IPython.core.display.Image object>"
      ]
     },
     "metadata": {
      "tags": []
     },
     "output_type": "display_data"
    }
   ],
   "source": [
    "# Since we split the training of the different kind of models between each member of the group, in order to merge the results in the notebook we plot the image resuming the training:"
   ]
  },
  {
   "cell_type": "markdown",
   "metadata": {
    "id": "hpeK_WhYqk8W"
   },
   "source": [
    "### 2. RNNAverage + 'concat'\n",
    "Here we train the `RNNAverage` model with default 'concat' strategy."
   ]
  },
  {
   "cell_type": "code",
   "execution_count": null,
   "metadata": {
    "id": "QxpNFG3sY6W7"
   },
   "outputs": [],
   "source": [
    "# clear gpu memory before another training:\n",
    "import torch, gc\n",
    "gc.collect()\n",
    "torch.cuda.empty_cache()"
   ]
  },
  {
   "cell_type": "code",
   "execution_count": null,
   "metadata": {
    "id": "0Ki181YNqof4"
   },
   "outputs": [],
   "source": [
    "# Build model\n",
    "encoder = RNNAverage(input_size=emb_dim, hidden_size=32, bidirectional = True, num_layers =1).to(DEVICE)  # 32 * 2 = 64 due to bidirectionality\n",
    "classifier_in_features = encoder.get_output_dim() * 2 if merge_strategy == 'concat' else encoder.get_output_dim()\n",
    "classifier = nn.Linear(in_features=classifier_in_features, out_features=1).to(DEVICE)\n",
    "prover = ClaimProver(encoder, classifier).to(DEVICE)\n",
    "save = \"RNNAverage_training_review\""
   ]
  },
  {
   "cell_type": "code",
   "execution_count": null,
   "metadata": {
    "id": "zgmBaQY4UO5Q"
   },
   "outputs": [],
   "source": [
    "# Define Adam optimizer\n",
    "optimizer = torch.optim.Adam(prover.parameters(), lr=1e-3)\n",
    "\n",
    "history = training_loop(model=prover,\n",
    "                        train_data=train_data,\n",
    "                        optimizer=optimizer,\n",
    "                        epochs=EP,\n",
    "                        batch_size=BS,\n",
    "                        criterion=criterion,\n",
    "                        train_embedder=train_embedder,\n",
    "                        label_to_idx=label_to_idx,\n",
    "                        val_embedder=val_embedder,\n",
    "                        val_data=val_data,\n",
    "                        early_stopping=True,\n",
    "                        checkpoint_path='rnn_avg.pt')\n",
    "\n",
    "plot_history(history, title='RNNAverage training review')"
   ]
  },
  {
   "cell_type": "code",
   "execution_count": null,
   "metadata": {
    "colab": {
     "base_uri": "https://localhost:8080/",
     "height": 328
    },
    "id": "_7Agqv1jWeI5",
    "outputId": "13b5ea66-0546-4848-a640-8276470109e4"
   },
   "outputs": [
    {
     "data": {
      "image/png": "[encoded data removed]",
      "text/plain": [
       "<IPython.core.display.Image object>"
      ]
     },
     "metadata": {
      "tags": []
     },
     "output_type": "display_data"
    }
   ],
   "source": [
    "# Since we split the training of the different kind of models between each member of the group, in order to merge the results in the notebook we plot the image resuming the training:"
   ]
  },
  {
   "cell_type": "markdown",
   "metadata": {
    "id": "-DrrNRMlrF1T"
   },
   "source": [
    "### 3. MLP + 'concat'\n",
    "Here we train the `MLP` model with default 'concat' strategy.\n",
    "\n",
    "Please notice that it needs the maximum length of sentences w.r.t. the whole dataset. This is actually a bad news for many reasons:\n",
    "\n",
    "1) The test set could have longer sentences, in that case the MLP can't be applied unless:\n",
    "  - the input sentence is truncated\n",
    "  - the MLP is trained with some proper overhead in the maximum length of the training sentence.\n",
    "\n",
    "2) Also if we are lucky and the test set doesn't contain longer sentences than the training set, the MLP has lots of useless parameters since it will likely often receive sentences with a lot of padding to reach the same length of the longest sentence."
   ]
  },
  {
   "cell_type": "code",
   "execution_count": null,
   "metadata": {
    "id": "-ApjngiRY6W-"
   },
   "outputs": [],
   "source": [
    "# clear gpu memory before another training:\n",
    "import torch, gc\n",
    "gc.collect()\n",
    "torch.cuda.empty_cache()"
   ]
  },
  {
   "cell_type": "code",
   "execution_count": null,
   "metadata": {
    "id": "kzLIG12rrGEu"
   },
   "outputs": [],
   "source": [
    "# Compute maximum length\n",
    "max_len_train = max(map(len, train_corpus))\n",
    "\n",
    "encoder = MLP([max_len_train * emb_dim, 64]).to(DEVICE)\n",
    "classifier_in_features = encoder.get_output_dim() * 2 if merge_strategy == 'concat' else encoder.get_output_dim()\n",
    "classifier = nn.Linear(in_features=classifier_in_features, out_features=1)\n",
    "prover = ClaimProver(encoder, classifier).to(DEVICE)"
   ]
  },
  {
   "cell_type": "code",
   "execution_count": null,
   "metadata": {
    "id": "rvfiVLohUO5R"
   },
   "outputs": [],
   "source": [
    "# Define Adam optimizer\n",
    "optimizer = torch.optim.Adam(prover.parameters(), lr=1e-3)\n",
    "\n",
    "history = training_loop(model=prover,\n",
    "                        train_data=train_data,\n",
    "                        optimizer=optimizer,\n",
    "                        epochs=EP,\n",
    "                        batch_size=BS,\n",
    "                        criterion=criterion,\n",
    "                        train_embedder=train_embedder,\n",
    "                        label_to_idx=label_to_idx,\n",
    "                        val_embedder=val_embedder,\n",
    "                        val_data=val_data,\n",
    "                        max_len=max_len_train,\n",
    "                        early_stopping=True,\n",
    "                        checkpoint_path='mlp.pt')\n",
    "\n",
    "plot_history(history, title='MLP training review')"
   ]
  },
  {
   "cell_type": "code",
   "execution_count": null,
   "metadata": {
    "colab": {
     "base_uri": "https://localhost:8080/",
     "height": 328
    },
    "id": "wLsDpApTW2cJ",
    "outputId": "738f07aa-da89-40e9-84f6-ccfab43c7dc0"
   },
   "outputs": [
    {
     "data": {
      "image/png": "[encoded data removed]",
      "text/plain": [
       "<IPython.core.display.Image object>"
      ]
     },
     "metadata": {
      "tags": []
     },
     "output_type": "display_data"
    }
   ],
   "source": [
    "# Since we split the training of the different kind of models between each member of the group, in order to merge the results in the notebook we plot the image resuming the training:"
   ]
  },
  {
   "cell_type": "markdown",
   "metadata": {
    "id": "FHA1fpeerGwc"
   },
   "source": [
    "### 4. MeanEmbedder + 'concat'\n",
    "Here we train the `MeanEmbedder` model with default 'concat' strategy."
   ]
  },
  {
   "cell_type": "code",
   "execution_count": null,
   "metadata": {
    "id": "OCiG24kXY6W_"
   },
   "outputs": [],
   "source": [
    "# clear gpu memory before another training:\n",
    "import torch, gc\n",
    "gc.collect()\n",
    "torch.cuda.empty_cache()"
   ]
  },
  {
   "cell_type": "code",
   "execution_count": null,
   "metadata": {
    "id": "vLj55CehrHEg"
   },
   "outputs": [],
   "source": [
    "# Build model\n",
    "encoder = MeanEmbedder(emb_dim).to(DEVICE)\n",
    "classifier_in_features = encoder.get_output_dim() * 2 if merge_strategy == 'concat' else encoder.get_output_dim()\n",
    "classifier = nn.Linear(in_features=classifier_in_features, out_features=1)\n",
    "prover = ClaimProver(encoder, classifier).to(DEVICE)"
   ]
  },
  {
   "cell_type": "code",
   "execution_count": null,
   "metadata": {
    "id": "91gVEntTUO5T"
   },
   "outputs": [],
   "source": [
    "# Define Adam optimizer\n",
    "optimizer = torch.optim.Adam(prover.parameters(), lr=1e-3)\n",
    "\n",
    "history = training_loop(model=prover,\n",
    "                        train_data=train_data,\n",
    "                        optimizer=optimizer,\n",
    "                        epochs=EP,\n",
    "                        batch_size=BS,\n",
    "                        criterion=criterion,\n",
    "                        train_embedder=train_embedder,\n",
    "                        label_to_idx=label_to_idx,\n",
    "                        val_embedder=val_embedder,\n",
    "                        val_data=val_data,\n",
    "                        early_stopping=True,\n",
    "                        checkpoint_path='mean.pt')\n",
    "\n",
    "plot_history(history, title='MeanEmbedder training review')"
   ]
  },
  {
   "cell_type": "code",
   "execution_count": null,
   "metadata": {
    "colab": {
     "base_uri": "https://localhost:8080/",
     "height": 328
    },
    "id": "HaydNVYPW8Av",
    "outputId": "694515e2-cc21-469e-d689-62d421a74f0e"
   },
   "outputs": [
    {
     "data": {
      "image/png": "[encoded data removed]",
      "text/plain": [
       "<IPython.core.display.Image object>"
      ]
     },
     "metadata": {
      "tags": []
     },
     "output_type": "display_data"
    }
   ],
   "source": [
    "# Since we split the training of the different kind of models between each member of the group, in order to merge the results in the notebook we plot the image resuming the training:"
   ]
  },
  {
   "cell_type": "markdown",
   "metadata": {
    "id": "hdZcsXlSeHNd"
   },
   "source": [
    "### The best model is RNNAverage"
   ]
  },
  {
   "cell_type": "markdown",
   "metadata": {
    "id": "E4hcd-YCsv53"
   },
   "source": [
    "## Best model + other merging strategies\n",
    "In this section, only the best model (`RNNAverage`) is trained with the alternative merging strategies:\n",
    "\n",
    "- \"avg\";\n",
    "- \"sum\".\n",
    "\n",
    "The other training parameters remain the same as before."
   ]
  },
  {
   "cell_type": "markdown",
   "metadata": {
    "id": "c84xmmi4tFkt"
   },
   "source": [
    "### 1. Avg merging strategy"
   ]
  },
  {
   "cell_type": "code",
   "execution_count": null,
   "metadata": {
    "id": "HKJd19a3Y6XC"
   },
   "outputs": [],
   "source": [
    "# clear gpu memory before another training:\n",
    "import torch, gc\n",
    "gc.collect()\n",
    "torch.cuda.empty_cache()"
   ]
  },
  {
   "cell_type": "code",
   "execution_count": null,
   "metadata": {
    "id": "V5YeBZDUtFAz"
   },
   "outputs": [],
   "source": [
    "# Build model\n",
    "merge_strategy = 'avg'\n",
    "encoder = RNNAverage(input_size=emb_dim, hidden_size=32, bidirectional = True).to(DEVICE)\n",
    "classifier_in_features = encoder.get_output_dim() * 2 if merge_strategy == 'concat' else encoder.get_output_dim()\n",
    "classifier = nn.Linear(in_features=classifier_in_features, out_features=1)# 32 * 2 = 64 due to bidirectionality\n",
    "prover = ClaimProver(encoder, classifier, merge_strategy= merge_strategy).to(DEVICE)"
   ]
  },
  {
   "cell_type": "code",
   "execution_count": null,
   "metadata": {
    "id": "BKjltApdUO5V"
   },
   "outputs": [],
   "source": [
    "# Define Adam optimizer\n",
    "optimizer = torch.optim.Adam(prover.parameters(), lr=1e-3)\n",
    "\n",
    "history = training_loop(model=prover,\n",
    "                        train_data=train_data,\n",
    "                        optimizer=optimizer,\n",
    "                        epochs=EP,\n",
    "                        batch_size=BS,\n",
    "                        criterion=criterion,\n",
    "                        train_embedder=train_embedder,\n",
    "                        label_to_idx=label_to_idx,\n",
    "                        val_embedder=val_embedder,\n",
    "                        val_data=val_data,\n",
    "                        early_stopping=True,\n",
    "                        checkpoint_path='rnn_avg_avgstr.pt')\n",
    "\n",
    "plot_history(history, title='RNNAverage+Avg training review')"
   ]
  },
  {
   "cell_type": "code",
   "execution_count": null,
   "metadata": {
    "colab": {
     "base_uri": "https://localhost:8080/",
     "height": 328
    },
    "id": "0GcCbDGHXBet",
    "outputId": "062104ca-25e5-4d35-a01a-ba3af2bbd06e"
   },
   "outputs": [
    {
     "data": {
      "image/png": "[encoded data removed]",
      "text/plain": [
       "<IPython.core.display.Image object>"
      ]
     },
     "metadata": {
      "tags": []
     },
     "output_type": "display_data"
    }
   ],
   "source": [
    "# Since we split the training of the different kind of models between each member of the group, in order to merge the results in the notebook we plot the image resuming the training:"
   ]
  },
  {
   "cell_type": "markdown",
   "metadata": {
    "id": "wsnJgt6EtJrt"
   },
   "source": [
    "### 2. Sum merging strategy"
   ]
  },
  {
   "cell_type": "code",
   "execution_count": null,
   "metadata": {
    "id": "jTH7yaW8dSV2"
   },
   "outputs": [],
   "source": [
    "# clear gpu memory before another training:\n",
    "import torch, gc\n",
    "gc.collect()\n",
    "torch.cuda.empty_cache()"
   ]
  },
  {
   "cell_type": "code",
   "execution_count": null,
   "metadata": {
    "id": "FWRubUbptrMm"
   },
   "outputs": [],
   "source": [
    "# Build model\n",
    "merge_strategy = 'sum'\n",
    "encoder = RNNAverage(input_size=emb_dim, hidden_size=32, bidirectional = True).to(DEVICE)\n",
    "classifier_in_features = encoder.get_output_dim() * 2 if merge_strategy == 'concat' else encoder.get_output_dim()\n",
    "classifier = nn.Linear(in_features=classifier_in_features, out_features=1)# 32 * 2 = 64 due to bidirectionality\n",
    "prover = ClaimProver(encoder, classifier, merge_strategy).to(DEVICE)"
   ]
  },
  {
   "cell_type": "code",
   "execution_count": null,
   "metadata": {
    "id": "9y-72YCStrbx"
   },
   "outputs": [],
   "source": [
    "# Define Adam optimizer\n",
    "optimizer = torch.optim.Adam(prover.parameters(), lr=1e-3)\n",
    "\n",
    "history = training_loop(model=prover,\n",
    "                        train_data=train_data,\n",
    "                        optimizer=optimizer,\n",
    "                        epochs=EP,\n",
    "                        batch_size=BS,\n",
    "                        criterion=criterion,\n",
    "                        train_embedder=train_embedder,\n",
    "                        label_to_idx=label_to_idx,\n",
    "                        val_embedder=val_embedder,\n",
    "                        val_data=val_data,\n",
    "                        early_stopping=True,\n",
    "                        checkpoint_path='rnn_avg_concatstr.pt')\n",
    "\n",
    "plot_history(history, title='RNNAverage+Sum training review')"
   ]
  },
  {
   "cell_type": "code",
   "execution_count": null,
   "metadata": {
    "colab": {
     "base_uri": "https://localhost:8080/",
     "height": 328
    },
    "id": "OJ0HnB2PXKou",
    "outputId": "acde994a-c64e-4408-c534-9917cfb0b372"
   },
   "outputs": [
    {
     "data": {
      "image/png": "[encoded data removed]",
      "text/plain": [
       "<IPython.core.display.Image object>"
      ]
     },
     "metadata": {
      "tags": []
     },
     "output_type": "display_data"
    }
   ],
   "source": [
    "# Since we split the training of the different kind of models between each member of the group, in order to merge the results in the notebook we plot the image resuming the training:"
   ]
  },
  {
   "cell_type": "markdown",
   "metadata": {
    "id": "o39D-M_KdrKj"
   },
   "source": [
    "### The best merging strategy is 'concat'"
   ]
  },
  {
   "cell_type": "markdown",
   "metadata": {
    "id": "gGfcaEBbt9fj"
   },
   "source": [
    "## RNNAverage + 'concat' + cosine similarity \n",
    "In this section, the best model (`RNNAverage`) and the best merging strategy (`concat`) are used together with the cosine similarity extra feature."
   ]
  },
  {
   "cell_type": "code",
   "execution_count": null,
   "metadata": {
    "id": "oNalapvzY6XF"
   },
   "outputs": [],
   "source": [
    "# clear gpu memory before another training:\n",
    "import torch, gc\n",
    "gc.collect()\n",
    "torch.cuda.empty_cache()"
   ]
  },
  {
   "cell_type": "code",
   "execution_count": null,
   "metadata": {
    "id": "_6hoeQzHuQhs"
   },
   "outputs": [],
   "source": [
    "# Build model\n",
    "\n",
    "use_cos_sim=True\n",
    "merge_strategy='concat'\n",
    "\n",
    "encoder = RNNAverage(input_size=emb_dim, hidden_size=32, bidirectional = True).to(DEVICE)  # 32 * 2 = 64 due to bidirectionality\n",
    "classifier_in_features = encoder.get_output_dim() * 2 if merge_strategy == 'concat' else encoder.get_output_dim()\n",
    "classifier = nn.Linear(in_features=classifier_in_features+use_cos_sim, out_features=1)\n",
    "prover = ClaimProver(encoder, classifier, merge_strateg, use_cos_sim).to(DEVICE)"
   ]
  },
  {
   "cell_type": "code",
   "execution_count": null,
   "metadata": {
    "id": "mHpMnazkUO5Y"
   },
   "outputs": [],
   "source": [
    "# Define Adam optimizer\n",
    "optimizer = torch.optim.Adam(prover.parameters(), lr=1e-3)\n",
    "\n",
    "history = training_loop(model=prover,\n",
    "                        train_data=train_data,\n",
    "                        optimizer=optimizer,\n",
    "                        epochs=EP,\n",
    "                        batch_size=BS,\n",
    "                        criterion=criterion,\n",
    "                        train_embedder=train_embedder,\n",
    "                        label_to_idx=label_to_idx,\n",
    "                        val_embedder=val_embedder,\n",
    "                        val_data=val_data,\n",
    "                        early_stopping=True,\n",
    "                        checkpoint_path='rnn_avg_concat_cossim.pt')\n",
    "\n",
    "plot_history(history, title='RNNAverage+Concat+Cosine training review')"
   ]
  },
  {
   "cell_type": "code",
   "execution_count": null,
   "metadata": {
    "colab": {
     "base_uri": "https://localhost:8080/",
     "height": 328
    },
    "id": "Of6Exe76Xehy",
    "outputId": "791c1e30-685a-42a3-bc6c-0de324a8ebc8"
   },
   "outputs": [
    {
     "data": {
      "image/png": "[encoded data removed]",
      "text/plain": [
       "<IPython.core.display.Image object>"
      ]
     },
     "metadata": {
      "tags": []
     },
     "output_type": "display_data"
    }
   ],
   "source": [
    "# Since we split the training of the different kind of models between each member of the group, in order to merge the results in the notebook we plot the image resuming the training:"
   ]
  },
  {
   "cell_type": "markdown",
   "metadata": {
    "id": "1yOZWBlgh4-Y"
   },
   "source": [
    "## RNNAverage + 'concat' + cosine similarity + 1 hidden layer classifier\n",
    "\n",
    "In this section, the best model (`RNNAverage`) and the best merging strategy (`concat`) are used together with the cosine similarity extra feature, and the classifier with one hidden layer."
   ]
  },
  {
   "cell_type": "code",
   "execution_count": null,
   "metadata": {
    "id": "TdPcaqWqhyhN"
   },
   "outputs": [],
   "source": [
    "# clear gpu memory before another training:\n",
    "import torch, gc\n",
    "gc.collect()\n",
    "torch.cuda.empty_cache()"
   ]
  },
  {
   "cell_type": "code",
   "execution_count": null,
   "metadata": {
    "id": "U30-wDKKhyrR"
   },
   "outputs": [],
   "source": [
    "# Build model\n",
    "use_cos_sim = True\n",
    "merge_strategy = 'concat'\n",
    "\n",
    "encoder = RNNAverage(input_size=emb_dim, hidden_size=32, bidirectional=True, num_layers=1).to(DEVICE)  # 32 * 2 = 64 due to bidirectionality\n",
    "classifier_in_features = encoder.get_output_dim() * 2 if merge_strategy == 'concat' else encoder.get_output_dim()\n",
    "classifier = nn.Sequential(\n",
    "                          nn.Linear(in_features=classifier_in_features + use_cos_sim, out_features=128),\n",
    "                          nn.Linear(in_features=128, out_features=1)\n",
    "                          ).to(DEVICE)\n",
    "prover = ClaimProver(encoder, classifier, use_cos_sim=True).to(DEVICE)"
   ]
  },
  {
   "cell_type": "code",
   "execution_count": null,
   "metadata": {
    "id": "S2lqCZ3Phy_G"
   },
   "outputs": [],
   "source": [
    "# Define Adam optimizer\n",
    "optimizer = torch.optim.Adam(prover.parameters(), lr=1e-3)\n",
    "\n",
    "history = training_loop(model=prover,\n",
    "                        train_data=train_data,\n",
    "                        optimizer=optimizer,\n",
    "                        epochs=EP,\n",
    "                        batch_size=BS,\n",
    "                        criterion=criterion,\n",
    "                        train_embedder=train_embedder,\n",
    "                        label_to_idx=label_to_idx,\n",
    "                        val_embedder=val_embedder,\n",
    "                        val_data=val_data,\n",
    "                        early_stopping=True,\n",
    "                        checkpoint_path='rnn_avg_concat_cossim.pt')\n",
    "\n",
    "plot_history(history, title='RNNAverage+Concat+Cosine+Classifier_hidden_layer training review')"
   ]
  },
  {
   "cell_type": "code",
   "execution_count": null,
   "metadata": {
    "colab": {
     "base_uri": "https://localhost:8080/",
     "height": 328
    },
    "id": "ysDtg4xFiHob",
    "outputId": "fd486f25-e055-4ed8-cc09-b5cf22b8a1ab"
   },
   "outputs": [
    {
     "data": {
      "image/png": "[encoded data removed]",
      "text/plain": [
       "<IPython.core.display.Image object>"
      ]
     },
     "metadata": {
      "tags": []
     },
     "output_type": "display_data"
    }
   ],
   "source": [
    "#pil_img = Image(\"figure_RNNAverage+Concat+Cosine+Classifier_hidden_layer_training_review.png\")\n",
    "#display(pil_img)"
   ]
  },
  {
   "cell_type": "markdown",
   "metadata": {
    "id": "oXn0p3czvzsa"
   },
   "source": [
    "As it can be seen, the best model is `RNNAverage` with `concat` strategy and cosine similarity feature. The hidden layer in the classifier actually decreases the performances."
   ]
  },
  {
   "cell_type": "markdown",
   "metadata": {
    "id": "Nd74ULgpnJrc"
   },
   "source": [
    "# Performance evaluation\n",
    "\n",
    "Due to our simplifications, obtained results are not directly compatible with a traditional fact checking method that considers the evidence set as a whole.\n",
    "\n",
    "Thus, we need to consider two types of evaluations.\n",
    "\n",
    "**Multi-input classification evaluation**\n",
    "\n",
    "This type of evaluation is the easiest and concerns computing evaluation metrics, such as accuracy, f1-score, recall and precision, of our pre-processed dataset.\n",
    "\n",
    "In other words, we assess the performance of chosen classifiers.\n",
    "\n",
    "**Claim verification evaluation**\n",
    "\n",
    "However, if we want to give an answer concerning the claim itself, we need to consider the whole evidence set. \n",
    "\n",
    "Intuitively, for a given claim, we consider all its corresponding (claim, evidence) pairs and their corresponding classification outputs. \n",
    "\n",
    "At this point, all we need to do is to compute the final predicted claim label via majority voting.\n",
    "\n",
    "Example:\n",
    "\n",
    "    Claim: c1\n",
    "    Evidence set: e1, e2, e3\n",
    "    True label: S\n",
    "\n",
    "    Pair outputs:\n",
    "    (c1, e1) -> S (supports)\n",
    "    (c1, e2) -> S (supports)\n",
    "    (c1, e3) -> R (refutes)\n",
    "\n",
    "    Majority voting:\n",
    "    S -> 2 votes\n",
    "    R -> 1 vote\n",
    "\n",
    "    Final label:\n",
    "    c1 -> S\n",
    "\n",
    "Lastly, we have to compute classification metrics just like before."
   ]
  },
  {
   "cell_type": "markdown",
   "metadata": {
    "id": "1saDARaGt-ab"
   },
   "source": [
    "## performance evaluation functions definition:"
   ]
  },
  {
   "cell_type": "code",
   "execution_count": null,
   "metadata": {
    "id": "hEBx9ztXY6XI"
   },
   "outputs": [],
   "source": [
    "def compute_std_metrics(model: ClaimProver,\n",
    "                        data: List[Tuple[List[str], List[str], str]],\n",
    "                        batch_size: int,\n",
    "                        embedder: Embedder,\n",
    "                        label_to_idx: Dict[str, int],\n",
    "                        max_len: Optional[int] = None):\n",
    "    true_labels = []\n",
    "    pred_labels = []\n",
    "\n",
    "    with torch.no_grad():\n",
    "      # Create batch iterator\n",
    "      batch_iter = batch_iteration(data, batch_size)\n",
    "      for batch in batch_iter:\n",
    "          # Extract samples\n",
    "          (claims, evidences, labels) = to_tuple_of_lists(batch)\n",
    "\n",
    "          # Get encoding of claims, evidences and labels, and move them to GPU if available\n",
    "          claims_tensor, claims_lengths = embedder.get_word_embedding(claims, max_len)\n",
    "          evidences_tensor, evidences_lengths = embedder.get_word_embedding(evidences, max_len)\n",
    "          claims_tensor = claims_tensor.to(DEVICE)\n",
    "          evidences_tensor = evidences_tensor.to(DEVICE)\n",
    "          labels_tensor = torch.FloatTensor([label_to_idx[l] for l in labels if len(l) > 0]).to(DEVICE)\n",
    "\n",
    "          # Make prediction\n",
    "          scores = model(claims_tensor, evidences_tensor, claims_lengths, evidences_lengths)\n",
    "            \n",
    "          # Compute output labels\n",
    "          scores = torch.sigmoid(scores)\n",
    "          predictions = scores.squeeze() > 0.5\n",
    "\n",
    "          # Evaluate true and predicted labels\n",
    "          for index, true_label in enumerate(labels_tensor):\n",
    "            true_labels.append(int(true_label))\n",
    "            if predictions[index]:\n",
    "              pred_labels.append(1)\n",
    "            else:\n",
    "              pred_labels.append(0)\n",
    "    \n",
    "    print(\"Accuracy:  \", accuracy_score(true_labels, pred_labels))\n",
    "    print(\"F1 score:  \", f1_score(true_labels, pred_labels))\n",
    "    print(\"Recall:    \", recall_score(true_labels, pred_labels))\n",
    "    print(\"Precision: \", precision_score(true_labels, pred_labels))"
   ]
  },
  {
   "cell_type": "code",
   "execution_count": null,
   "metadata": {
    "id": "f2PRHiG5t-ab"
   },
   "outputs": [],
   "source": [
    "def claims_true_labels(df_in: pd.DataFrame) -> Dict[str, bool]:\n",
    "\n",
    "  acc = pd.DataFrame(columns=[\"Claim\", \"#Supports\", \"#Refutes\"])\n",
    "  for _, row in df_in.iterrows():\n",
    "    if row[\"Claim\"] in acc[\"Claim\"].tolist():\n",
    "      index = acc[\"Claim\"].tolist().index(row[\"Claim\"])\n",
    "      acc = acc.reset_index(drop=True)\n",
    "      if row[\"Label\"] == \"SUPPORTS\":\n",
    "        acc['#Supports'][index] = int(acc[\"#Supports\"][index]) + 1\n",
    "      else:\n",
    "        acc['#Refutes'][index] = int(acc[\"#Refutes\"][index]) + 1\n",
    "    else:\n",
    "      if row[\"Label\"] == \"SUPPORTS\":\n",
    "        tmp = pd.DataFrame([[row[\"Claim\"], 1, 0]], columns=[\"Claim\", \"#Supports\", \"#Refutes\"])\n",
    "      else:\n",
    "        tmp = pd.DataFrame([[row[\"Claim\"], 0, 1]], columns=[\"Claim\", \"#Supports\", \"#Refutes\"])\n",
    "      acc = acc.append(tmp)\n",
    "\n",
    "  claims_labels_dict = {}\n",
    "  for _, row in acc.iterrows():\n",
    "    if row[\"#Supports\"] > row[\"#Refutes\"]:\n",
    "      claims_labels_dict[\" \".join(nltk.word_tokenize(row[\"Claim\"]))] = True\n",
    "    else:\n",
    "      claims_labels_dict[\" \".join(nltk.word_tokenize(row[\"Claim\"]))] = False\n",
    "\n",
    "  return claims_labels_dict"
   ]
  },
  {
   "cell_type": "code",
   "execution_count": null,
   "metadata": {
    "id": "TMNcQAtkt-ac"
   },
   "outputs": [],
   "source": [
    "def claims_predicted_labels(model: ClaimProver,\n",
    "                            data: List[Tuple[List[str], List[str], str]],\n",
    "                            batch_size: int,\n",
    "                            embedder: Embedder,\n",
    "                            label_to_idx: Dict[str, int],\n",
    "                            max_len: Optional[int] = None) -> Dict[str, bool]:\n",
    "\n",
    "    claims_labels_dict = {}\n",
    "    \n",
    "    with torch.no_grad():\n",
    "      # Create batch iterator\n",
    "      batch_iter = batch_iteration(data, batch_size)\n",
    "      for batch in batch_iter:\n",
    "          # Extract samples\n",
    "          (claims, evidences, labels) = to_tuple_of_lists(batch)\n",
    "\n",
    "          # Get encoding of claims, evidences and labels, and move them to GPU if available\n",
    "          claims_tensor, claims_lengths = embedder.get_word_embedding(claims, max_len)\n",
    "          evidences_tensor, evidences_lengths = embedder.get_word_embedding(evidences, max_len)\n",
    "          claims_tensor = claims_tensor.to(DEVICE)\n",
    "          evidences_tensor = evidences_tensor.to(DEVICE)\n",
    "          labels_tensor = torch.FloatTensor([label_to_idx[l] for l in labels if len(l) > 0]).to(DEVICE)\n",
    "\n",
    "          # Make prediction\n",
    "          scores = model(claims_tensor, evidences_tensor, claims_lengths, evidences_lengths)\n",
    "            \n",
    "          # Compute output labels\n",
    "          scores = torch.sigmoid(scores)\n",
    "          predictions = scores.squeeze() > 0.5\n",
    "\n",
    "          # compute claim verification\n",
    "          claims_flat = []\n",
    "          for claim in claims:\n",
    "            if claim:\n",
    "              claims_flat.append(' '.join(claim))\n",
    "\n",
    "          for index, claim in enumerate(claims_flat):\n",
    "            if claim in claims_labels_dict:\n",
    "              if predictions[index]:\n",
    "                claims_labels_dict[claim] = (claims_labels_dict[claim][0],\n",
    "                                             claims_labels_dict[claim][1] + 1)\n",
    "              else:\n",
    "                claims_labels_dict[claim] = (claims_labels_dict[claim][0] + 1,\n",
    "                                             claims_labels_dict[claim][1])\n",
    "            else:\n",
    "              if predictions[index]:\n",
    "                claims_labels_dict[claim] = (0, 1)\n",
    "              else:\n",
    "                claims_labels_dict[claim] = (1, 0)\n",
    "\n",
    "      # compute voting\n",
    "      for claim, votes in claims_labels_dict.items():\n",
    "        if votes[0] > votes[1]:\n",
    "          claims_labels_dict[claim] = False\n",
    "        else:\n",
    "          claims_labels_dict[claim] = True\n",
    "\n",
    "    return claims_labels_dict"
   ]
  },
  {
   "cell_type": "code",
   "execution_count": null,
   "metadata": {
    "id": "HjoK0efBt-ac"
   },
   "outputs": [],
   "source": [
    "def compute_metrics(ctl: Dict[str, bool], cpl: Dict[str, bool]):\n",
    "  true_labels = []\n",
    "  pred_labels = []\n",
    "  for claim, label in ctl.items():\n",
    "    true_labels.append(label)\n",
    "    pred_labels.append(cpl[claim])\n",
    "\n",
    "  print(\"Accuracy:  \", accuracy_score(true_labels, pred_labels))\n",
    "  print(\"F1 score:  \", f1_score(true_labels, pred_labels))\n",
    "  print(\"Recall:    \", recall_score(true_labels, pred_labels))\n",
    "  print(\"Precision: \", precision_score(true_labels, pred_labels))"
   ]
  },
  {
   "cell_type": "code",
   "execution_count": null,
   "metadata": {
    "id": "e8v07ydYY6XJ",
    "outputId": "c94ad661-23df-4076-8e96-b1efba00346c"
   },
   "outputs": [
    {
     "data": {
      "text/plain": [
       "<All keys matched successfully>"
      ]
     },
     "execution_count": 225,
     "metadata": {
      "tags": []
     },
     "output_type": "execute_result"
    }
   ],
   "source": [
    "###### Load the model: \n",
    "\n",
    "use_cos_sim=True\n",
    "merge_strategy = 'concat'\n",
    "\n",
    "encoder = RNNAverage(input_size=emb_dim, hidden_size=32, bidirectional = True).to(DEVICE)  # 32 * 2 = 64 due to bidirectionality\n",
    "classifier_in_features = encoder.get_output_dim() * 2 if merge_strategy == 'concat' else encoder.get_output_dim()\n",
    "classifier = nn.Linear(in_features=classifier_in_features+use_cos_sim, out_features=1)\n",
    "prover = ClaimProver(encoder, classifier, merge_strategy='concat', use_cos_sim=use_cos_sim).to(DEVICE)\n",
    "\n",
    "prover.load_state_dict(torch.load('best_model.pt'))\n"
   ]
  },
  {
   "cell_type": "code",
   "execution_count": null,
   "metadata": {
    "id": "Oi35mYUbY6XK",
    "outputId": "e77cef43-78c5-4c3b-910c-9744d03dcc5c"
   },
   "outputs": [
    {
     "name": "stdout",
     "output_type": "stream",
     "text": [
      "Accuracy:   0.734594519404646\n",
      "F1 score:   0.7239583333333333\n",
      "Recall:     0.6938435940099834\n",
      "Precision:  0.7568058076225045\n"
     ]
    }
   ],
   "source": [
    "max_len_test = max(map(len, test_corpus))\n",
    "\n",
    "compute_std_metrics(prover,\n",
    "                    test_data,\n",
    "                    BS,\n",
    "                    test_embedder,\n",
    "                    label_to_idx,\n",
    "                    max_len_test)"
   ]
  },
  {
   "cell_type": "code",
   "execution_count": null,
   "metadata": {
    "colab": {
     "base_uri": "https://localhost:8080/"
    },
    "id": "KGDKHOIZt-ad",
    "outputId": "60963d76-dae8-4a11-c800-09d33cc142f0"
   },
   "outputs": [
    {
     "name": "stdout",
     "output_type": "stream",
     "text": [
      "Accuracy:   0.7323727774371551\n",
      "F1 score:   0.7213533354612194\n",
      "Recall:     0.6904980140543844\n",
      "Precision:  0.7550952221850986\n"
     ]
    }
   ],
   "source": [
    "max_len_test = max(map(len, test_corpus))\n",
    "\n",
    "ctl = claims_true_labels(df_test)\n",
    "cpl = claims_predicted_labels(prover,\n",
    "                              test_data,\n",
    "                              BS, # BS\n",
    "                              test_embedder,\n",
    "                              label_to_idx,\n",
    "                              max_len_test)\n",
    "compute_metrics(ctl, cpl)"
   ]
  },
  {
   "cell_type": "markdown",
   "metadata": {
    "id": "jzt57dJot-ad"
   },
   "source": [
    "# Error anaysis"
   ]
  },
  {
   "cell_type": "code",
   "execution_count": null,
   "metadata": {
    "id": "w8jYKwvYt-ad"
   },
   "outputs": [],
   "source": [
    "def order_by_error (data: List[Tuple[List[str], List[str]]], model: nn.Module, embedder: Embedder, max_len: int):\n",
    "    # Extract samples\n",
    "    (claims, evidences, labels) = to_tuple_of_lists(data)\n",
    "\n",
    "    # Get encoding of claims, evidences and labels, and move them to GPU if available\n",
    "    claims_tensor, claims_lengths = embedder.get_word_embedding(claims, max_len)\n",
    "    evidences_tensor, evidences_lengths = embedder.get_word_embedding(evidences, max_len)\n",
    "    claims_tensor = claims_tensor.to(DEVICE)\n",
    "    evidences_tensor = evidences_tensor.to(DEVICE)\n",
    "    labels_tensor = torch.FloatTensor([label_to_idx[l] for l in labels if len(l) > 0]).to(DEVICE)\n",
    "\n",
    "    with torch.no_grad():\n",
    "        # Make prediction\n",
    "        scores = model(claims_tensor, evidences_tensor, claims_lengths, evidences_lengths)\n",
    "        scores = torch.sigmoid(scores)\n",
    "        scores.squeeze_(dim=1)\n",
    "\n",
    "    # Compute absolute error between expected label and predicted score\n",
    "    absolute_error =  torch.abs(labels_tensor - scores)\n",
    "\n",
    "    predictions = (scores > 0.5).type(torch.int)\n",
    "\n",
    "    return torch.argsort(absolute_error, descending=True), predictions"
   ]
  },
  {
   "cell_type": "code",
   "execution_count": null,
   "metadata": {
    "colab": {
     "base_uri": "https://localhost:8080/"
    },
    "id": "tvRiBM8Qt-ae",
    "outputId": "dfb787fd-d3cf-4c21-8979-059d20de3209"
   },
   "outputs": [
    {
     "name": "stdout",
     "output_type": "stream",
     "text": [
      "Index: 688\n",
      "Claim: Barbarella is not non-fiction .\n",
      "Evidence: Barbarella is a 1968 science fiction film directed by Roger Vadim based on the French comic Barbarella\n",
      "Predicted label: REFUTES\n",
      "Correct label: SUPPORTS\n",
      "\n",
      "Index: 404\n",
      "Claim: John Frusciante was incapable of releasing eleven solo albums .\n",
      "Evidence: Frusciante has an active solo career having released eleven solo albums and five EPs his recordings include elements ranging from experimental rock and ambient music to new wave and electronica\n",
      "Predicted label: REFUTES\n",
      "Correct label: SUPPORTS\n",
      "\n",
      "Index: 924\n",
      "Claim: Hollow Man has zero sequels .\n",
      "Evidence: A directtovideo standalone sequel called Hollow Man 2 starring Christian Slater and Peter Facinelli was released in 2006\n",
      "Predicted label: REFUTES\n",
      "Correct label: SUPPORTS\n",
      "\n",
      "Index: 313\n",
      "Claim: John Goodman starred in Cloverfield .\n",
      "Evidence: His other film performances include lead roles in The Babe 1992 The Flintstones 1994 and 10 Cloverfield Lane 2016 and supporting roles in Coyote Ugly 2000 The Artist 2011 Extremely Loud and Incredibly Close 2011 Argo 2012 Flight 2012 The Hangover Part III 2013 and Patriots Day 2016\n",
      "Predicted label: SUPPORTS\n",
      "Correct label: REFUTES\n",
      "\n",
      "Index: 670\n",
      "Claim: Physics includes biology .\n",
      "Evidence: Over the last two millennia physics was a part of natural philosophy along with chemistry biology and certain branches of mathematics but during the scientific revolution in the 17th century the natural sciences emerged as unique research programs in their own right\n",
      "Predicted label: SUPPORTS\n",
      "Correct label: REFUTES\n",
      "\n",
      "Index: 916\n",
      "Claim: Kojol received an award .\n",
      "Evidence: Regarded as one of India 's most successful and highestpaid actresses Kajol is the recipient of numerous accolades including six Filmfare Awards among twelve nominations\n",
      "Predicted label: SUPPORTS\n",
      "Correct label: REFUTES\n",
      "\n",
      "Index: 669\n",
      "Claim: Physics includes biology .\n",
      "Evidence: Biology is a natural science concerned with the study of life and living organisms including their structure function growth evolution distribution identification and taxonomy\n",
      "Predicted label: SUPPORTS\n",
      "Correct label: REFUTES\n",
      "\n",
      "Index: 273\n",
      "Claim: Aphrodite is a goddess in Greek mythology .\n",
      "Evidence: Aphrodite Greek is the Greek goddess of love beauty pleasure and procreation\n",
      "Predicted label: SUPPORTS\n",
      "Correct label: REFUTES\n",
      "\n",
      "Index: 393\n",
      "Claim: There are 26 world title wins and 0 loss record under Floyd Mayweather Jr .\n",
      "Evidence: He finished his career with a record of 26 wins without a loss or draw in world title fights 10 by KO 23 wins 9 KOs in lineal title fights 24 wins 7 KOs against former or current world titlists 12 wins 3 KOs against former or current lineal champions and 2 wins 1 KO against International Boxing Hall of Fame inductees\n",
      "Predicted label: REFUTES\n",
      "Correct label: SUPPORTS\n",
      "\n",
      "Index: 394\n",
      "Claim: There are 26 world title wins and 0 loss record under Floyd Mayweather Jr .\n",
      "Evidence: Champions recognized by sanctioning bodies such as the World Boxing Association WBA or World Boxing Council WBC or the Ultimate Fighting Championship UFC may vacate their title voluntarily or be stripped of the title for breaching the sanctioning body 's regulations or contracts\n",
      "Predicted label: REFUTES\n",
      "Correct label: SUPPORTS\n",
      "\n"
     ]
    }
   ],
   "source": [
    "indexes, predictions = order_by_error(test_data[:1000], prover, test_embedder, max_len_train)\n",
    "\n",
    "(claims, evidences, labels) = to_tuple_of_lists(test_data[:1000])\n",
    "\n",
    "for i in range(10):\n",
    "    idx = indexes[i].item()\n",
    "\n",
    "    print(\"Index:\", idx)\n",
    "    print(\"Claim:\", \" \".join(claims[idx]))\n",
    "    print(\"Evidence:\", \" \".join(evidences[idx]))\n",
    "    print(\"Predicted label:\", idx_to_label[predictions[idx].item()])\n",
    "    print(\"Correct label:\", labels[idx])\n",
    "    print(\"\")"
   ]
  },
  {
   "cell_type": "markdown",
   "metadata": {
    "id": "rSp47VtyY6XM"
   },
   "source": [
    "### There are different kind of errors:\n",
    "    \n",
    "* Confusion due to negation. To solve this problem it could be concatenated \"not_\" to all the words between the negation and the punctuation mark. Or it could be done some kind of flipping of the prediction depending on the number of negations, but this should be probably combined with a POS tagging to understand if the negation is referred to the same thing in the claim and in the evidence.\n",
    "\n",
    "* Different order of the words could lead to very different sentence encodings of claim and evidence confuse the classification. Example: \n",
    "\n",
    "   - Claim: Hollow Man has zero sequels .\n",
    "   - Evidence: ... standalone sequel called Hollow Man 2... \n",
    "   \n",
    "   It could be solved with some clever way to order the words in the evidence according to some POS tagging and dependencies between words in the claim. \n",
    "   \n",
    "* The Evidence is much longer than the claim, it could help an Attention technique.\n",
    "   \n",
    "* Some Evidence-Claim pairs are really difficult: the Claim uses completely different words to express the same concept which is in the Evidence, not using synonimous but for example \"He starred in..\" in the Evidence is expressed by \"His film performances include...\". Here the model is required to improve the semantic understanding.\n",
    "   \n",
    "* There are some bad samples in the dataset, some have a wrong label, some instead have no information in the Evidence about the Claim (this is due to the splitting done to simplify the problem)."
   ]
  },
  {
   "cell_type": "code",
   "execution_count": null,
   "metadata": {
    "id": "VHxJFDebY6XN",
    "outputId": "c4505f95-8237-4a44-c3e2-77ff7ed4c12f",
    "scrolled": true
   },
   "outputs": [
    {
     "name": "stdout",
     "output_type": "stream",
     "text": [
      "############################## INCORRECT LABELS OF THE DATASET: ##########################\n",
      "\n",
      "EXAMPLE1:\n",
      "\n",
      "Claim: \n",
      " John Frusciante was incapable of releasing eleven solo albums.\n",
      "\n",
      "Evidence: \n",
      " Frusciante has an active solo career  having released eleven solo albums and five EPs  his recordings include elements ranging from experimental rock and ambient music to new wave and electronica \n",
      "\n",
      "Label from the dataset:  SUPPORTS\n",
      "\n",
      "\n",
      "EXAMPLE2:\n",
      "\n",
      "Claim: \n",
      " Aphrodite is a goddess in Greek mythology.\n",
      "\n",
      "Evidence: \n",
      " Aphrodite  Greek     is the Greek goddess of love  beauty  pleasure  and procreation \n",
      "\n",
      "Label from the dataset:  REFUTES\n",
      "\n",
      "\n",
      "############################## Evidence without informations about the Claim: ###########\n",
      "\n",
      "Claim: \n",
      " There are 26 world title wins and 0 loss record under Floyd Mayweather Jr.\n",
      "\n",
      "Evidence: \n",
      " Champions recognized by sanctioning bodies such as the World Boxing Association  WBA  or World Boxing Council  WBC   or the Ultimate Fighting Championship  UFC  may vacate their title voluntarily  or be stripped of the title for breaching the sanctioning body 's regulations or contracts \n",
      "\n",
      "Label from the dataset:  SUPPORTS\n"
     ]
    }
   ],
   "source": [
    "# Incorrect dataset label \n",
    "\n",
    "print(\"############################## INCORRECT LABELS OF THE DATASET: ##########################\\n\")\n",
    "\n",
    "print(\"EXAMPLE1:\\n\")\n",
    "index = 404 # which is also in contraddiction with the claim-evidence with index 403\n",
    "print(\"Claim: \\n\", df_test['Claim'][index])\n",
    "print(\"\\nEvidence: \\n\", df_test['Evidence'][index])\n",
    "print(\"\\nLabel from the dataset: \",df_test['Label'][index])\n",
    "\n",
    "\n",
    "print(\"\\n\\nEXAMPLE2:\\n\")\n",
    "index =  273\n",
    "print(\"Claim: \\n\", df_test['Claim'][index])\n",
    "print(\"\\nEvidence: \\n\", df_test['Evidence'][index])\n",
    "print(\"\\nLabel from the dataset: \",df_test['Label'][index])\n",
    "\n",
    "\n",
    "# Not containing enough info samples:\n",
    "print(\"\\n\\n############################## Evidence without informations about the Claim: ###########\\n\")\n",
    "index =  394\n",
    "print(\"Claim: \\n\", df_test['Claim'][index])\n",
    "print(\"\\nEvidence: \\n\", df_test['Evidence'][index])\n",
    "print(\"\\nLabel from the dataset: \",df_test['Label'][index])"
   ]
  },
  {
   "cell_type": "markdown",
   "metadata": {
    "id": "yg8WOFe3jU-7"
   },
   "source": [
    "# Report\n",
    "\n",
    "The class \"ClaimProver\" retrieves a model which is a combination of an encoder and a classifier. The encoder can be: an MLP with any number of layers, an LSTM optionally bidirectional with any number of layers, a bag of vectors. The classifier is an MLP. We compared the baselines using the whole training set and validation set respectively to train and evaluate them. According to our experiments the best baseline model is the \"RNNAverage\", the best merging strategy is the concatenation and the cosine similarity improves the performance. Extras: oov dealing with weighted mean, weighted loss based on the label frequency, mixed precision to speed up the training, error analysis (some mistakes in the dataset have been found)."
   ]
  }
 ],
 "metadata": {
  "accelerator": "GPU",
  "colab": {
   "collapsed_sections": [],
   "name": "REALLY_LAST16_12_ore14_51.ipynb",
   "provenance": [],
   "toc_visible": true
  },
  "kernelspec": {
   "display_name": "Python 3",
   "language": "python",
   "name": "python3"
  },
  "language_info": {
   "codemirror_mode": {
    "name": "ipython",
    "version": 3
   },
   "file_extension": ".py",
   "mimetype": "text/x-python",
   "name": "python",
   "nbconvert_exporter": "python",
   "pygments_lexer": "ipython3",
   "version": "3.8.5"
  },
  "widgets": {
   "application/vnd.jupyter.widget-state+json": {
    "032dffaf97934642a72a7856a1478ff5": {
     "model_module": "@jupyter-widgets/controls",
     "model_name": "ProgressStyleModel",
     "state": {
      "_model_module": "@jupyter-widgets/controls",
      "_model_module_version": "1.5.0",
      "_model_name": "ProgressStyleModel",
      "_view_count": null,
      "_view_module": "@jupyter-widgets/base",
      "_view_module_version": "1.2.0",
      "_view_name": "StyleView",
      "bar_color": null,
      "description_width": "initial"
     }
    },
    "0523a349e433449b9e0ee37c844cfd00": {
     "model_module": "@jupyter-widgets/controls",
     "model_name": "HBoxModel",
     "state": {
      "_dom_classes": [],
      "_model_module": "@jupyter-widgets/controls",
      "_model_module_version": "1.5.0",
      "_model_name": "HBoxModel",
      "_view_count": null,
      "_view_module": "@jupyter-widgets/controls",
      "_view_module_version": "1.5.0",
      "_view_name": "HBoxView",
      "box_style": "",
      "children": [
       "IPY_MODEL_63f50ed8a0794428848bd933214c4038",
       "IPY_MODEL_a83b1dae86c146cbb371891156be9a19"
      ],
      "layout": "IPY_MODEL_37b7cba5c8414de484648324d8c2e2fd"
     }
    },
    "11d84fbab76247ec853b7cbcaa0378ed": {
     "model_module": "@jupyter-widgets/controls",
     "model_name": "HBoxModel",
     "state": {
      "_dom_classes": [],
      "_model_module": "@jupyter-widgets/controls",
      "_model_module_version": "1.5.0",
      "_model_name": "HBoxModel",
      "_view_count": null,
      "_view_module": "@jupyter-widgets/controls",
      "_view_module_version": "1.5.0",
      "_view_name": "HBoxView",
      "box_style": "",
      "children": [
       "IPY_MODEL_63f5fc4917594e9d8eda663c3b60e695",
       "IPY_MODEL_553da129e6cb4497871cc5c6699172af"
      ],
      "layout": "IPY_MODEL_8aea8e9425ce4f1c8b7f9fba11697fe7"
     }
    },
    "1a8e3caef54140efbf0ce14a7a11d69b": {
     "model_module": "@jupyter-widgets/controls",
     "model_name": "DescriptionStyleModel",
     "state": {
      "_model_module": "@jupyter-widgets/controls",
      "_model_module_version": "1.5.0",
      "_model_name": "DescriptionStyleModel",
      "_view_count": null,
      "_view_module": "@jupyter-widgets/base",
      "_view_module_version": "1.2.0",
      "_view_name": "StyleView",
      "description_width": ""
     }
    },
    "21fc0936269244e1bdaa5ded8bcad783": {
     "model_module": "@jupyter-widgets/controls",
     "model_name": "HTMLModel",
     "state": {
      "_dom_classes": [],
      "_model_module": "@jupyter-widgets/controls",
      "_model_module_version": "1.5.0",
      "_model_name": "HTMLModel",
      "_view_count": null,
      "_view_module": "@jupyter-widgets/controls",
      "_view_module_version": "1.5.0",
      "_view_name": "HTMLView",
      "description": "",
      "description_tooltip": null,
      "layout": "IPY_MODEL_e62bccdbb09947c9aa7fc0a51c38fd41",
      "placeholder": "​",
      "style": "IPY_MODEL_67d2978709e94daba91a0159d614d9c0",
      "value": " 7189/7189 [00:08&lt;00:00, 832.40it/s]"
     }
    },
    "24784d03a76941978c219b807cf300f4": {
     "model_module": "@jupyter-widgets/base",
     "model_name": "LayoutModel",
     "state": {
      "_model_module": "@jupyter-widgets/base",
      "_model_module_version": "1.2.0",
      "_model_name": "LayoutModel",
      "_view_count": null,
      "_view_module": "@jupyter-widgets/base",
      "_view_module_version": "1.2.0",
      "_view_name": "LayoutView",
      "align_content": null,
      "align_items": null,
      "align_self": null,
      "border": null,
      "bottom": null,
      "display": null,
      "flex": null,
      "flex_flow": null,
      "grid_area": null,
      "grid_auto_columns": null,
      "grid_auto_flow": null,
      "grid_auto_rows": null,
      "grid_column": null,
      "grid_gap": null,
      "grid_row": null,
      "grid_template_areas": null,
      "grid_template_columns": null,
      "grid_template_rows": null,
      "height": null,
      "justify_content": null,
      "justify_items": null,
      "left": null,
      "margin": null,
      "max_height": null,
      "max_width": null,
      "min_height": null,
      "min_width": null,
      "object_fit": null,
      "object_position": null,
      "order": null,
      "overflow": null,
      "overflow_x": null,
      "overflow_y": null,
      "padding": null,
      "right": null,
      "top": null,
      "visibility": null,
      "width": null
     }
    },
    "2f880eb3ba4145c0ac9e82fcf648c541": {
     "model_module": "@jupyter-widgets/controls",
     "model_name": "FloatProgressModel",
     "state": {
      "_dom_classes": [],
      "_model_module": "@jupyter-widgets/controls",
      "_model_module_version": "1.5.0",
      "_model_name": "FloatProgressModel",
      "_view_count": null,
      "_view_module": "@jupyter-widgets/controls",
      "_view_module_version": "1.5.0",
      "_view_name": "ProgressView",
      "bar_style": "",
      "description": "100%",
      "description_tooltip": null,
      "layout": "IPY_MODEL_d2789de6a3984888bcedb82dfb3542f8",
      "max": 121740,
      "min": 0,
      "orientation": "horizontal",
      "style": "IPY_MODEL_8467efb5c54f42c688a76b512dbe0910",
      "value": 121740
     }
    },
    "33545ff01b6e49b79cde526538f648f9": {
     "model_module": "@jupyter-widgets/controls",
     "model_name": "ProgressStyleModel",
     "state": {
      "_model_module": "@jupyter-widgets/controls",
      "_model_module_version": "1.5.0",
      "_model_name": "ProgressStyleModel",
      "_view_count": null,
      "_view_module": "@jupyter-widgets/base",
      "_view_module_version": "1.2.0",
      "_view_name": "StyleView",
      "bar_color": null,
      "description_width": "initial"
     }
    },
    "37b7cba5c8414de484648324d8c2e2fd": {
     "model_module": "@jupyter-widgets/base",
     "model_name": "LayoutModel",
     "state": {
      "_model_module": "@jupyter-widgets/base",
      "_model_module_version": "1.2.0",
      "_model_name": "LayoutModel",
      "_view_count": null,
      "_view_module": "@jupyter-widgets/base",
      "_view_module_version": "1.2.0",
      "_view_name": "LayoutView",
      "align_content": null,
      "align_items": null,
      "align_self": null,
      "border": null,
      "bottom": null,
      "display": null,
      "flex": null,
      "flex_flow": null,
      "grid_area": null,
      "grid_auto_columns": null,
      "grid_auto_flow": null,
      "grid_auto_rows": null,
      "grid_column": null,
      "grid_gap": null,
      "grid_row": null,
      "grid_template_areas": null,
      "grid_template_columns": null,
      "grid_template_rows": null,
      "height": null,
      "justify_content": null,
      "justify_items": null,
      "left": null,
      "margin": null,
      "max_height": null,
      "max_width": null,
      "min_height": null,
      "min_width": null,
      "object_fit": null,
      "object_position": null,
      "order": null,
      "overflow": null,
      "overflow_x": null,
      "overflow_y": null,
      "padding": null,
      "right": null,
      "top": null,
      "visibility": null,
      "width": null
     }
    },
    "42a4d4bddac8456b96959016ba03fbc1": {
     "model_module": "@jupyter-widgets/base",
     "model_name": "LayoutModel",
     "state": {
      "_model_module": "@jupyter-widgets/base",
      "_model_module_version": "1.2.0",
      "_model_name": "LayoutModel",
      "_view_count": null,
      "_view_module": "@jupyter-widgets/base",
      "_view_module_version": "1.2.0",
      "_view_name": "LayoutView",
      "align_content": null,
      "align_items": null,
      "align_self": null,
      "border": null,
      "bottom": null,
      "display": null,
      "flex": null,
      "flex_flow": null,
      "grid_area": null,
      "grid_auto_columns": null,
      "grid_auto_flow": null,
      "grid_auto_rows": null,
      "grid_column": null,
      "grid_gap": null,
      "grid_row": null,
      "grid_template_areas": null,
      "grid_template_columns": null,
      "grid_template_rows": null,
      "height": null,
      "justify_content": null,
      "justify_items": null,
      "left": null,
      "margin": null,
      "max_height": null,
      "max_width": null,
      "min_height": null,
      "min_width": null,
      "object_fit": null,
      "object_position": null,
      "order": null,
      "overflow": null,
      "overflow_x": null,
      "overflow_y": null,
      "padding": null,
      "right": null,
      "top": null,
      "visibility": null,
      "width": null
     }
    },
    "451c9229dcf54e4bacc629faf1f9e17b": {
     "model_module": "@jupyter-widgets/base",
     "model_name": "LayoutModel",
     "state": {
      "_model_module": "@jupyter-widgets/base",
      "_model_module_version": "1.2.0",
      "_model_name": "LayoutModel",
      "_view_count": null,
      "_view_module": "@jupyter-widgets/base",
      "_view_module_version": "1.2.0",
      "_view_name": "LayoutView",
      "align_content": null,
      "align_items": null,
      "align_self": null,
      "border": null,
      "bottom": null,
      "display": null,
      "flex": null,
      "flex_flow": null,
      "grid_area": null,
      "grid_auto_columns": null,
      "grid_auto_flow": null,
      "grid_auto_rows": null,
      "grid_column": null,
      "grid_gap": null,
      "grid_row": null,
      "grid_template_areas": null,
      "grid_template_columns": null,
      "grid_template_rows": null,
      "height": null,
      "justify_content": null,
      "justify_items": null,
      "left": null,
      "margin": null,
      "max_height": null,
      "max_width": null,
      "min_height": null,
      "min_width": null,
      "object_fit": null,
      "object_position": null,
      "order": null,
      "overflow": null,
      "overflow_x": null,
      "overflow_y": null,
      "padding": null,
      "right": null,
      "top": null,
      "visibility": null,
      "width": null
     }
    },
    "4544c81e89e04ad5bab47c44f7343cd9": {
     "model_module": "@jupyter-widgets/controls",
     "model_name": "ProgressStyleModel",
     "state": {
      "_model_module": "@jupyter-widgets/controls",
      "_model_module_version": "1.5.0",
      "_model_name": "ProgressStyleModel",
      "_view_count": null,
      "_view_module": "@jupyter-widgets/base",
      "_view_module_version": "1.2.0",
      "_view_name": "StyleView",
      "bar_color": null,
      "description_width": "initial"
     }
    },
    "52a5eab1acd44aceb59e9e4003a81178": {
     "model_module": "@jupyter-widgets/controls",
     "model_name": "HBoxModel",
     "state": {
      "_dom_classes": [],
      "_model_module": "@jupyter-widgets/controls",
      "_model_module_version": "1.5.0",
      "_model_name": "HBoxModel",
      "_view_count": null,
      "_view_module": "@jupyter-widgets/controls",
      "_view_module_version": "1.5.0",
      "_view_name": "HBoxView",
      "box_style": "",
      "children": [
       "IPY_MODEL_f42c5b9f84fa43ef981d1da8d49df09b",
       "IPY_MODEL_21fc0936269244e1bdaa5ded8bcad783"
      ],
      "layout": "IPY_MODEL_deb6fac824f04bef8a245cfa223cf523"
     }
    },
    "553da129e6cb4497871cc5c6699172af": {
     "model_module": "@jupyter-widgets/controls",
     "model_name": "HTMLModel",
     "state": {
      "_dom_classes": [],
      "_model_module": "@jupyter-widgets/controls",
      "_model_module_version": "1.5.0",
      "_model_name": "HTMLModel",
      "_view_count": null,
      "_view_module": "@jupyter-widgets/controls",
      "_view_module_version": "1.5.0",
      "_view_name": "HTMLView",
      "description": "",
      "description_tooltip": null,
      "layout": "IPY_MODEL_d97e10b9592042a681e162f44ea1013c",
      "placeholder": "​",
      "style": "IPY_MODEL_7731a122d31344fe94d058695107278c",
      "value": " 42892/42892 [00:30&lt;00:00, 317.77it/s]"
     }
    },
    "5b1ebbd953504f038f4a46b51732edcc": {
     "model_module": "@jupyter-widgets/base",
     "model_name": "LayoutModel",
     "state": {
      "_model_module": "@jupyter-widgets/base",
      "_model_module_version": "1.2.0",
      "_model_name": "LayoutModel",
      "_view_count": null,
      "_view_module": "@jupyter-widgets/base",
      "_view_module_version": "1.2.0",
      "_view_name": "LayoutView",
      "align_content": null,
      "align_items": null,
      "align_self": null,
      "border": null,
      "bottom": null,
      "display": null,
      "flex": null,
      "flex_flow": null,
      "grid_area": null,
      "grid_auto_columns": null,
      "grid_auto_flow": null,
      "grid_auto_rows": null,
      "grid_column": null,
      "grid_gap": null,
      "grid_row": null,
      "grid_template_areas": null,
      "grid_template_columns": null,
      "grid_template_rows": null,
      "height": null,
      "justify_content": null,
      "justify_items": null,
      "left": null,
      "margin": null,
      "max_height": null,
      "max_width": null,
      "min_height": null,
      "min_width": null,
      "object_fit": null,
      "object_position": null,
      "order": null,
      "overflow": null,
      "overflow_x": null,
      "overflow_y": null,
      "padding": null,
      "right": null,
      "top": null,
      "visibility": null,
      "width": null
     }
    },
    "5e0a52fc390f4f7aaa6fa9c6d559531a": {
     "model_module": "@jupyter-widgets/controls",
     "model_name": "HTMLModel",
     "state": {
      "_dom_classes": [],
      "_model_module": "@jupyter-widgets/controls",
      "_model_module_version": "1.5.0",
      "_model_name": "HTMLModel",
      "_view_count": null,
      "_view_module": "@jupyter-widgets/controls",
      "_view_module_version": "1.5.0",
      "_view_name": "HTMLView",
      "description": "",
      "description_tooltip": null,
      "layout": "IPY_MODEL_c19ce687e1c845c3b688e67170099f01",
      "placeholder": "​",
      "style": "IPY_MODEL_8058300f99f3439ebc66f162c8511d8f",
      "value": " 121740/121740 [02:44&lt;00:00, 742.85it/s]"
     }
    },
    "62be894079594d67b967dc185f3d01f6": {
     "model_module": "@jupyter-widgets/controls",
     "model_name": "FloatProgressModel",
     "state": {
      "_dom_classes": [],
      "_model_module": "@jupyter-widgets/controls",
      "_model_module_version": "1.5.0",
      "_model_name": "FloatProgressModel",
      "_view_count": null,
      "_view_module": "@jupyter-widgets/controls",
      "_view_module_version": "1.5.0",
      "_view_name": "ProgressView",
      "bar_style": "",
      "description": "100%",
      "description_tooltip": null,
      "layout": "IPY_MODEL_8ee881bcaddc447e867116e908dc92ca",
      "max": 7165,
      "min": 0,
      "orientation": "horizontal",
      "style": "IPY_MODEL_032dffaf97934642a72a7856a1478ff5",
      "value": 7165
     }
    },
    "63f50ed8a0794428848bd933214c4038": {
     "model_module": "@jupyter-widgets/controls",
     "model_name": "FloatProgressModel",
     "state": {
      "_dom_classes": [],
      "_model_module": "@jupyter-widgets/controls",
      "_model_module_version": "1.5.0",
      "_model_name": "FloatProgressModel",
      "_view_count": null,
      "_view_module": "@jupyter-widgets/controls",
      "_view_module_version": "1.5.0",
      "_view_name": "ProgressView",
      "bar_style": "",
      "description": "100%",
      "description_tooltip": null,
      "layout": "IPY_MODEL_7a501b5b63f8497d8eea08025f1b3706",
      "max": 40685,
      "min": 0,
      "orientation": "horizontal",
      "style": "IPY_MODEL_4544c81e89e04ad5bab47c44f7343cd9",
      "value": 40685
     }
    },
    "63f5fc4917594e9d8eda663c3b60e695": {
     "model_module": "@jupyter-widgets/controls",
     "model_name": "FloatProgressModel",
     "state": {
      "_dom_classes": [],
      "_model_module": "@jupyter-widgets/controls",
      "_model_module_version": "1.5.0",
      "_model_name": "FloatProgressModel",
      "_view_count": null,
      "_view_module": "@jupyter-widgets/controls",
      "_view_module_version": "1.5.0",
      "_view_name": "ProgressView",
      "bar_style": "",
      "description": "100%",
      "description_tooltip": null,
      "layout": "IPY_MODEL_c1731dbb6ab745c7be8716743d80da63",
      "max": 42892,
      "min": 0,
      "orientation": "horizontal",
      "style": "IPY_MODEL_33545ff01b6e49b79cde526538f648f9",
      "value": 42892
     }
    },
    "67d2978709e94daba91a0159d614d9c0": {
     "model_module": "@jupyter-widgets/controls",
     "model_name": "DescriptionStyleModel",
     "state": {
      "_model_module": "@jupyter-widgets/controls",
      "_model_module_version": "1.5.0",
      "_model_name": "DescriptionStyleModel",
      "_view_count": null,
      "_view_module": "@jupyter-widgets/base",
      "_view_module_version": "1.2.0",
      "_view_name": "StyleView",
      "description_width": ""
     }
    },
    "6f513c0e46784f97ba0bd5f4d3889fb2": {
     "model_module": "@jupyter-widgets/controls",
     "model_name": "HBoxModel",
     "state": {
      "_dom_classes": [],
      "_model_module": "@jupyter-widgets/controls",
      "_model_module_version": "1.5.0",
      "_model_name": "HBoxModel",
      "_view_count": null,
      "_view_module": "@jupyter-widgets/controls",
      "_view_module_version": "1.5.0",
      "_view_name": "HBoxView",
      "box_style": "",
      "children": [
       "IPY_MODEL_62be894079594d67b967dc185f3d01f6",
       "IPY_MODEL_936e080bb2284db3829d29268fdc9861"
      ],
      "layout": "IPY_MODEL_24784d03a76941978c219b807cf300f4"
     }
    },
    "77016f4c612746c4b1b05d9fb9fecc40": {
     "model_module": "@jupyter-widgets/base",
     "model_name": "LayoutModel",
     "state": {
      "_model_module": "@jupyter-widgets/base",
      "_model_module_version": "1.2.0",
      "_model_name": "LayoutModel",
      "_view_count": null,
      "_view_module": "@jupyter-widgets/base",
      "_view_module_version": "1.2.0",
      "_view_name": "LayoutView",
      "align_content": null,
      "align_items": null,
      "align_self": null,
      "border": null,
      "bottom": null,
      "display": null,
      "flex": null,
      "flex_flow": null,
      "grid_area": null,
      "grid_auto_columns": null,
      "grid_auto_flow": null,
      "grid_auto_rows": null,
      "grid_column": null,
      "grid_gap": null,
      "grid_row": null,
      "grid_template_areas": null,
      "grid_template_columns": null,
      "grid_template_rows": null,
      "height": null,
      "justify_content": null,
      "justify_items": null,
      "left": null,
      "margin": null,
      "max_height": null,
      "max_width": null,
      "min_height": null,
      "min_width": null,
      "object_fit": null,
      "object_position": null,
      "order": null,
      "overflow": null,
      "overflow_x": null,
      "overflow_y": null,
      "padding": null,
      "right": null,
      "top": null,
      "visibility": null,
      "width": null
     }
    },
    "7731a122d31344fe94d058695107278c": {
     "model_module": "@jupyter-widgets/controls",
     "model_name": "DescriptionStyleModel",
     "state": {
      "_model_module": "@jupyter-widgets/controls",
      "_model_module_version": "1.5.0",
      "_model_name": "DescriptionStyleModel",
      "_view_count": null,
      "_view_module": "@jupyter-widgets/base",
      "_view_module_version": "1.2.0",
      "_view_name": "StyleView",
      "description_width": ""
     }
    },
    "774ca644d0974e168a8a95d89f7668dc": {
     "model_module": "@jupyter-widgets/base",
     "model_name": "LayoutModel",
     "state": {
      "_model_module": "@jupyter-widgets/base",
      "_model_module_version": "1.2.0",
      "_model_name": "LayoutModel",
      "_view_count": null,
      "_view_module": "@jupyter-widgets/base",
      "_view_module_version": "1.2.0",
      "_view_name": "LayoutView",
      "align_content": null,
      "align_items": null,
      "align_self": null,
      "border": null,
      "bottom": null,
      "display": null,
      "flex": null,
      "flex_flow": null,
      "grid_area": null,
      "grid_auto_columns": null,
      "grid_auto_flow": null,
      "grid_auto_rows": null,
      "grid_column": null,
      "grid_gap": null,
      "grid_row": null,
      "grid_template_areas": null,
      "grid_template_columns": null,
      "grid_template_rows": null,
      "height": null,
      "justify_content": null,
      "justify_items": null,
      "left": null,
      "margin": null,
      "max_height": null,
      "max_width": null,
      "min_height": null,
      "min_width": null,
      "object_fit": null,
      "object_position": null,
      "order": null,
      "overflow": null,
      "overflow_x": null,
      "overflow_y": null,
      "padding": null,
      "right": null,
      "top": null,
      "visibility": null,
      "width": null
     }
    },
    "7a501b5b63f8497d8eea08025f1b3706": {
     "model_module": "@jupyter-widgets/base",
     "model_name": "LayoutModel",
     "state": {
      "_model_module": "@jupyter-widgets/base",
      "_model_module_version": "1.2.0",
      "_model_name": "LayoutModel",
      "_view_count": null,
      "_view_module": "@jupyter-widgets/base",
      "_view_module_version": "1.2.0",
      "_view_name": "LayoutView",
      "align_content": null,
      "align_items": null,
      "align_self": null,
      "border": null,
      "bottom": null,
      "display": null,
      "flex": null,
      "flex_flow": null,
      "grid_area": null,
      "grid_auto_columns": null,
      "grid_auto_flow": null,
      "grid_auto_rows": null,
      "grid_column": null,
      "grid_gap": null,
      "grid_row": null,
      "grid_template_areas": null,
      "grid_template_columns": null,
      "grid_template_rows": null,
      "height": null,
      "justify_content": null,
      "justify_items": null,
      "left": null,
      "margin": null,
      "max_height": null,
      "max_width": null,
      "min_height": null,
      "min_width": null,
      "object_fit": null,
      "object_position": null,
      "order": null,
      "overflow": null,
      "overflow_x": null,
      "overflow_y": null,
      "padding": null,
      "right": null,
      "top": null,
      "visibility": null,
      "width": null
     }
    },
    "7f6a0d6a384d47d7ab2c5973eac14b61": {
     "model_module": "@jupyter-widgets/controls",
     "model_name": "DescriptionStyleModel",
     "state": {
      "_model_module": "@jupyter-widgets/controls",
      "_model_module_version": "1.5.0",
      "_model_name": "DescriptionStyleModel",
      "_view_count": null,
      "_view_module": "@jupyter-widgets/base",
      "_view_module_version": "1.2.0",
      "_view_name": "StyleView",
      "description_width": ""
     }
    },
    "8058300f99f3439ebc66f162c8511d8f": {
     "model_module": "@jupyter-widgets/controls",
     "model_name": "DescriptionStyleModel",
     "state": {
      "_model_module": "@jupyter-widgets/controls",
      "_model_module_version": "1.5.0",
      "_model_name": "DescriptionStyleModel",
      "_view_count": null,
      "_view_module": "@jupyter-widgets/base",
      "_view_module_version": "1.2.0",
      "_view_name": "StyleView",
      "description_width": ""
     }
    },
    "8467efb5c54f42c688a76b512dbe0910": {
     "model_module": "@jupyter-widgets/controls",
     "model_name": "ProgressStyleModel",
     "state": {
      "_model_module": "@jupyter-widgets/controls",
      "_model_module_version": "1.5.0",
      "_model_name": "ProgressStyleModel",
      "_view_count": null,
      "_view_module": "@jupyter-widgets/base",
      "_view_module_version": "1.2.0",
      "_view_name": "StyleView",
      "bar_color": null,
      "description_width": "initial"
     }
    },
    "8aea8e9425ce4f1c8b7f9fba11697fe7": {
     "model_module": "@jupyter-widgets/base",
     "model_name": "LayoutModel",
     "state": {
      "_model_module": "@jupyter-widgets/base",
      "_model_module_version": "1.2.0",
      "_model_name": "LayoutModel",
      "_view_count": null,
      "_view_module": "@jupyter-widgets/base",
      "_view_module_version": "1.2.0",
      "_view_name": "LayoutView",
      "align_content": null,
      "align_items": null,
      "align_self": null,
      "border": null,
      "bottom": null,
      "display": null,
      "flex": null,
      "flex_flow": null,
      "grid_area": null,
      "grid_auto_columns": null,
      "grid_auto_flow": null,
      "grid_auto_rows": null,
      "grid_column": null,
      "grid_gap": null,
      "grid_row": null,
      "grid_template_areas": null,
      "grid_template_columns": null,
      "grid_template_rows": null,
      "height": null,
      "justify_content": null,
      "justify_items": null,
      "left": null,
      "margin": null,
      "max_height": null,
      "max_width": null,
      "min_height": null,
      "min_width": null,
      "object_fit": null,
      "object_position": null,
      "order": null,
      "overflow": null,
      "overflow_x": null,
      "overflow_y": null,
      "padding": null,
      "right": null,
      "top": null,
      "visibility": null,
      "width": null
     }
    },
    "8c403d07795443d4a10cd21d06ea36bd": {
     "model_module": "@jupyter-widgets/controls",
     "model_name": "ProgressStyleModel",
     "state": {
      "_model_module": "@jupyter-widgets/controls",
      "_model_module_version": "1.5.0",
      "_model_name": "ProgressStyleModel",
      "_view_count": null,
      "_view_module": "@jupyter-widgets/base",
      "_view_module_version": "1.2.0",
      "_view_name": "StyleView",
      "bar_color": null,
      "description_width": "initial"
     }
    },
    "8ee881bcaddc447e867116e908dc92ca": {
     "model_module": "@jupyter-widgets/base",
     "model_name": "LayoutModel",
     "state": {
      "_model_module": "@jupyter-widgets/base",
      "_model_module_version": "1.2.0",
      "_model_name": "LayoutModel",
      "_view_count": null,
      "_view_module": "@jupyter-widgets/base",
      "_view_module_version": "1.2.0",
      "_view_name": "LayoutView",
      "align_content": null,
      "align_items": null,
      "align_self": null,
      "border": null,
      "bottom": null,
      "display": null,
      "flex": null,
      "flex_flow": null,
      "grid_area": null,
      "grid_auto_columns": null,
      "grid_auto_flow": null,
      "grid_auto_rows": null,
      "grid_column": null,
      "grid_gap": null,
      "grid_row": null,
      "grid_template_areas": null,
      "grid_template_columns": null,
      "grid_template_rows": null,
      "height": null,
      "justify_content": null,
      "justify_items": null,
      "left": null,
      "margin": null,
      "max_height": null,
      "max_width": null,
      "min_height": null,
      "min_width": null,
      "object_fit": null,
      "object_position": null,
      "order": null,
      "overflow": null,
      "overflow_x": null,
      "overflow_y": null,
      "padding": null,
      "right": null,
      "top": null,
      "visibility": null,
      "width": null
     }
    },
    "906a21f461c244b29ad8a4a515b1c557": {
     "model_module": "@jupyter-widgets/controls",
     "model_name": "HBoxModel",
     "state": {
      "_dom_classes": [],
      "_model_module": "@jupyter-widgets/controls",
      "_model_module_version": "1.5.0",
      "_model_name": "HBoxModel",
      "_view_count": null,
      "_view_module": "@jupyter-widgets/controls",
      "_view_module_version": "1.5.0",
      "_view_name": "HBoxView",
      "box_style": "",
      "children": [
       "IPY_MODEL_2f880eb3ba4145c0ac9e82fcf648c541",
       "IPY_MODEL_5e0a52fc390f4f7aaa6fa9c6d559531a"
      ],
      "layout": "IPY_MODEL_774ca644d0974e168a8a95d89f7668dc"
     }
    },
    "92d3f1c263d344ee9afcec806aa0a2bc": {
     "model_module": "@jupyter-widgets/base",
     "model_name": "LayoutModel",
     "state": {
      "_model_module": "@jupyter-widgets/base",
      "_model_module_version": "1.2.0",
      "_model_name": "LayoutModel",
      "_view_count": null,
      "_view_module": "@jupyter-widgets/base",
      "_view_module_version": "1.2.0",
      "_view_name": "LayoutView",
      "align_content": null,
      "align_items": null,
      "align_self": null,
      "border": null,
      "bottom": null,
      "display": null,
      "flex": null,
      "flex_flow": null,
      "grid_area": null,
      "grid_auto_columns": null,
      "grid_auto_flow": null,
      "grid_auto_rows": null,
      "grid_column": null,
      "grid_gap": null,
      "grid_row": null,
      "grid_template_areas": null,
      "grid_template_columns": null,
      "grid_template_rows": null,
      "height": null,
      "justify_content": null,
      "justify_items": null,
      "left": null,
      "margin": null,
      "max_height": null,
      "max_width": null,
      "min_height": null,
      "min_width": null,
      "object_fit": null,
      "object_position": null,
      "order": null,
      "overflow": null,
      "overflow_x": null,
      "overflow_y": null,
      "padding": null,
      "right": null,
      "top": null,
      "visibility": null,
      "width": null
     }
    },
    "936e080bb2284db3829d29268fdc9861": {
     "model_module": "@jupyter-widgets/controls",
     "model_name": "HTMLModel",
     "state": {
      "_dom_classes": [],
      "_model_module": "@jupyter-widgets/controls",
      "_model_module_version": "1.5.0",
      "_model_name": "HTMLModel",
      "_view_count": null,
      "_view_module": "@jupyter-widgets/controls",
      "_view_module_version": "1.5.0",
      "_view_name": "HTMLView",
      "description": "",
      "description_tooltip": null,
      "layout": "IPY_MODEL_92d3f1c263d344ee9afcec806aa0a2bc",
      "placeholder": "​",
      "style": "IPY_MODEL_1a8e3caef54140efbf0ce14a7a11d69b",
      "value": " 7165/7165 [00:08&lt;00:00, 822.07it/s]"
     }
    },
    "9d01098771fc4fc49c18b198bc9a265c": {
     "model_module": "@jupyter-widgets/controls",
     "model_name": "HTMLModel",
     "state": {
      "_dom_classes": [],
      "_model_module": "@jupyter-widgets/controls",
      "_model_module_version": "1.5.0",
      "_model_name": "HTMLModel",
      "_view_count": null,
      "_view_module": "@jupyter-widgets/controls",
      "_view_module_version": "1.5.0",
      "_view_name": "HTMLView",
      "description": "",
      "description_tooltip": null,
      "layout": "IPY_MODEL_42a4d4bddac8456b96959016ba03fbc1",
      "placeholder": "​",
      "style": "IPY_MODEL_7f6a0d6a384d47d7ab2c5973eac14b61",
      "value": " 38780/38780 [04:24&lt;00:00, 255.46it/s]"
     }
    },
    "a40056e9e88b4379b98ae86c5bb20fc2": {
     "model_module": "@jupyter-widgets/controls",
     "model_name": "FloatProgressModel",
     "state": {
      "_dom_classes": [],
      "_model_module": "@jupyter-widgets/controls",
      "_model_module_version": "1.5.0",
      "_model_name": "FloatProgressModel",
      "_view_count": null,
      "_view_module": "@jupyter-widgets/controls",
      "_view_module_version": "1.5.0",
      "_view_name": "ProgressView",
      "bar_style": "",
      "description": "100%",
      "description_tooltip": null,
      "layout": "IPY_MODEL_77016f4c612746c4b1b05d9fb9fecc40",
      "max": 38780,
      "min": 0,
      "orientation": "horizontal",
      "style": "IPY_MODEL_8c403d07795443d4a10cd21d06ea36bd",
      "value": 38780
     }
    },
    "a83b1dae86c146cbb371891156be9a19": {
     "model_module": "@jupyter-widgets/controls",
     "model_name": "HTMLModel",
     "state": {
      "_dom_classes": [],
      "_model_module": "@jupyter-widgets/controls",
      "_model_module_version": "1.5.0",
      "_model_name": "HTMLModel",
      "_view_count": null,
      "_view_module": "@jupyter-widgets/controls",
      "_view_module_version": "1.5.0",
      "_view_name": "HTMLView",
      "description": "",
      "description_tooltip": null,
      "layout": "IPY_MODEL_fc6340bcbb9b4bfe838b569bbe59e920",
      "placeholder": "​",
      "style": "IPY_MODEL_c43f7574fcbf4ef5a8007f7531504842",
      "value": " 40685/40685 [00:27&lt;00:00, 347.37it/s]"
     }
    },
    "c1731dbb6ab745c7be8716743d80da63": {
     "model_module": "@jupyter-widgets/base",
     "model_name": "LayoutModel",
     "state": {
      "_model_module": "@jupyter-widgets/base",
      "_model_module_version": "1.2.0",
      "_model_name": "LayoutModel",
      "_view_count": null,
      "_view_module": "@jupyter-widgets/base",
      "_view_module_version": "1.2.0",
      "_view_name": "LayoutView",
      "align_content": null,
      "align_items": null,
      "align_self": null,
      "border": null,
      "bottom": null,
      "display": null,
      "flex": null,
      "flex_flow": null,
      "grid_area": null,
      "grid_auto_columns": null,
      "grid_auto_flow": null,
      "grid_auto_rows": null,
      "grid_column": null,
      "grid_gap": null,
      "grid_row": null,
      "grid_template_areas": null,
      "grid_template_columns": null,
      "grid_template_rows": null,
      "height": null,
      "justify_content": null,
      "justify_items": null,
      "left": null,
      "margin": null,
      "max_height": null,
      "max_width": null,
      "min_height": null,
      "min_width": null,
      "object_fit": null,
      "object_position": null,
      "order": null,
      "overflow": null,
      "overflow_x": null,
      "overflow_y": null,
      "padding": null,
      "right": null,
      "top": null,
      "visibility": null,
      "width": null
     }
    },
    "c19ce687e1c845c3b688e67170099f01": {
     "model_module": "@jupyter-widgets/base",
     "model_name": "LayoutModel",
     "state": {
      "_model_module": "@jupyter-widgets/base",
      "_model_module_version": "1.2.0",
      "_model_name": "LayoutModel",
      "_view_count": null,
      "_view_module": "@jupyter-widgets/base",
      "_view_module_version": "1.2.0",
      "_view_name": "LayoutView",
      "align_content": null,
      "align_items": null,
      "align_self": null,
      "border": null,
      "bottom": null,
      "display": null,
      "flex": null,
      "flex_flow": null,
      "grid_area": null,
      "grid_auto_columns": null,
      "grid_auto_flow": null,
      "grid_auto_rows": null,
      "grid_column": null,
      "grid_gap": null,
      "grid_row": null,
      "grid_template_areas": null,
      "grid_template_columns": null,
      "grid_template_rows": null,
      "height": null,
      "justify_content": null,
      "justify_items": null,
      "left": null,
      "margin": null,
      "max_height": null,
      "max_width": null,
      "min_height": null,
      "min_width": null,
      "object_fit": null,
      "object_position": null,
      "order": null,
      "overflow": null,
      "overflow_x": null,
      "overflow_y": null,
      "padding": null,
      "right": null,
      "top": null,
      "visibility": null,
      "width": null
     }
    },
    "c43f7574fcbf4ef5a8007f7531504842": {
     "model_module": "@jupyter-widgets/controls",
     "model_name": "DescriptionStyleModel",
     "state": {
      "_model_module": "@jupyter-widgets/controls",
      "_model_module_version": "1.5.0",
      "_model_name": "DescriptionStyleModel",
      "_view_count": null,
      "_view_module": "@jupyter-widgets/base",
      "_view_module_version": "1.2.0",
      "_view_name": "StyleView",
      "description_width": ""
     }
    },
    "c8222ae4cb9a4574a829349d4c296a95": {
     "model_module": "@jupyter-widgets/controls",
     "model_name": "HBoxModel",
     "state": {
      "_dom_classes": [],
      "_model_module": "@jupyter-widgets/controls",
      "_model_module_version": "1.5.0",
      "_model_name": "HBoxModel",
      "_view_count": null,
      "_view_module": "@jupyter-widgets/controls",
      "_view_module_version": "1.5.0",
      "_view_name": "HBoxView",
      "box_style": "",
      "children": [
       "IPY_MODEL_a40056e9e88b4379b98ae86c5bb20fc2",
       "IPY_MODEL_9d01098771fc4fc49c18b198bc9a265c"
      ],
      "layout": "IPY_MODEL_5b1ebbd953504f038f4a46b51732edcc"
     }
    },
    "d2789de6a3984888bcedb82dfb3542f8": {
     "model_module": "@jupyter-widgets/base",
     "model_name": "LayoutModel",
     "state": {
      "_model_module": "@jupyter-widgets/base",
      "_model_module_version": "1.2.0",
      "_model_name": "LayoutModel",
      "_view_count": null,
      "_view_module": "@jupyter-widgets/base",
      "_view_module_version": "1.2.0",
      "_view_name": "LayoutView",
      "align_content": null,
      "align_items": null,
      "align_self": null,
      "border": null,
      "bottom": null,
      "display": null,
      "flex": null,
      "flex_flow": null,
      "grid_area": null,
      "grid_auto_columns": null,
      "grid_auto_flow": null,
      "grid_auto_rows": null,
      "grid_column": null,
      "grid_gap": null,
      "grid_row": null,
      "grid_template_areas": null,
      "grid_template_columns": null,
      "grid_template_rows": null,
      "height": null,
      "justify_content": null,
      "justify_items": null,
      "left": null,
      "margin": null,
      "max_height": null,
      "max_width": null,
      "min_height": null,
      "min_width": null,
      "object_fit": null,
      "object_position": null,
      "order": null,
      "overflow": null,
      "overflow_x": null,
      "overflow_y": null,
      "padding": null,
      "right": null,
      "top": null,
      "visibility": null,
      "width": null
     }
    },
    "d97e10b9592042a681e162f44ea1013c": {
     "model_module": "@jupyter-widgets/base",
     "model_name": "LayoutModel",
     "state": {
      "_model_module": "@jupyter-widgets/base",
      "_model_module_version": "1.2.0",
      "_model_name": "LayoutModel",
      "_view_count": null,
      "_view_module": "@jupyter-widgets/base",
      "_view_module_version": "1.2.0",
      "_view_name": "LayoutView",
      "align_content": null,
      "align_items": null,
      "align_self": null,
      "border": null,
      "bottom": null,
      "display": null,
      "flex": null,
      "flex_flow": null,
      "grid_area": null,
      "grid_auto_columns": null,
      "grid_auto_flow": null,
      "grid_auto_rows": null,
      "grid_column": null,
      "grid_gap": null,
      "grid_row": null,
      "grid_template_areas": null,
      "grid_template_columns": null,
      "grid_template_rows": null,
      "height": null,
      "justify_content": null,
      "justify_items": null,
      "left": null,
      "margin": null,
      "max_height": null,
      "max_width": null,
      "min_height": null,
      "min_width": null,
      "object_fit": null,
      "object_position": null,
      "order": null,
      "overflow": null,
      "overflow_x": null,
      "overflow_y": null,
      "padding": null,
      "right": null,
      "top": null,
      "visibility": null,
      "width": null
     }
    },
    "deb6fac824f04bef8a245cfa223cf523": {
     "model_module": "@jupyter-widgets/base",
     "model_name": "LayoutModel",
     "state": {
      "_model_module": "@jupyter-widgets/base",
      "_model_module_version": "1.2.0",
      "_model_name": "LayoutModel",
      "_view_count": null,
      "_view_module": "@jupyter-widgets/base",
      "_view_module_version": "1.2.0",
      "_view_name": "LayoutView",
      "align_content": null,
      "align_items": null,
      "align_self": null,
      "border": null,
      "bottom": null,
      "display": null,
      "flex": null,
      "flex_flow": null,
      "grid_area": null,
      "grid_auto_columns": null,
      "grid_auto_flow": null,
      "grid_auto_rows": null,
      "grid_column": null,
      "grid_gap": null,
      "grid_row": null,
      "grid_template_areas": null,
      "grid_template_columns": null,
      "grid_template_rows": null,
      "height": null,
      "justify_content": null,
      "justify_items": null,
      "left": null,
      "margin": null,
      "max_height": null,
      "max_width": null,
      "min_height": null,
      "min_width": null,
      "object_fit": null,
      "object_position": null,
      "order": null,
      "overflow": null,
      "overflow_x": null,
      "overflow_y": null,
      "padding": null,
      "right": null,
      "top": null,
      "visibility": null,
      "width": null
     }
    },
    "e62bccdbb09947c9aa7fc0a51c38fd41": {
     "model_module": "@jupyter-widgets/base",
     "model_name": "LayoutModel",
     "state": {
      "_model_module": "@jupyter-widgets/base",
      "_model_module_version": "1.2.0",
      "_model_name": "LayoutModel",
      "_view_count": null,
      "_view_module": "@jupyter-widgets/base",
      "_view_module_version": "1.2.0",
      "_view_name": "LayoutView",
      "align_content": null,
      "align_items": null,
      "align_self": null,
      "border": null,
      "bottom": null,
      "display": null,
      "flex": null,
      "flex_flow": null,
      "grid_area": null,
      "grid_auto_columns": null,
      "grid_auto_flow": null,
      "grid_auto_rows": null,
      "grid_column": null,
      "grid_gap": null,
      "grid_row": null,
      "grid_template_areas": null,
      "grid_template_columns": null,
      "grid_template_rows": null,
      "height": null,
      "justify_content": null,
      "justify_items": null,
      "left": null,
      "margin": null,
      "max_height": null,
      "max_width": null,
      "min_height": null,
      "min_width": null,
      "object_fit": null,
      "object_position": null,
      "order": null,
      "overflow": null,
      "overflow_x": null,
      "overflow_y": null,
      "padding": null,
      "right": null,
      "top": null,
      "visibility": null,
      "width": null
     }
    },
    "f28a8e61f5d74464ae61198aba7f84fa": {
     "model_module": "@jupyter-widgets/controls",
     "model_name": "ProgressStyleModel",
     "state": {
      "_model_module": "@jupyter-widgets/controls",
      "_model_module_version": "1.5.0",
      "_model_name": "ProgressStyleModel",
      "_view_count": null,
      "_view_module": "@jupyter-widgets/base",
      "_view_module_version": "1.2.0",
      "_view_name": "StyleView",
      "bar_color": null,
      "description_width": "initial"
     }
    },
    "f42c5b9f84fa43ef981d1da8d49df09b": {
     "model_module": "@jupyter-widgets/controls",
     "model_name": "FloatProgressModel",
     "state": {
      "_dom_classes": [],
      "_model_module": "@jupyter-widgets/controls",
      "_model_module_version": "1.5.0",
      "_model_name": "FloatProgressModel",
      "_view_count": null,
      "_view_module": "@jupyter-widgets/controls",
      "_view_module_version": "1.5.0",
      "_view_name": "ProgressView",
      "bar_style": "",
      "description": "100%",
      "description_tooltip": null,
      "layout": "IPY_MODEL_451c9229dcf54e4bacc629faf1f9e17b",
      "max": 7189,
      "min": 0,
      "orientation": "horizontal",
      "style": "IPY_MODEL_f28a8e61f5d74464ae61198aba7f84fa",
      "value": 7189
     }
    },
    "fc6340bcbb9b4bfe838b569bbe59e920": {
     "model_module": "@jupyter-widgets/base",
     "model_name": "LayoutModel",
     "state": {
      "_model_module": "@jupyter-widgets/base",
      "_model_module_version": "1.2.0",
      "_model_name": "LayoutModel",
      "_view_count": null,
      "_view_module": "@jupyter-widgets/base",
      "_view_module_version": "1.2.0",
      "_view_name": "LayoutView",
      "align_content": null,
      "align_items": null,
      "align_self": null,
      "border": null,
      "bottom": null,
      "display": null,
      "flex": null,
      "flex_flow": null,
      "grid_area": null,
      "grid_auto_columns": null,
      "grid_auto_flow": null,
      "grid_auto_rows": null,
      "grid_column": null,
      "grid_gap": null,
      "grid_row": null,
      "grid_template_areas": null,
      "grid_template_columns": null,
      "grid_template_rows": null,
      "height": null,
      "justify_content": null,
      "justify_items": null,
      "left": null,
      "margin": null,
      "max_height": null,
      "max_width": null,
      "min_height": null,
      "min_width": null,
      "object_fit": null,
      "object_position": null,
      "order": null,
      "overflow": null,
      "overflow_x": null,
      "overflow_y": null,
      "padding": null,
      "right": null,
      "top": null,
      "visibility": null,
      "width": null
     }
    }
   }
  }
 },
 "nbformat": 4,
 "nbformat_minor": 1
}
